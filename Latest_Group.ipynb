{
 "cells": [
  {
   "cell_type": "markdown",
   "id": "8b637c3d",
   "metadata": {},
   "source": [
    "<h2> Part 1 Explore Data </h2>"
   ]
  },
  {
   "cell_type": "code",
   "execution_count": 1,
   "id": "72bdefa5",
   "metadata": {},
   "outputs": [],
   "source": [
    "import pandas as pd\n",
    "import numpy as np\n",
    "import os\n",
    "import seaborn as sns\n",
    "import matplotlib.pyplot as plt\n",
    "import io"
   ]
  },
  {
   "cell_type": "code",
   "execution_count": 2,
   "id": "623f03cc",
   "metadata": {},
   "outputs": [
    {
     "data": {
      "text/plain": [
       "'C:\\\\Users\\\\FOOJINNY\\\\Documents\\\\Python for Business'"
      ]
     },
     "execution_count": 2,
     "metadata": {},
     "output_type": "execute_result"
    }
   ],
   "source": [
    "os.getcwd()"
   ]
  },
  {
   "cell_type": "code",
   "execution_count": 3,
   "id": "61ee9505",
   "metadata": {},
   "outputs": [
    {
     "name": "stdout",
     "output_type": "stream",
     "text": [
      "['.ipynb_checkpoints', 'Assignment1(1) (1).ipynb', 'Assignment1.ipynb', 'AutomobileData-Lesson5.csv', 'cars.csv', 'chocolate.csv', 'climate.txt', 'climate_results.txt', 'data', 'data4', 'DataOnly.csv', 'data_old', 'df4.csv', 'diamonds.csv', 'dragon', 'Exercise - W3Resources.ipynb', 'exercise.csv', 'fmri.csv', 'folders', 'FooJinny_Assignment_Individual(17041468).ipynb', 'Group Assignment', 'GroupAssignment_1.ipynb', 'Group_Assigment_New-Copy1.ipynb', 'Group_Assigment_New.ipynb', 'Group_Assignment.ipynb', 'insurance.csv', 'iris.csv', 'italy-covid-daywise.csv', 'Latest_Group.ipynb', 'Lesson 1 - first-steps-with-python-Sunway.ipynb', 'Lesson 2 - python_variables_and_data_types-Sunway.ipynb', 'Lesson 6  -Numpy-Sch.ipynb', 'Lesson3-Python_branching_and_loops-Sunway.ipynb', 'Lesson4-python_functions_and_scope-Sunway.ipynb', 'Lesson5-FileIO-Sch-Ver2-4Students.ipynb', 'Lesson5-Python_os_and_filesystem-Sunway.ipynb', 'Lesson7-Pandas.ipynb', 'Lesson8&9-DataVisualisationwithPython-Ver3-4Students (1).ipynb', 'loans1.txt', 'loans2.txt', 'loans3.txt', 'locations.csv', 'movies.csv', 'movies2.csv', 'mpg.csv', 'MyFirstFigure.png', 'names_raw.txt', 'olympics_events.csv', 'olympics_games.csv', 'results.csv', 'salaries.txt', 'sales.xlsx', 'stocks.json', 'student-mat.csv', 'student-merge.R', 'student-por.csv', 'telecom_churn.csv', 'temp.txt', 'tips.csv', 'titanic.csv', 'trying.txt', 'Untitled.ipynb', 'Untitled1.ipynb']\n"
     ]
    }
   ],
   "source": [
    "print(os.listdir())"
   ]
  },
  {
   "cell_type": "code",
   "execution_count": 4,
   "id": "623d789e",
   "metadata": {},
   "outputs": [],
   "source": [
    "pd.set_option('display.max_columns', None)\n",
    "#pd.set_option('display_max_rows', None)\n",
    "\n",
    "raw_data = pd.read_csv (\"DataOnly.csv\")"
   ]
  },
  {
   "cell_type": "code",
   "execution_count": 5,
   "id": "a375ea30",
   "metadata": {},
   "outputs": [
    {
     "name": "stdout",
     "output_type": "stream",
     "text": [
      "<class 'pandas.core.frame.DataFrame'>\n",
      "RangeIndex: 1116 entries, 0 to 1115\n",
      "Data columns (total 32 columns):\n",
      " #   Column            Non-Null Count  Dtype  \n",
      "---  ------            --------------  -----  \n",
      " 0   Period            1116 non-null   object \n",
      " 1   Document type     1116 non-null   object \n",
      " 2   TALA Category     1116 non-null   object \n",
      " 3   Direction         1116 non-null   object \n",
      " 4   Items_group       1116 non-null   object \n",
      " 5   Item              1116 non-null   object \n",
      " 6   On-hand quantity  1116 non-null   object \n",
      " 7   Qty_in_stock      1116 non-null   object \n",
      " 8   Receipt_quantity  1116 non-null   object \n",
      " 9   Stock_Value       1116 non-null   object \n",
      " 10  Issue_quantity    1116 non-null   object \n",
      " 11  Unnamed: 11       5 non-null      object \n",
      " 12  Unnamed: 12       5 non-null      object \n",
      " 13  Unnamed: 13       5 non-null      object \n",
      " 14  Unnamed: 14       5 non-null      object \n",
      " 15  Unnamed: 15       5 non-null      object \n",
      " 16  Unnamed: 16       5 non-null      object \n",
      " 17  Unnamed: 17       5 non-null      float64\n",
      " 18  Unnamed: 18       5 non-null      float64\n",
      " 19  Unnamed: 19       5 non-null      float64\n",
      " 20  Unnamed: 20       5 non-null      float64\n",
      " 21  Unnamed: 21       5 non-null      float64\n",
      " 22  Unnamed: 22       0 non-null      float64\n",
      " 23  Unnamed: 23       0 non-null      float64\n",
      " 24  Unnamed: 24       0 non-null      float64\n",
      " 25  Unnamed: 25       0 non-null      float64\n",
      " 26  Unnamed: 26       0 non-null      float64\n",
      " 27  Unnamed: 27       0 non-null      float64\n",
      " 28  Unnamed: 28       0 non-null      float64\n",
      " 29  Unnamed: 29       0 non-null      float64\n",
      " 30  Unnamed: 30       0 non-null      float64\n",
      " 31  Unnamed: 31       0 non-null      float64\n",
      "dtypes: float64(15), object(17)\n",
      "memory usage: 279.1+ KB\n"
     ]
    }
   ],
   "source": [
    "raw_data.info()"
   ]
  },
  {
   "cell_type": "markdown",
   "id": "3cdf05e0",
   "metadata": {},
   "source": [
    "<h3> Part 1.1 Check All Columns Values </h3>"
   ]
  },
  {
   "cell_type": "code",
   "execution_count": 6,
   "id": "735124e1",
   "metadata": {},
   "outputs": [
    {
     "data": {
      "text/plain": [
       "Index(['Period', 'Document type', 'TALA Category', 'Direction', 'Items_group',\n",
       "       'Item', 'On-hand quantity', 'Qty_in_stock', 'Receipt_quantity',\n",
       "       'Stock_Value', 'Issue_quantity', 'Unnamed: 11', 'Unnamed: 12',\n",
       "       'Unnamed: 13', 'Unnamed: 14', 'Unnamed: 15', 'Unnamed: 16',\n",
       "       'Unnamed: 17', 'Unnamed: 18', 'Unnamed: 19', 'Unnamed: 20',\n",
       "       'Unnamed: 21', 'Unnamed: 22', 'Unnamed: 23', 'Unnamed: 24',\n",
       "       'Unnamed: 25', 'Unnamed: 26', 'Unnamed: 27', 'Unnamed: 28',\n",
       "       'Unnamed: 29', 'Unnamed: 30', 'Unnamed: 31'],\n",
       "      dtype='object')"
      ]
     },
     "execution_count": 6,
     "metadata": {},
     "output_type": "execute_result"
    }
   ],
   "source": [
    "raw_data.columns"
   ]
  },
  {
   "cell_type": "code",
   "execution_count": 7,
   "id": "27315ba5",
   "metadata": {},
   "outputs": [
    {
     "data": {
      "text/plain": [
       "Period               object\n",
       "Document type        object\n",
       "TALA Category        object\n",
       "Direction            object\n",
       "Items_group          object\n",
       "Item                 object\n",
       "On-hand quantity     object\n",
       "Qty_in_stock         object\n",
       "Receipt_quantity     object\n",
       "Stock_Value          object\n",
       "Issue_quantity       object\n",
       "Unnamed: 11          object\n",
       "Unnamed: 12          object\n",
       "Unnamed: 13          object\n",
       "Unnamed: 14          object\n",
       "Unnamed: 15          object\n",
       "Unnamed: 16          object\n",
       "Unnamed: 17         float64\n",
       "Unnamed: 18         float64\n",
       "Unnamed: 19         float64\n",
       "Unnamed: 20         float64\n",
       "Unnamed: 21         float64\n",
       "Unnamed: 22         float64\n",
       "Unnamed: 23         float64\n",
       "Unnamed: 24         float64\n",
       "Unnamed: 25         float64\n",
       "Unnamed: 26         float64\n",
       "Unnamed: 27         float64\n",
       "Unnamed: 28         float64\n",
       "Unnamed: 29         float64\n",
       "Unnamed: 30         float64\n",
       "Unnamed: 31         float64\n",
       "dtype: object"
      ]
     },
     "execution_count": 7,
     "metadata": {},
     "output_type": "execute_result"
    }
   ],
   "source": [
    "raw_data.dtypes"
   ]
  },
  {
   "cell_type": "markdown",
   "id": "eedd9ca4",
   "metadata": {},
   "source": [
    "<h4> Part 1.1.1 Remove Unnamed Columns </h4>"
   ]
  },
  {
   "cell_type": "code",
   "execution_count": 8,
   "id": "a8a4114b",
   "metadata": {
    "scrolled": false
   },
   "outputs": [
    {
     "data": {
      "text/html": [
       "<div>\n",
       "<style scoped>\n",
       "    .dataframe tbody tr th:only-of-type {\n",
       "        vertical-align: middle;\n",
       "    }\n",
       "\n",
       "    .dataframe tbody tr th {\n",
       "        vertical-align: top;\n",
       "    }\n",
       "\n",
       "    .dataframe thead th {\n",
       "        text-align: right;\n",
       "    }\n",
       "</style>\n",
       "<table border=\"1\" class=\"dataframe\">\n",
       "  <thead>\n",
       "    <tr style=\"text-align: right;\">\n",
       "      <th></th>\n",
       "      <th>Period</th>\n",
       "      <th>Document type</th>\n",
       "      <th>TALA Category</th>\n",
       "      <th>Direction</th>\n",
       "      <th>Items_group</th>\n",
       "      <th>Item</th>\n",
       "      <th>On-hand quantity</th>\n",
       "      <th>Qty_in_stock</th>\n",
       "      <th>Receipt_quantity</th>\n",
       "      <th>Stock_Value</th>\n",
       "      <th>Issue_quantity</th>\n",
       "    </tr>\n",
       "  </thead>\n",
       "  <tbody>\n",
       "    <tr>\n",
       "      <th>0</th>\n",
       "      <td>Q1 2020/21</td>\n",
       "      <td>Miscellaneous receipt</td>\n",
       "      <td>PA</td>\n",
       "      <td>Incoming</td>\n",
       "      <td>Finished Material</td>\n",
       "      <td>8338-15/F/244</td>\n",
       "      <td>0</td>\n",
       "      <td>0</td>\n",
       "      <td>1</td>\n",
       "      <td>5.5537</td>\n",
       "      <td>0</td>\n",
       "    </tr>\n",
       "    <tr>\n",
       "      <th>1</th>\n",
       "      <td>Q1 2020/21</td>\n",
       "      <td>Miscellaneous receipt</td>\n",
       "      <td>PA</td>\n",
       "      <td>Incoming</td>\n",
       "      <td>Finished Material</td>\n",
       "      <td>CLAR16177A-61/F/1340</td>\n",
       "      <td>2010</td>\n",
       "      <td>14272.34</td>\n",
       "      <td>2010</td>\n",
       "      <td>13759.53138</td>\n",
       "      <td>0</td>\n",
       "    </tr>\n",
       "    <tr>\n",
       "      <th>2</th>\n",
       "      <td>Q1 2020/21</td>\n",
       "      <td>Miscellaneous receipt</td>\n",
       "      <td>PA</td>\n",
       "      <td>Incoming</td>\n",
       "      <td>Finished Material</td>\n",
       "      <td>CLAR16489B-15/F/218</td>\n",
       "      <td>414</td>\n",
       "      <td>0</td>\n",
       "      <td>414</td>\n",
       "      <td>2093.0184</td>\n",
       "      <td>0</td>\n",
       "    </tr>\n",
       "    <tr>\n",
       "      <th>3</th>\n",
       "      <td>Q1 2020/21</td>\n",
       "      <td>Miscellaneous receipt</td>\n",
       "      <td>PA</td>\n",
       "      <td>Incoming</td>\n",
       "      <td>Finished Material</td>\n",
       "      <td>CLAR16489B-15/F/218W</td>\n",
       "      <td>65</td>\n",
       "      <td>0</td>\n",
       "      <td>1144</td>\n",
       "      <td>8767.1584</td>\n",
       "      <td>0</td>\n",
       "    </tr>\n",
       "    <tr>\n",
       "      <th>4</th>\n",
       "      <td>Q1 2020/21</td>\n",
       "      <td>Miscellaneous receipt</td>\n",
       "      <td>PA</td>\n",
       "      <td>Incoming</td>\n",
       "      <td>Finished Material</td>\n",
       "      <td>CORR11477A-15/F209EP</td>\n",
       "      <td>1881</td>\n",
       "      <td>0</td>\n",
       "      <td>1881</td>\n",
       "      <td>16277.4216</td>\n",
       "      <td>0</td>\n",
       "    </tr>\n",
       "    <tr>\n",
       "      <th>...</th>\n",
       "      <td>...</td>\n",
       "      <td>...</td>\n",
       "      <td>...</td>\n",
       "      <td>...</td>\n",
       "      <td>...</td>\n",
       "      <td>...</td>\n",
       "      <td>...</td>\n",
       "      <td>...</td>\n",
       "      <td>...</td>\n",
       "      <td>...</td>\n",
       "      <td>...</td>\n",
       "    </tr>\n",
       "    <tr>\n",
       "      <th>1111</th>\n",
       "      <td>Q4 2021/22</td>\n",
       "      <td>Supplier receipt</td>\n",
       "      <td>PC</td>\n",
       "      <td>Outgoing</td>\n",
       "      <td>Finished Material</td>\n",
       "      <td>Y-MY004/F/275</td>\n",
       "      <td>-21600</td>\n",
       "      <td>24340</td>\n",
       "      <td>0</td>\n",
       "      <td>-48940.5672</td>\n",
       "      <td>21600</td>\n",
       "    </tr>\n",
       "    <tr>\n",
       "      <th>1112</th>\n",
       "      <td>Q4 2021/22</td>\n",
       "      <td>Supplier receipt</td>\n",
       "      <td>PC</td>\n",
       "      <td>Outgoing</td>\n",
       "      <td>Raw Materials</td>\n",
       "      <td>R-3533-15H/F/184</td>\n",
       "      <td>-3680</td>\n",
       "      <td>2472.64</td>\n",
       "      <td>0</td>\n",
       "      <td>-33941.10368</td>\n",
       "      <td>3680</td>\n",
       "    </tr>\n",
       "    <tr>\n",
       "      <th>1113</th>\n",
       "      <td>Q4 2021/22</td>\n",
       "      <td>Supplier receipt</td>\n",
       "      <td>PC</td>\n",
       "      <td>Outgoing</td>\n",
       "      <td>Raw Materials</td>\n",
       "      <td>R-5435-61/F/1000</td>\n",
       "      <td>-36000</td>\n",
       "      <td>114877</td>\n",
       "      <td>0</td>\n",
       "      <td>-373404.96</td>\n",
       "      <td>36000</td>\n",
       "    </tr>\n",
       "    <tr>\n",
       "      <th>1114</th>\n",
       "      <td>Q4 2021/22</td>\n",
       "      <td>Supplier receipt</td>\n",
       "      <td>PC</td>\n",
       "      <td>Outgoing</td>\n",
       "      <td>Raw Materials</td>\n",
       "      <td>R-6532-15/F/180</td>\n",
       "      <td>-2160</td>\n",
       "      <td>3420</td>\n",
       "      <td>0</td>\n",
       "      <td>-75288.21048</td>\n",
       "      <td>2160</td>\n",
       "    </tr>\n",
       "    <tr>\n",
       "      <th>1115</th>\n",
       "      <td>Q4 2021/22</td>\n",
       "      <td>Supplier receipt</td>\n",
       "      <td>PC</td>\n",
       "      <td>Outgoing</td>\n",
       "      <td>Services</td>\n",
       "      <td>Z-PF07</td>\n",
       "      <td>-1</td>\n",
       "      <td>3</td>\n",
       "      <td>0</td>\n",
       "      <td>-1200.41148</td>\n",
       "      <td>1</td>\n",
       "    </tr>\n",
       "  </tbody>\n",
       "</table>\n",
       "<p>1116 rows × 11 columns</p>\n",
       "</div>"
      ],
      "text/plain": [
       "          Period          Document type TALA Category Direction  \\\n",
       "0     Q1 2020/21  Miscellaneous receipt            PA  Incoming   \n",
       "1     Q1 2020/21  Miscellaneous receipt            PA  Incoming   \n",
       "2     Q1 2020/21  Miscellaneous receipt            PA  Incoming   \n",
       "3     Q1 2020/21  Miscellaneous receipt            PA  Incoming   \n",
       "4     Q1 2020/21  Miscellaneous receipt            PA  Incoming   \n",
       "...          ...                    ...           ...       ...   \n",
       "1111  Q4 2021/22       Supplier receipt            PC  Outgoing   \n",
       "1112  Q4 2021/22       Supplier receipt            PC  Outgoing   \n",
       "1113  Q4 2021/22       Supplier receipt            PC  Outgoing   \n",
       "1114  Q4 2021/22       Supplier receipt            PC  Outgoing   \n",
       "1115  Q4 2021/22       Supplier receipt            PC  Outgoing   \n",
       "\n",
       "            Items_group                  Item On-hand quantity Qty_in_stock  \\\n",
       "0     Finished Material         8338-15/F/244                0            0   \n",
       "1     Finished Material  CLAR16177A-61/F/1340             2010     14272.34   \n",
       "2     Finished Material   CLAR16489B-15/F/218              414            0   \n",
       "3     Finished Material  CLAR16489B-15/F/218W               65            0   \n",
       "4     Finished Material  CORR11477A-15/F209EP             1881            0   \n",
       "...                 ...                   ...              ...          ...   \n",
       "1111  Finished Material         Y-MY004/F/275           -21600        24340   \n",
       "1112      Raw Materials      R-3533-15H/F/184            -3680      2472.64   \n",
       "1113      Raw Materials      R-5435-61/F/1000           -36000       114877   \n",
       "1114      Raw Materials       R-6532-15/F/180            -2160         3420   \n",
       "1115           Services                Z-PF07               -1            3   \n",
       "\n",
       "     Receipt_quantity   Stock_Value Issue_quantity  \n",
       "0                   1        5.5537              0  \n",
       "1                2010   13759.53138              0  \n",
       "2                 414     2093.0184              0  \n",
       "3                1144     8767.1584              0  \n",
       "4                1881    16277.4216              0  \n",
       "...               ...           ...            ...  \n",
       "1111                0   -48940.5672          21600  \n",
       "1112                0  -33941.10368           3680  \n",
       "1113                0    -373404.96          36000  \n",
       "1114                0  -75288.21048           2160  \n",
       "1115                0   -1200.41148              1  \n",
       "\n",
       "[1116 rows x 11 columns]"
      ]
     },
     "execution_count": 8,
     "metadata": {},
     "output_type": "execute_result"
    }
   ],
   "source": [
    "#remove unnamed columns \n",
    "\n",
    "raw_data_subset = raw_data [['Period', 'Document type', 'TALA Category', 'Direction', 'Items_group', 'Item',\n",
    "                             'On-hand quantity', 'Qty_in_stock', 'Receipt_quantity','Stock_Value', 'Issue_quantity']]\n",
    "    \n",
    "raw_data_subset"
   ]
  },
  {
   "cell_type": "markdown",
   "id": "ff6c3e82",
   "metadata": {},
   "source": [
    "<h4> Part 1.1.2 Columns : Period </h4>"
   ]
  },
  {
   "cell_type": "code",
   "execution_count": 9,
   "id": "445a3962",
   "metadata": {},
   "outputs": [
    {
     "data": {
      "text/plain": [
       "Q4 2021/22    171\n",
       "Q4 2020/21    157\n",
       "Q2 2020/21    146\n",
       "Q1 2021/22    145\n",
       "Q1 2020/21    138\n",
       "Q3 2020/21    134\n",
       "Q3 2021/22    109\n",
       "Q2 2021/22    101\n",
       "                6\n",
       "Q1 2023/24      4\n",
       "Q4 2022/23      2\n",
       "Q4 2020/25      1\n",
       "Q5 2020/21      1\n",
       "Q6 2020/21      1\n",
       "Name: Period, dtype: int64"
      ]
     },
     "execution_count": 9,
     "metadata": {},
     "output_type": "execute_result"
    }
   ],
   "source": [
    "#check 'Period' columns for blank values\n",
    "\n",
    "raw_data_subset['Period'].value_counts()"
   ]
  },
  {
   "cell_type": "markdown",
   "id": "1b734e46",
   "metadata": {},
   "source": [
    "<h4> Part 1.1.3 Columns : Document type </h4>"
   ]
  },
  {
   "cell_type": "code",
   "execution_count": 10,
   "id": "a7e8a1a1",
   "metadata": {},
   "outputs": [
    {
     "data": {
      "text/plain": [
       "Supplier receipt         666\n",
       "Miscellaneous receipt    264\n",
       "Miscellaneous issue      180\n",
       "                           6\n",
       "Name: Document type, dtype: int64"
      ]
     },
     "execution_count": 10,
     "metadata": {},
     "output_type": "execute_result"
    }
   ],
   "source": [
    "#check 'Document type' columns for blank values\n",
    "\n",
    "raw_data_subset['Document type'].value_counts()"
   ]
  },
  {
   "cell_type": "markdown",
   "id": "7f3ac4be",
   "metadata": {},
   "source": [
    "<h4> Part 1.1.4 Columns : TALA Category </h4>"
   ]
  },
  {
   "cell_type": "code",
   "execution_count": 11,
   "id": "850b6b66",
   "metadata": {},
   "outputs": [
    {
     "data": {
      "text/plain": [
       "PC    616\n",
       "PA    482\n",
       "PB     12\n",
       "        6\n",
       "Name: TALA Category, dtype: int64"
      ]
     },
     "execution_count": 11,
     "metadata": {},
     "output_type": "execute_result"
    }
   ],
   "source": [
    "#check 'TALA Category' columns for blank values\n",
    "\n",
    "raw_data_subset['TALA Category'].value_counts()"
   ]
  },
  {
   "cell_type": "markdown",
   "id": "29f75154",
   "metadata": {},
   "source": [
    "<h4> Part 1.1.5 Columns : Direction </h4>"
   ]
  },
  {
   "cell_type": "code",
   "execution_count": 12,
   "id": "a463e94d",
   "metadata": {},
   "outputs": [
    {
     "data": {
      "text/plain": [
       "Incoming    711\n",
       "Outgoing    399\n",
       "              6\n",
       "Name: Direction, dtype: int64"
      ]
     },
     "execution_count": 12,
     "metadata": {},
     "output_type": "execute_result"
    }
   ],
   "source": [
    "#check 'Direction' columns for blank values\n",
    "\n",
    "raw_data_subset['Direction'].value_counts()"
   ]
  },
  {
   "cell_type": "markdown",
   "id": "b6abba7b",
   "metadata": {},
   "source": [
    "<h4> Part 1.1.6 Columns : Items_group </h4>"
   ]
  },
  {
   "cell_type": "code",
   "execution_count": 13,
   "id": "20aa9f66",
   "metadata": {},
   "outputs": [
    {
     "data": {
      "text/plain": [
       "Finished Material    568\n",
       "Raw Materials        296\n",
       "Services             224\n",
       "Packing Materials     23\n",
       "xxx                    5\n",
       "Name: Items_group, dtype: int64"
      ]
     },
     "execution_count": 13,
     "metadata": {},
     "output_type": "execute_result"
    }
   ],
   "source": [
    "#check 'Items_group' columns for blank values\n",
    "\n",
    "raw_data_subset['Items_group'].value_counts()"
   ]
  },
  {
   "cell_type": "markdown",
   "id": "354d342c",
   "metadata": {},
   "source": [
    "<h4> Part 1.1.7 Columns : Item </h4>"
   ]
  },
  {
   "cell_type": "code",
   "execution_count": 14,
   "id": "6532ade7",
   "metadata": {},
   "outputs": [
    {
     "data": {
      "text/plain": [
       "EMBR18451A-61/F/1060    21\n",
       "Y-MY0032/F/178          19\n",
       "Y-MY007/F/1400          19\n",
       "Y-MY0015/F/270/SHELL    17\n",
       "L-844M-15/F/204/TML     17\n",
       "                        ..\n",
       "EC6097A-15/F/186         1\n",
       "EC6020A-15/F/197         1\n",
       "EC2048A-15/F/202         1\n",
       "DVE4K016-15/F/210        1\n",
       "S-009-15/F/225           1\n",
       "Name: Item, Length: 238, dtype: int64"
      ]
     },
     "execution_count": 14,
     "metadata": {},
     "output_type": "execute_result"
    }
   ],
   "source": [
    "#check 'Item' columns for blank values\n",
    "\n",
    "raw_data_subset['Item'].value_counts()"
   ]
  },
  {
   "cell_type": "markdown",
   "id": "21eeca11",
   "metadata": {},
   "source": [
    "<h4> Part 1.1.8 Columns : On-hand quantity </h4>"
   ]
  },
  {
   "cell_type": "code",
   "execution_count": 15,
   "id": "bceb6bce",
   "metadata": {},
   "outputs": [
    {
     "data": {
      "text/plain": [
       "1         14\n",
       "300       13\n",
       "-150      12\n",
       "-2        12\n",
       "2         11\n",
       "          ..\n",
       "71140      1\n",
       "2230       1\n",
       "130000     1\n",
       "14062      1\n",
       "-2160      1\n",
       "Name: On-hand quantity, Length: 754, dtype: int64"
      ]
     },
     "execution_count": 15,
     "metadata": {},
     "output_type": "execute_result"
    }
   ],
   "source": [
    "#check 'On-hand quantity' columns for blank values\n",
    "\n",
    "raw_data_subset['On-hand quantity'].value_counts()"
   ]
  },
  {
   "cell_type": "markdown",
   "id": "140f5a86",
   "metadata": {},
   "source": [
    "<h4> Part 1.1.9 Columns : Qty_in_stock </h4>"
   ]
  },
  {
   "cell_type": "code",
   "execution_count": 16,
   "id": "bea4a4fe",
   "metadata": {},
   "outputs": [
    {
     "data": {
      "text/plain": [
       "0           379\n",
       "809           8\n",
       "3567          8\n",
       "1399          8\n",
       "4412          7\n",
       "           ... \n",
       "42817.02      1\n",
       "293436        1\n",
       "15075         1\n",
       "8665          1\n",
       "114877        1\n",
       "Name: Qty_in_stock, Length: 364, dtype: int64"
      ]
     },
     "execution_count": 16,
     "metadata": {},
     "output_type": "execute_result"
    }
   ],
   "source": [
    "#check 'Qty_in_stock' columns for blank values\n",
    "\n",
    "raw_data_subset['Qty_in_stock'].value_counts()"
   ]
  },
  {
   "cell_type": "markdown",
   "id": "2a6da2a2",
   "metadata": {},
   "source": [
    "<h4> Part 1.1.10 Columns : Receipt_quantity </h4>"
   ]
  },
  {
   "cell_type": "code",
   "execution_count": 17,
   "id": "ff1a4900",
   "metadata": {},
   "outputs": [
    {
     "data": {
      "text/plain": [
       "0        399\n",
       "1         15\n",
       "300       13\n",
       "3         10\n",
       "4         10\n",
       "        ... \n",
       "71140      1\n",
       "5175       1\n",
       "8946       1\n",
       "3672       1\n",
       "16848      1\n",
       "Name: Receipt_quantity, Length: 483, dtype: int64"
      ]
     },
     "execution_count": 17,
     "metadata": {},
     "output_type": "execute_result"
    }
   ],
   "source": [
    "#check 'Receipt_quantity' columns for blank values\n",
    "\n",
    "raw_data_subset['Receipt_quantity'].value_counts()"
   ]
  },
  {
   "cell_type": "markdown",
   "id": "a81779e9",
   "metadata": {},
   "source": [
    "<h4> Part 1.1.11 Columns : Stock_Value </h4>"
   ]
  },
  {
   "cell_type": "code",
   "execution_count": 18,
   "id": "eefff883",
   "metadata": {},
   "outputs": [
    {
     "data": {
      "text/plain": [
       "0              10\n",
       "                6\n",
       "-1358.1062      4\n",
       "2716.2124       4\n",
       "1818777.172     3\n",
       "               ..\n",
       "3910.819128     1\n",
       "109927.35       1\n",
       "25979.28464     1\n",
       "110076.251      1\n",
       "-1200.41148     1\n",
       "Name: Stock_Value, Length: 981, dtype: int64"
      ]
     },
     "execution_count": 18,
     "metadata": {},
     "output_type": "execute_result"
    }
   ],
   "source": [
    "#check 'Stock_Value' columns for blank values\n",
    "\n",
    "raw_data_subset['Stock_Value'].value_counts()"
   ]
  },
  {
   "cell_type": "markdown",
   "id": "b8138d67",
   "metadata": {},
   "source": [
    "<h4> Part 1.1.12 Columns : Issue_quantity </h4>"
   ]
  },
  {
   "cell_type": "code",
   "execution_count": 19,
   "id": "ff9fff0c",
   "metadata": {},
   "outputs": [
    {
     "data": {
      "text/plain": [
       "0        710\n",
       "150       12\n",
       "2         12\n",
       "21600      8\n",
       "100        7\n",
       "        ... \n",
       "232        1\n",
       "2448       1\n",
       "0.2        1\n",
       "91.8       1\n",
       "2160       1\n",
       "Name: Issue_quantity, Length: 294, dtype: int64"
      ]
     },
     "execution_count": 19,
     "metadata": {},
     "output_type": "execute_result"
    }
   ],
   "source": [
    "#check 'Issue_quantity' columns for blank values\n",
    "\n",
    "raw_data_subset['Issue_quantity'].value_counts()"
   ]
  },
  {
   "cell_type": "markdown",
   "id": "c175973a",
   "metadata": {},
   "source": [
    "<h3> Part 1.2 Rename Header Names </h3>"
   ]
  },
  {
   "cell_type": "code",
   "execution_count": 20,
   "id": "a6803ed0",
   "metadata": {},
   "outputs": [
    {
     "data": {
      "text/html": [
       "<div>\n",
       "<style scoped>\n",
       "    .dataframe tbody tr th:only-of-type {\n",
       "        vertical-align: middle;\n",
       "    }\n",
       "\n",
       "    .dataframe tbody tr th {\n",
       "        vertical-align: top;\n",
       "    }\n",
       "\n",
       "    .dataframe thead th {\n",
       "        text-align: right;\n",
       "    }\n",
       "</style>\n",
       "<table border=\"1\" class=\"dataframe\">\n",
       "  <thead>\n",
       "    <tr style=\"text-align: right;\">\n",
       "      <th></th>\n",
       "      <th>Period</th>\n",
       "      <th>Document type</th>\n",
       "      <th>TALA Category</th>\n",
       "      <th>Direction</th>\n",
       "      <th>Items_group</th>\n",
       "      <th>Item</th>\n",
       "      <th>On-hand quantity</th>\n",
       "      <th>Qty_in_stock</th>\n",
       "      <th>Receipt_quantity</th>\n",
       "      <th>Stock_Value</th>\n",
       "      <th>Issue_quantity</th>\n",
       "    </tr>\n",
       "  </thead>\n",
       "  <tbody>\n",
       "    <tr>\n",
       "      <th>0</th>\n",
       "      <td>Q1 2020/21</td>\n",
       "      <td>Miscellaneous receipt</td>\n",
       "      <td>PA</td>\n",
       "      <td>Incoming</td>\n",
       "      <td>Finished Material</td>\n",
       "      <td>8338-15/F/244</td>\n",
       "      <td>0</td>\n",
       "      <td>0</td>\n",
       "      <td>1</td>\n",
       "      <td>5.5537</td>\n",
       "      <td>0</td>\n",
       "    </tr>\n",
       "    <tr>\n",
       "      <th>1</th>\n",
       "      <td>Q1 2020/21</td>\n",
       "      <td>Miscellaneous receipt</td>\n",
       "      <td>PA</td>\n",
       "      <td>Incoming</td>\n",
       "      <td>Finished Material</td>\n",
       "      <td>CLAR16177A-61/F/1340</td>\n",
       "      <td>2010</td>\n",
       "      <td>14272.34</td>\n",
       "      <td>2010</td>\n",
       "      <td>13759.53138</td>\n",
       "      <td>0</td>\n",
       "    </tr>\n",
       "    <tr>\n",
       "      <th>2</th>\n",
       "      <td>Q1 2020/21</td>\n",
       "      <td>Miscellaneous receipt</td>\n",
       "      <td>PA</td>\n",
       "      <td>Incoming</td>\n",
       "      <td>Finished Material</td>\n",
       "      <td>CLAR16489B-15/F/218</td>\n",
       "      <td>414</td>\n",
       "      <td>0</td>\n",
       "      <td>414</td>\n",
       "      <td>2093.0184</td>\n",
       "      <td>0</td>\n",
       "    </tr>\n",
       "    <tr>\n",
       "      <th>3</th>\n",
       "      <td>Q1 2020/21</td>\n",
       "      <td>Miscellaneous receipt</td>\n",
       "      <td>PA</td>\n",
       "      <td>Incoming</td>\n",
       "      <td>Finished Material</td>\n",
       "      <td>CLAR16489B-15/F/218W</td>\n",
       "      <td>65</td>\n",
       "      <td>0</td>\n",
       "      <td>1144</td>\n",
       "      <td>8767.1584</td>\n",
       "      <td>0</td>\n",
       "    </tr>\n",
       "    <tr>\n",
       "      <th>4</th>\n",
       "      <td>Q1 2020/21</td>\n",
       "      <td>Miscellaneous receipt</td>\n",
       "      <td>PA</td>\n",
       "      <td>Incoming</td>\n",
       "      <td>Finished Material</td>\n",
       "      <td>CORR11477A-15/F209EP</td>\n",
       "      <td>1881</td>\n",
       "      <td>0</td>\n",
       "      <td>1881</td>\n",
       "      <td>16277.4216</td>\n",
       "      <td>0</td>\n",
       "    </tr>\n",
       "  </tbody>\n",
       "</table>\n",
       "</div>"
      ],
      "text/plain": [
       "       Period          Document type TALA Category Direction  \\\n",
       "0  Q1 2020/21  Miscellaneous receipt            PA  Incoming   \n",
       "1  Q1 2020/21  Miscellaneous receipt            PA  Incoming   \n",
       "2  Q1 2020/21  Miscellaneous receipt            PA  Incoming   \n",
       "3  Q1 2020/21  Miscellaneous receipt            PA  Incoming   \n",
       "4  Q1 2020/21  Miscellaneous receipt            PA  Incoming   \n",
       "\n",
       "         Items_group                  Item On-hand quantity Qty_in_stock  \\\n",
       "0  Finished Material         8338-15/F/244                0            0   \n",
       "1  Finished Material  CLAR16177A-61/F/1340             2010     14272.34   \n",
       "2  Finished Material   CLAR16489B-15/F/218              414            0   \n",
       "3  Finished Material  CLAR16489B-15/F/218W               65            0   \n",
       "4  Finished Material  CORR11477A-15/F209EP             1881            0   \n",
       "\n",
       "  Receipt_quantity  Stock_Value Issue_quantity  \n",
       "0                1       5.5537              0  \n",
       "1             2010  13759.53138              0  \n",
       "2              414    2093.0184              0  \n",
       "3             1144    8767.1584              0  \n",
       "4             1881   16277.4216              0  "
      ]
     },
     "execution_count": 20,
     "metadata": {},
     "output_type": "execute_result"
    }
   ],
   "source": [
    "raw_data_subset.head()"
   ]
  },
  {
   "cell_type": "code",
   "execution_count": 21,
   "id": "44f16a37",
   "metadata": {},
   "outputs": [
    {
     "data": {
      "text/plain": [
       "Index(['Period', 'Document type', 'TALA Category', 'Direction', 'Items_group',\n",
       "       'Item', 'On-hand quantity', 'Qty_in_stock', 'Receipt_quantity',\n",
       "       'Stock_Value', 'Issue_quantity'],\n",
       "      dtype='object')"
      ]
     },
     "execution_count": 21,
     "metadata": {},
     "output_type": "execute_result"
    }
   ],
   "source": [
    "raw_data_subset.columns"
   ]
  },
  {
   "cell_type": "code",
   "execution_count": 22,
   "id": "b38eb6d5",
   "metadata": {},
   "outputs": [],
   "source": [
    "#Change headers name that consists of blank space in between\n",
    "\n",
    "raw_data_subset.columns = raw_data_subset.columns.str.replace(' ','_')"
   ]
  },
  {
   "cell_type": "code",
   "execution_count": 23,
   "id": "d4768ecf",
   "metadata": {},
   "outputs": [
    {
     "data": {
      "text/plain": [
       "Index(['Period', 'Document_type', 'TALA_Category', 'Direction', 'Items_group',\n",
       "       'Item', 'On-hand_quantity', 'Qty_in_stock', 'Receipt_quantity',\n",
       "       'Stock_Value', 'Issue_quantity'],\n",
       "      dtype='object')"
      ]
     },
     "execution_count": 23,
     "metadata": {},
     "output_type": "execute_result"
    }
   ],
   "source": [
    "raw_data_subset.columns"
   ]
  },
  {
   "cell_type": "code",
   "execution_count": 24,
   "id": "0fc24f4f",
   "metadata": {},
   "outputs": [
    {
     "data": {
      "text/html": [
       "<div>\n",
       "<style scoped>\n",
       "    .dataframe tbody tr th:only-of-type {\n",
       "        vertical-align: middle;\n",
       "    }\n",
       "\n",
       "    .dataframe tbody tr th {\n",
       "        vertical-align: top;\n",
       "    }\n",
       "\n",
       "    .dataframe thead th {\n",
       "        text-align: right;\n",
       "    }\n",
       "</style>\n",
       "<table border=\"1\" class=\"dataframe\">\n",
       "  <thead>\n",
       "    <tr style=\"text-align: right;\">\n",
       "      <th></th>\n",
       "      <th>Period</th>\n",
       "      <th>Document_type</th>\n",
       "      <th>TALA_Category</th>\n",
       "      <th>Direction</th>\n",
       "      <th>Items_group</th>\n",
       "      <th>Item</th>\n",
       "      <th>On-hand_quantity</th>\n",
       "      <th>Qty_in_stock</th>\n",
       "      <th>Receipt_quantity</th>\n",
       "      <th>Stock_Value</th>\n",
       "      <th>Issue_quantity</th>\n",
       "    </tr>\n",
       "  </thead>\n",
       "  <tbody>\n",
       "    <tr>\n",
       "      <th>0</th>\n",
       "      <td>Q1 2020/21</td>\n",
       "      <td>Miscellaneous receipt</td>\n",
       "      <td>PA</td>\n",
       "      <td>Incoming</td>\n",
       "      <td>Finished Material</td>\n",
       "      <td>8338-15/F/244</td>\n",
       "      <td>0</td>\n",
       "      <td>0</td>\n",
       "      <td>1</td>\n",
       "      <td>5.5537</td>\n",
       "      <td>0</td>\n",
       "    </tr>\n",
       "    <tr>\n",
       "      <th>1</th>\n",
       "      <td>Q1 2020/21</td>\n",
       "      <td>Miscellaneous receipt</td>\n",
       "      <td>PA</td>\n",
       "      <td>Incoming</td>\n",
       "      <td>Finished Material</td>\n",
       "      <td>CLAR16177A-61/F/1340</td>\n",
       "      <td>2010</td>\n",
       "      <td>14272.34</td>\n",
       "      <td>2010</td>\n",
       "      <td>13759.53138</td>\n",
       "      <td>0</td>\n",
       "    </tr>\n",
       "    <tr>\n",
       "      <th>2</th>\n",
       "      <td>Q1 2020/21</td>\n",
       "      <td>Miscellaneous receipt</td>\n",
       "      <td>PA</td>\n",
       "      <td>Incoming</td>\n",
       "      <td>Finished Material</td>\n",
       "      <td>CLAR16489B-15/F/218</td>\n",
       "      <td>414</td>\n",
       "      <td>0</td>\n",
       "      <td>414</td>\n",
       "      <td>2093.0184</td>\n",
       "      <td>0</td>\n",
       "    </tr>\n",
       "    <tr>\n",
       "      <th>3</th>\n",
       "      <td>Q1 2020/21</td>\n",
       "      <td>Miscellaneous receipt</td>\n",
       "      <td>PA</td>\n",
       "      <td>Incoming</td>\n",
       "      <td>Finished Material</td>\n",
       "      <td>CLAR16489B-15/F/218W</td>\n",
       "      <td>65</td>\n",
       "      <td>0</td>\n",
       "      <td>1144</td>\n",
       "      <td>8767.1584</td>\n",
       "      <td>0</td>\n",
       "    </tr>\n",
       "    <tr>\n",
       "      <th>4</th>\n",
       "      <td>Q1 2020/21</td>\n",
       "      <td>Miscellaneous receipt</td>\n",
       "      <td>PA</td>\n",
       "      <td>Incoming</td>\n",
       "      <td>Finished Material</td>\n",
       "      <td>CORR11477A-15/F209EP</td>\n",
       "      <td>1881</td>\n",
       "      <td>0</td>\n",
       "      <td>1881</td>\n",
       "      <td>16277.4216</td>\n",
       "      <td>0</td>\n",
       "    </tr>\n",
       "  </tbody>\n",
       "</table>\n",
       "</div>"
      ],
      "text/plain": [
       "       Period          Document_type TALA_Category Direction  \\\n",
       "0  Q1 2020/21  Miscellaneous receipt            PA  Incoming   \n",
       "1  Q1 2020/21  Miscellaneous receipt            PA  Incoming   \n",
       "2  Q1 2020/21  Miscellaneous receipt            PA  Incoming   \n",
       "3  Q1 2020/21  Miscellaneous receipt            PA  Incoming   \n",
       "4  Q1 2020/21  Miscellaneous receipt            PA  Incoming   \n",
       "\n",
       "         Items_group                  Item On-hand_quantity Qty_in_stock  \\\n",
       "0  Finished Material         8338-15/F/244                0            0   \n",
       "1  Finished Material  CLAR16177A-61/F/1340             2010     14272.34   \n",
       "2  Finished Material   CLAR16489B-15/F/218              414            0   \n",
       "3  Finished Material  CLAR16489B-15/F/218W               65            0   \n",
       "4  Finished Material  CORR11477A-15/F209EP             1881            0   \n",
       "\n",
       "  Receipt_quantity  Stock_Value Issue_quantity  \n",
       "0                1       5.5537              0  \n",
       "1             2010  13759.53138              0  \n",
       "2              414    2093.0184              0  \n",
       "3             1144    8767.1584              0  \n",
       "4             1881   16277.4216              0  "
      ]
     },
     "execution_count": 24,
     "metadata": {},
     "output_type": "execute_result"
    }
   ],
   "source": [
    "#All headers name is now in the correct string method\n",
    "\n",
    "raw_data_subset.head()"
   ]
  },
  {
   "cell_type": "markdown",
   "id": "99d37c99",
   "metadata": {},
   "source": [
    "<h2> Part 2 Data Cleaning </h2>"
   ]
  },
  {
   "cell_type": "code",
   "execution_count": 25,
   "id": "666a78f4",
   "metadata": {},
   "outputs": [
    {
     "data": {
      "text/plain": [
       "(1116, 11)"
      ]
     },
     "execution_count": 25,
     "metadata": {},
     "output_type": "execute_result"
    }
   ],
   "source": [
    "#initial data size in rows and columns after removing unnamed columns\n",
    "\n",
    "raw_data_subset.shape"
   ]
  },
  {
   "cell_type": "code",
   "execution_count": 26,
   "id": "c0d3cf25",
   "metadata": {},
   "outputs": [
    {
     "data": {
      "text/plain": [
       "Period              0\n",
       "Document_type       0\n",
       "TALA_Category       0\n",
       "Direction           0\n",
       "Items_group         0\n",
       "Item                0\n",
       "On-hand_quantity    0\n",
       "Qty_in_stock        0\n",
       "Receipt_quantity    0\n",
       "Stock_Value         0\n",
       "Issue_quantity      0\n",
       "dtype: int64"
      ]
     },
     "execution_count": 26,
     "metadata": {},
     "output_type": "execute_result"
    }
   ],
   "source": [
    "#detecting null values\n",
    "\n",
    "raw_data_subset.isna().sum()"
   ]
  },
  {
   "cell_type": "markdown",
   "id": "3acbeadd",
   "metadata": {},
   "source": [
    "<h4> Part 2.1 Remove Any Empty Cells (a) </h4>"
   ]
  },
  {
   "cell_type": "code",
   "execution_count": 27,
   "id": "cd5e00c0",
   "metadata": {},
   "outputs": [
    {
     "data": {
      "text/plain": [
       "Q4 2021/22    171\n",
       "Q4 2020/21    157\n",
       "Q2 2020/21    146\n",
       "Q1 2021/22    145\n",
       "Q1 2020/21    138\n",
       "Q3 2020/21    134\n",
       "Q3 2021/22    109\n",
       "Q2 2021/22    101\n",
       "                6\n",
       "Q1 2023/24      4\n",
       "Q4 2022/23      2\n",
       "Q4 2020/25      1\n",
       "Q5 2020/21      1\n",
       "Q6 2020/21      1\n",
       "Name: Period, dtype: int64"
      ]
     },
     "execution_count": 27,
     "metadata": {},
     "output_type": "execute_result"
    }
   ],
   "source": [
    "#Column 'Period' has empty cells\n",
    "\n",
    "raw_data_subset['Period'].value_counts()"
   ]
  },
  {
   "cell_type": "code",
   "execution_count": 28,
   "id": "85f44a63",
   "metadata": {},
   "outputs": [
    {
     "data": {
      "text/html": [
       "<div>\n",
       "<style scoped>\n",
       "    .dataframe tbody tr th:only-of-type {\n",
       "        vertical-align: middle;\n",
       "    }\n",
       "\n",
       "    .dataframe tbody tr th {\n",
       "        vertical-align: top;\n",
       "    }\n",
       "\n",
       "    .dataframe thead th {\n",
       "        text-align: right;\n",
       "    }\n",
       "</style>\n",
       "<table border=\"1\" class=\"dataframe\">\n",
       "  <thead>\n",
       "    <tr style=\"text-align: right;\">\n",
       "      <th></th>\n",
       "      <th>Period</th>\n",
       "      <th>Document_type</th>\n",
       "      <th>TALA_Category</th>\n",
       "      <th>Direction</th>\n",
       "      <th>Items_group</th>\n",
       "      <th>Item</th>\n",
       "      <th>On-hand_quantity</th>\n",
       "      <th>Qty_in_stock</th>\n",
       "      <th>Receipt_quantity</th>\n",
       "      <th>Stock_Value</th>\n",
       "      <th>Issue_quantity</th>\n",
       "    </tr>\n",
       "  </thead>\n",
       "  <tbody>\n",
       "    <tr>\n",
       "      <th>711</th>\n",
       "      <td>Q1 2021/22</td>\n",
       "      <td>Supplier receipt</td>\n",
       "      <td>PC</td>\n",
       "      <td>Incoming</td>\n",
       "      <td>Finished Material</td>\n",
       "      <td>Y-MY009/F/245</td>\n",
       "      <td>1470</td>\n",
       "      <td>0</td>\n",
       "      <td>1470</td>\n",
       "      <td>3308.25411</td>\n",
       "      <td>0</td>\n",
       "    </tr>\n",
       "    <tr>\n",
       "      <th>712</th>\n",
       "      <td></td>\n",
       "      <td></td>\n",
       "      <td></td>\n",
       "      <td></td>\n",
       "      <td>Packing Materials</td>\n",
       "      <td>C625-15/F/1</td>\n",
       "      <td>250</td>\n",
       "      <td>81</td>\n",
       "      <td>250</td>\n",
       "      <td>23963.30375</td>\n",
       "      <td>0</td>\n",
       "    </tr>\n",
       "    <tr>\n",
       "      <th>713</th>\n",
       "      <td></td>\n",
       "      <td></td>\n",
       "      <td></td>\n",
       "      <td></td>\n",
       "      <td>Raw Materials</td>\n",
       "      <td>R-2005-15/F/180</td>\n",
       "      <td>5400</td>\n",
       "      <td>809</td>\n",
       "      <td>5400</td>\n",
       "      <td>33666.7266</td>\n",
       "      <td>0</td>\n",
       "    </tr>\n",
       "    <tr>\n",
       "      <th>714</th>\n",
       "      <td></td>\n",
       "      <td></td>\n",
       "      <td></td>\n",
       "      <td></td>\n",
       "      <td>Raw Materials</td>\n",
       "      <td>R-321-15/F/162</td>\n",
       "      <td>3240</td>\n",
       "      <td>359</td>\n",
       "      <td>3240</td>\n",
       "      <td>18693.6984</td>\n",
       "      <td>0</td>\n",
       "    </tr>\n",
       "    <tr>\n",
       "      <th>715</th>\n",
       "      <td></td>\n",
       "      <td></td>\n",
       "      <td></td>\n",
       "      <td></td>\n",
       "      <td>Raw Materials</td>\n",
       "      <td>R-3533-15H/F/184</td>\n",
       "      <td>47840</td>\n",
       "      <td>126833</td>\n",
       "      <td>47840</td>\n",
       "      <td>282589.7318</td>\n",
       "      <td>0</td>\n",
       "    </tr>\n",
       "    <tr>\n",
       "      <th>716</th>\n",
       "      <td></td>\n",
       "      <td></td>\n",
       "      <td></td>\n",
       "      <td></td>\n",
       "      <td>Raw Materials</td>\n",
       "      <td>R-5435-15/F/215</td>\n",
       "      <td>51600</td>\n",
       "      <td>0</td>\n",
       "      <td>51600</td>\n",
       "      <td>487289.502</td>\n",
       "      <td>0</td>\n",
       "    </tr>\n",
       "    <tr>\n",
       "      <th>717</th>\n",
       "      <td></td>\n",
       "      <td></td>\n",
       "      <td></td>\n",
       "      <td></td>\n",
       "      <td>Services</td>\n",
       "      <td>Z-EQTK015</td>\n",
       "      <td>26</td>\n",
       "      <td>80</td>\n",
       "      <td>26</td>\n",
       "      <td>10556</td>\n",
       "      <td>0</td>\n",
       "    </tr>\n",
       "    <tr>\n",
       "      <th>718</th>\n",
       "      <td>Q1 2021/22</td>\n",
       "      <td>Supplier receipt</td>\n",
       "      <td>PC</td>\n",
       "      <td>Incoming</td>\n",
       "      <td>Packing Materials</td>\n",
       "      <td>C625-15/F/1</td>\n",
       "      <td>250</td>\n",
       "      <td>81</td>\n",
       "      <td>250</td>\n",
       "      <td>23963.30375</td>\n",
       "      <td>0</td>\n",
       "    </tr>\n",
       "  </tbody>\n",
       "</table>\n",
       "</div>"
      ],
      "text/plain": [
       "         Period     Document_type TALA_Category Direction        Items_group  \\\n",
       "711  Q1 2021/22  Supplier receipt            PC  Incoming  Finished Material   \n",
       "712                                                        Packing Materials   \n",
       "713                                                            Raw Materials   \n",
       "714                                                            Raw Materials   \n",
       "715                                                            Raw Materials   \n",
       "716                                                            Raw Materials   \n",
       "717                                                                 Services   \n",
       "718  Q1 2021/22  Supplier receipt            PC  Incoming  Packing Materials   \n",
       "\n",
       "                 Item On-hand_quantity Qty_in_stock Receipt_quantity  \\\n",
       "711     Y-MY009/F/245             1470            0             1470   \n",
       "712       C625-15/F/1              250           81              250   \n",
       "713   R-2005-15/F/180             5400          809             5400   \n",
       "714    R-321-15/F/162             3240          359             3240   \n",
       "715  R-3533-15H/F/184            47840       126833            47840   \n",
       "716   R-5435-15/F/215            51600            0            51600   \n",
       "717         Z-EQTK015               26           80               26   \n",
       "718       C625-15/F/1              250           81              250   \n",
       "\n",
       "     Stock_Value Issue_quantity  \n",
       "711   3308.25411              0  \n",
       "712  23963.30375              0  \n",
       "713   33666.7266              0  \n",
       "714   18693.6984              0  \n",
       "715  282589.7318              0  \n",
       "716   487289.502              0  \n",
       "717        10556              0  \n",
       "718  23963.30375              0  "
      ]
     },
     "execution_count": 28,
     "metadata": {},
     "output_type": "execute_result"
    }
   ],
   "source": [
    "raw_data_subset.loc[711:718]"
   ]
  },
  {
   "cell_type": "code",
   "execution_count": 29,
   "id": "ba8fc7de",
   "metadata": {},
   "outputs": [],
   "source": [
    "#Remove empty cells\n",
    "\n",
    "raw_data_subset = raw_data_subset.drop(labels=[712, 713, 714, 715, 716, 717], axis=0)"
   ]
  },
  {
   "cell_type": "code",
   "execution_count": 30,
   "id": "70a20ba0",
   "metadata": {},
   "outputs": [
    {
     "data": {
      "text/plain": [
       "Q4 2021/22    171\n",
       "Q4 2020/21    157\n",
       "Q2 2020/21    146\n",
       "Q1 2021/22    145\n",
       "Q1 2020/21    138\n",
       "Q3 2020/21    134\n",
       "Q3 2021/22    109\n",
       "Q2 2021/22    101\n",
       "Q1 2023/24      4\n",
       "Q4 2022/23      2\n",
       "Q4 2020/25      1\n",
       "Q5 2020/21      1\n",
       "Q6 2020/21      1\n",
       "Name: Period, dtype: int64"
      ]
     },
     "execution_count": 30,
     "metadata": {},
     "output_type": "execute_result"
    }
   ],
   "source": [
    "#Column 'Period' rows with empty cells are removed\n",
    "\n",
    "raw_data_subset['Period'].value_counts()"
   ]
  },
  {
   "cell_type": "code",
   "execution_count": 31,
   "id": "74d58cba",
   "metadata": {},
   "outputs": [
    {
     "data": {
      "text/html": [
       "<div>\n",
       "<style scoped>\n",
       "    .dataframe tbody tr th:only-of-type {\n",
       "        vertical-align: middle;\n",
       "    }\n",
       "\n",
       "    .dataframe tbody tr th {\n",
       "        vertical-align: top;\n",
       "    }\n",
       "\n",
       "    .dataframe thead th {\n",
       "        text-align: right;\n",
       "    }\n",
       "</style>\n",
       "<table border=\"1\" class=\"dataframe\">\n",
       "  <thead>\n",
       "    <tr style=\"text-align: right;\">\n",
       "      <th></th>\n",
       "      <th>Period</th>\n",
       "      <th>Document_type</th>\n",
       "      <th>TALA_Category</th>\n",
       "      <th>Direction</th>\n",
       "      <th>Items_group</th>\n",
       "      <th>Item</th>\n",
       "      <th>On-hand_quantity</th>\n",
       "      <th>Qty_in_stock</th>\n",
       "      <th>Receipt_quantity</th>\n",
       "      <th>Stock_Value</th>\n",
       "      <th>Issue_quantity</th>\n",
       "    </tr>\n",
       "  </thead>\n",
       "  <tbody>\n",
       "    <tr>\n",
       "      <th>711</th>\n",
       "      <td>Q1 2021/22</td>\n",
       "      <td>Supplier receipt</td>\n",
       "      <td>PC</td>\n",
       "      <td>Incoming</td>\n",
       "      <td>Finished Material</td>\n",
       "      <td>Y-MY009/F/245</td>\n",
       "      <td>1470</td>\n",
       "      <td>0</td>\n",
       "      <td>1470</td>\n",
       "      <td>3308.25411</td>\n",
       "      <td>0</td>\n",
       "    </tr>\n",
       "    <tr>\n",
       "      <th>718</th>\n",
       "      <td>Q1 2021/22</td>\n",
       "      <td>Supplier receipt</td>\n",
       "      <td>PC</td>\n",
       "      <td>Incoming</td>\n",
       "      <td>Packing Materials</td>\n",
       "      <td>C625-15/F/1</td>\n",
       "      <td>250</td>\n",
       "      <td>81</td>\n",
       "      <td>250</td>\n",
       "      <td>23963.30375</td>\n",
       "      <td>0</td>\n",
       "    </tr>\n",
       "  </tbody>\n",
       "</table>\n",
       "</div>"
      ],
      "text/plain": [
       "         Period     Document_type TALA_Category Direction        Items_group  \\\n",
       "711  Q1 2021/22  Supplier receipt            PC  Incoming  Finished Material   \n",
       "718  Q1 2021/22  Supplier receipt            PC  Incoming  Packing Materials   \n",
       "\n",
       "              Item On-hand_quantity Qty_in_stock Receipt_quantity  \\\n",
       "711  Y-MY009/F/245             1470            0             1470   \n",
       "718    C625-15/F/1              250           81              250   \n",
       "\n",
       "     Stock_Value Issue_quantity  \n",
       "711   3308.25411              0  \n",
       "718  23963.30375              0  "
      ]
     },
     "execution_count": 31,
     "metadata": {},
     "output_type": "execute_result"
    }
   ],
   "source": [
    "raw_data_subset.loc[711:718]"
   ]
  },
  {
   "cell_type": "markdown",
   "id": "e4109a0c",
   "metadata": {},
   "source": [
    "<h5> Once removed empty cells through column 'Period', column 'Document Type', 'TALA Category', 'Direction' these three columns that contain empty cells has been removed as well. Shown as below: </h5>"
   ]
  },
  {
   "cell_type": "code",
   "execution_count": 32,
   "id": "dca0ad66",
   "metadata": {},
   "outputs": [
    {
     "data": {
      "text/plain": [
       "Supplier receipt         666\n",
       "Miscellaneous receipt    264\n",
       "Miscellaneous issue      180\n",
       "Name: Document_type, dtype: int64"
      ]
     },
     "execution_count": 32,
     "metadata": {},
     "output_type": "execute_result"
    }
   ],
   "source": [
    "#check 'Document type' columns for missing values\n",
    "\n",
    "raw_data_subset['Document_type'].value_counts()"
   ]
  },
  {
   "cell_type": "code",
   "execution_count": 33,
   "id": "e477974e",
   "metadata": {},
   "outputs": [
    {
     "data": {
      "text/plain": [
       "PC    616\n",
       "PA    482\n",
       "PB     12\n",
       "Name: TALA_Category, dtype: int64"
      ]
     },
     "execution_count": 33,
     "metadata": {},
     "output_type": "execute_result"
    }
   ],
   "source": [
    "#check 'TALA Category' columns for missing values\n",
    "\n",
    "raw_data_subset['TALA_Category'].value_counts()"
   ]
  },
  {
   "cell_type": "code",
   "execution_count": 34,
   "id": "75a32627",
   "metadata": {},
   "outputs": [
    {
     "data": {
      "text/plain": [
       "Incoming    711\n",
       "Outgoing    399\n",
       "Name: Direction, dtype: int64"
      ]
     },
     "execution_count": 34,
     "metadata": {},
     "output_type": "execute_result"
    }
   ],
   "source": [
    "#check 'Direction' columns for missing values\n",
    "\n",
    "raw_data_subset['Direction'].value_counts()"
   ]
  },
  {
   "cell_type": "code",
   "execution_count": 35,
   "id": "258ad543",
   "metadata": {},
   "outputs": [
    {
     "data": {
      "text/plain": [
       "(1110, 11)"
      ]
     },
     "execution_count": 35,
     "metadata": {},
     "output_type": "execute_result"
    }
   ],
   "source": [
    "#data size in rows and columns after removing empty row cells based column 'Period', column 'Document Type', 'TALA Category', 'Direction'\n",
    "\n",
    "raw_data_subset.shape"
   ]
  },
  {
   "cell_type": "markdown",
   "id": "270e715c",
   "metadata": {},
   "source": [
    "<h4> Part 2.2 Remove Any Empty Cells (b) </h4>"
   ]
  },
  {
   "cell_type": "code",
   "execution_count": 36,
   "id": "892852d3",
   "metadata": {},
   "outputs": [
    {
     "data": {
      "text/plain": [
       "(1110, 11)"
      ]
     },
     "execution_count": 36,
     "metadata": {},
     "output_type": "execute_result"
    }
   ],
   "source": [
    "#data size after removing unnamed columns and empty row cells based on first 4 columns\n",
    "\n",
    "raw_data_subset.shape"
   ]
  },
  {
   "cell_type": "code",
   "execution_count": 37,
   "id": "10fd570f",
   "metadata": {},
   "outputs": [
    {
     "data": {
      "text/plain": [
       "0           378\n",
       "3567          8\n",
       "1399          8\n",
       "809           7\n",
       "40910         7\n",
       "           ... \n",
       "42817.02      1\n",
       "293436        1\n",
       "15075         1\n",
       "8665          1\n",
       "114877        1\n",
       "Name: Qty_in_stock, Length: 364, dtype: int64"
      ]
     },
     "execution_count": 37,
     "metadata": {},
     "output_type": "execute_result"
    }
   ],
   "source": [
    "#check 'Qty_in_stock' columns for blank values\n",
    "\n",
    "raw_data_subset['Qty_in_stock'].value_counts()"
   ]
  },
  {
   "cell_type": "code",
   "execution_count": 38,
   "id": "b9c124e6",
   "metadata": {},
   "outputs": [
    {
     "data": {
      "text/plain": [
       "6"
      ]
     },
     "execution_count": 38,
     "metadata": {},
     "output_type": "execute_result"
    }
   ],
   "source": [
    "#Find empty string cells through Qty_in_stock\n",
    "\n",
    "raw_data_subset[~raw_data_subset.Qty_in_stock.str.contains('\\w')].Qty_in_stock.count()"
   ]
  },
  {
   "cell_type": "code",
   "execution_count": 39,
   "id": "19fd3e75",
   "metadata": {},
   "outputs": [
    {
     "data": {
      "text/html": [
       "<div>\n",
       "<style scoped>\n",
       "    .dataframe tbody tr th:only-of-type {\n",
       "        vertical-align: middle;\n",
       "    }\n",
       "\n",
       "    .dataframe tbody tr th {\n",
       "        vertical-align: top;\n",
       "    }\n",
       "\n",
       "    .dataframe thead th {\n",
       "        text-align: right;\n",
       "    }\n",
       "</style>\n",
       "<table border=\"1\" class=\"dataframe\">\n",
       "  <thead>\n",
       "    <tr style=\"text-align: right;\">\n",
       "      <th></th>\n",
       "      <th>Period</th>\n",
       "      <th>Document_type</th>\n",
       "      <th>TALA_Category</th>\n",
       "      <th>Direction</th>\n",
       "      <th>Items_group</th>\n",
       "      <th>Item</th>\n",
       "      <th>On-hand_quantity</th>\n",
       "      <th>Qty_in_stock</th>\n",
       "      <th>Receipt_quantity</th>\n",
       "      <th>Stock_Value</th>\n",
       "      <th>Issue_quantity</th>\n",
       "    </tr>\n",
       "  </thead>\n",
       "  <tbody>\n",
       "    <tr>\n",
       "      <th>700</th>\n",
       "      <td>Q1 2021/22</td>\n",
       "      <td>Supplier receipt</td>\n",
       "      <td>PC</td>\n",
       "      <td>Incoming</td>\n",
       "      <td>Finished Material</td>\n",
       "      <td>Y-MY0032/F/178</td>\n",
       "      <td>56960</td>\n",
       "      <td>400000</td>\n",
       "      <td>56960</td>\n",
       "      <td>1818777.172</td>\n",
       "      <td>0</td>\n",
       "    </tr>\n",
       "    <tr>\n",
       "      <th>701</th>\n",
       "      <td>Q1 2021/22</td>\n",
       "      <td>Supplier receipt</td>\n",
       "      <td>PC</td>\n",
       "      <td>Incoming</td>\n",
       "      <td>Finished Material</td>\n",
       "      <td>Y-MY0038-15/F/240</td>\n",
       "      <td>7200</td>\n",
       "      <td></td>\n",
       "      <td></td>\n",
       "      <td></td>\n",
       "      <td></td>\n",
       "    </tr>\n",
       "    <tr>\n",
       "      <th>702</th>\n",
       "      <td>Q1 2021/22</td>\n",
       "      <td>Supplier receipt</td>\n",
       "      <td>PC</td>\n",
       "      <td>Incoming</td>\n",
       "      <td>Finished Material</td>\n",
       "      <td>Y-MY004/F/275</td>\n",
       "      <td>44000</td>\n",
       "      <td></td>\n",
       "      <td></td>\n",
       "      <td></td>\n",
       "      <td></td>\n",
       "    </tr>\n",
       "    <tr>\n",
       "      <th>703</th>\n",
       "      <td>Q1 2021/22</td>\n",
       "      <td>Supplier receipt</td>\n",
       "      <td>PC</td>\n",
       "      <td>Incoming</td>\n",
       "      <td>Finished Material</td>\n",
       "      <td>Y-MY005/F/225</td>\n",
       "      <td>54000</td>\n",
       "      <td></td>\n",
       "      <td></td>\n",
       "      <td></td>\n",
       "      <td></td>\n",
       "    </tr>\n",
       "    <tr>\n",
       "      <th>704</th>\n",
       "      <td>Q1 2021/22</td>\n",
       "      <td>Supplier receipt</td>\n",
       "      <td>PC</td>\n",
       "      <td>Incoming</td>\n",
       "      <td>Finished Material</td>\n",
       "      <td>Y-MY007/F/1400</td>\n",
       "      <td>142800</td>\n",
       "      <td></td>\n",
       "      <td></td>\n",
       "      <td></td>\n",
       "      <td></td>\n",
       "    </tr>\n",
       "    <tr>\n",
       "      <th>705</th>\n",
       "      <td>Q1 2021/22</td>\n",
       "      <td>Supplier receipt</td>\n",
       "      <td>PC</td>\n",
       "      <td>Incoming</td>\n",
       "      <td>Finished Material</td>\n",
       "      <td>Y-MY009/F/245</td>\n",
       "      <td>1470</td>\n",
       "      <td></td>\n",
       "      <td></td>\n",
       "      <td></td>\n",
       "      <td></td>\n",
       "    </tr>\n",
       "    <tr>\n",
       "      <th>706</th>\n",
       "      <td>Q1 2021/22</td>\n",
       "      <td>Supplier receipt</td>\n",
       "      <td>PC</td>\n",
       "      <td>Incoming</td>\n",
       "      <td>Packing Materials</td>\n",
       "      <td>C625-15/F/1</td>\n",
       "      <td>250</td>\n",
       "      <td></td>\n",
       "      <td></td>\n",
       "      <td></td>\n",
       "      <td></td>\n",
       "    </tr>\n",
       "    <tr>\n",
       "      <th>707</th>\n",
       "      <td>Q1 2021/22</td>\n",
       "      <td>Supplier receipt</td>\n",
       "      <td>PC</td>\n",
       "      <td>Incoming</td>\n",
       "      <td>Finished Material</td>\n",
       "      <td>Y-MY0038-15/F/240</td>\n",
       "      <td>7200</td>\n",
       "      <td>0</td>\n",
       "      <td>7200</td>\n",
       "      <td>31680</td>\n",
       "      <td>0</td>\n",
       "    </tr>\n",
       "    <tr>\n",
       "      <th>708</th>\n",
       "      <td>Q1 2021/22</td>\n",
       "      <td>Supplier receipt</td>\n",
       "      <td>PC</td>\n",
       "      <td>Incoming</td>\n",
       "      <td>Finished Material</td>\n",
       "      <td>Y-MY004/F/275</td>\n",
       "      <td>44000</td>\n",
       "      <td>48680</td>\n",
       "      <td>44000</td>\n",
       "      <td>99693.748</td>\n",
       "      <td>0</td>\n",
       "    </tr>\n",
       "  </tbody>\n",
       "</table>\n",
       "</div>"
      ],
      "text/plain": [
       "         Period     Document_type TALA_Category Direction        Items_group  \\\n",
       "700  Q1 2021/22  Supplier receipt            PC  Incoming  Finished Material   \n",
       "701  Q1 2021/22  Supplier receipt            PC  Incoming  Finished Material   \n",
       "702  Q1 2021/22  Supplier receipt            PC  Incoming  Finished Material   \n",
       "703  Q1 2021/22  Supplier receipt            PC  Incoming  Finished Material   \n",
       "704  Q1 2021/22  Supplier receipt            PC  Incoming  Finished Material   \n",
       "705  Q1 2021/22  Supplier receipt            PC  Incoming  Finished Material   \n",
       "706  Q1 2021/22  Supplier receipt            PC  Incoming  Packing Materials   \n",
       "707  Q1 2021/22  Supplier receipt            PC  Incoming  Finished Material   \n",
       "708  Q1 2021/22  Supplier receipt            PC  Incoming  Finished Material   \n",
       "\n",
       "                  Item On-hand_quantity Qty_in_stock Receipt_quantity  \\\n",
       "700     Y-MY0032/F/178            56960       400000            56960   \n",
       "701  Y-MY0038-15/F/240             7200                                 \n",
       "702      Y-MY004/F/275            44000                                 \n",
       "703      Y-MY005/F/225            54000                                 \n",
       "704     Y-MY007/F/1400           142800                                 \n",
       "705      Y-MY009/F/245             1470                                 \n",
       "706        C625-15/F/1              250                                 \n",
       "707  Y-MY0038-15/F/240             7200            0             7200   \n",
       "708      Y-MY004/F/275            44000        48680            44000   \n",
       "\n",
       "     Stock_Value Issue_quantity  \n",
       "700  1818777.172              0  \n",
       "701                              \n",
       "702                              \n",
       "703                              \n",
       "704                              \n",
       "705                              \n",
       "706                              \n",
       "707        31680              0  \n",
       "708    99693.748              0  "
      ]
     },
     "execution_count": 39,
     "metadata": {},
     "output_type": "execute_result"
    }
   ],
   "source": [
    "raw_data_subset.loc[700:708]"
   ]
  },
  {
   "cell_type": "code",
   "execution_count": 40,
   "id": "cda33ed0",
   "metadata": {},
   "outputs": [],
   "source": [
    "#Remove empty cells\n",
    "\n",
    "raw_data_subset = raw_data_subset.drop(labels=[701,702,703,704, 705,706], axis=0)"
   ]
  },
  {
   "cell_type": "code",
   "execution_count": 41,
   "id": "a86482cb",
   "metadata": {},
   "outputs": [
    {
     "data": {
      "text/plain": [
       "0         378\n",
       "3567        8\n",
       "1399        8\n",
       "4412        7\n",
       "6638        7\n",
       "         ... \n",
       "8665        1\n",
       "5596        1\n",
       "146718      1\n",
       "267636      1\n",
       "114877      1\n",
       "Name: Qty_in_stock, Length: 363, dtype: int64"
      ]
     },
     "execution_count": 41,
     "metadata": {},
     "output_type": "execute_result"
    }
   ],
   "source": [
    "#Column 'Qty_in_stock' rows with empty cells are removed\n",
    "\n",
    "raw_data_subset['Qty_in_stock'].value_counts()"
   ]
  },
  {
   "cell_type": "code",
   "execution_count": 42,
   "id": "6d9dd2a9",
   "metadata": {},
   "outputs": [
    {
     "data": {
      "text/html": [
       "<div>\n",
       "<style scoped>\n",
       "    .dataframe tbody tr th:only-of-type {\n",
       "        vertical-align: middle;\n",
       "    }\n",
       "\n",
       "    .dataframe tbody tr th {\n",
       "        vertical-align: top;\n",
       "    }\n",
       "\n",
       "    .dataframe thead th {\n",
       "        text-align: right;\n",
       "    }\n",
       "</style>\n",
       "<table border=\"1\" class=\"dataframe\">\n",
       "  <thead>\n",
       "    <tr style=\"text-align: right;\">\n",
       "      <th></th>\n",
       "      <th>Period</th>\n",
       "      <th>Document_type</th>\n",
       "      <th>TALA_Category</th>\n",
       "      <th>Direction</th>\n",
       "      <th>Items_group</th>\n",
       "      <th>Item</th>\n",
       "      <th>On-hand_quantity</th>\n",
       "      <th>Qty_in_stock</th>\n",
       "      <th>Receipt_quantity</th>\n",
       "      <th>Stock_Value</th>\n",
       "      <th>Issue_quantity</th>\n",
       "    </tr>\n",
       "  </thead>\n",
       "  <tbody>\n",
       "    <tr>\n",
       "      <th>700</th>\n",
       "      <td>Q1 2021/22</td>\n",
       "      <td>Supplier receipt</td>\n",
       "      <td>PC</td>\n",
       "      <td>Incoming</td>\n",
       "      <td>Finished Material</td>\n",
       "      <td>Y-MY0032/F/178</td>\n",
       "      <td>56960</td>\n",
       "      <td>400000</td>\n",
       "      <td>56960</td>\n",
       "      <td>1818777.172</td>\n",
       "      <td>0</td>\n",
       "    </tr>\n",
       "    <tr>\n",
       "      <th>707</th>\n",
       "      <td>Q1 2021/22</td>\n",
       "      <td>Supplier receipt</td>\n",
       "      <td>PC</td>\n",
       "      <td>Incoming</td>\n",
       "      <td>Finished Material</td>\n",
       "      <td>Y-MY0038-15/F/240</td>\n",
       "      <td>7200</td>\n",
       "      <td>0</td>\n",
       "      <td>7200</td>\n",
       "      <td>31680</td>\n",
       "      <td>0</td>\n",
       "    </tr>\n",
       "    <tr>\n",
       "      <th>708</th>\n",
       "      <td>Q1 2021/22</td>\n",
       "      <td>Supplier receipt</td>\n",
       "      <td>PC</td>\n",
       "      <td>Incoming</td>\n",
       "      <td>Finished Material</td>\n",
       "      <td>Y-MY004/F/275</td>\n",
       "      <td>44000</td>\n",
       "      <td>48680</td>\n",
       "      <td>44000</td>\n",
       "      <td>99693.748</td>\n",
       "      <td>0</td>\n",
       "    </tr>\n",
       "  </tbody>\n",
       "</table>\n",
       "</div>"
      ],
      "text/plain": [
       "         Period     Document_type TALA_Category Direction        Items_group  \\\n",
       "700  Q1 2021/22  Supplier receipt            PC  Incoming  Finished Material   \n",
       "707  Q1 2021/22  Supplier receipt            PC  Incoming  Finished Material   \n",
       "708  Q1 2021/22  Supplier receipt            PC  Incoming  Finished Material   \n",
       "\n",
       "                  Item On-hand_quantity Qty_in_stock Receipt_quantity  \\\n",
       "700     Y-MY0032/F/178            56960       400000            56960   \n",
       "707  Y-MY0038-15/F/240             7200            0             7200   \n",
       "708      Y-MY004/F/275            44000        48680            44000   \n",
       "\n",
       "     Stock_Value Issue_quantity  \n",
       "700  1818777.172              0  \n",
       "707        31680              0  \n",
       "708    99693.748              0  "
      ]
     },
     "execution_count": 42,
     "metadata": {},
     "output_type": "execute_result"
    }
   ],
   "source": [
    "raw_data_subset.loc[700:708]"
   ]
  },
  {
   "cell_type": "markdown",
   "id": "658df871",
   "metadata": {},
   "source": [
    "<h5> Once removed empty cells through column 'Qty_in_stock', column 'Receipt_quantity', 'Stock_Value, 'Issue_quantity' these three columns that contain empty cells has been removed as well. Shown as below: </h5>"
   ]
  },
  {
   "cell_type": "code",
   "execution_count": 43,
   "id": "8dab6bbc",
   "metadata": {},
   "outputs": [
    {
     "data": {
      "text/plain": [
       "0        399\n",
       "1         15\n",
       "300       13\n",
       "4         10\n",
       "2         10\n",
       "        ... \n",
       "71140      1\n",
       "5175       1\n",
       "8946       1\n",
       "3672       1\n",
       "16848      1\n",
       "Name: Receipt_quantity, Length: 482, dtype: int64"
      ]
     },
     "execution_count": 43,
     "metadata": {},
     "output_type": "execute_result"
    }
   ],
   "source": [
    "#check 'Receipt_quantity' columns for blank values\n",
    "\n",
    "raw_data_subset['Receipt_quantity'].value_counts()"
   ]
  },
  {
   "cell_type": "code",
   "execution_count": 44,
   "id": "728c1a27",
   "metadata": {},
   "outputs": [
    {
     "data": {
      "text/plain": [
       "0               10\n",
       "-1358.1062       4\n",
       "2716.2124        4\n",
       "-343079.7989     3\n",
       "-146768.3347     3\n",
       "                ..\n",
       "15554.7364       1\n",
       "3910.819128      1\n",
       "109927.35        1\n",
       "25979.28464      1\n",
       "-1200.41148      1\n",
       "Name: Stock_Value, Length: 980, dtype: int64"
      ]
     },
     "execution_count": 44,
     "metadata": {},
     "output_type": "execute_result"
    }
   ],
   "source": [
    "#check 'Stock_Value' columns for blank values\n",
    "\n",
    "raw_data_subset['Stock_Value'].value_counts()"
   ]
  },
  {
   "cell_type": "code",
   "execution_count": 45,
   "id": "baf4ba4b",
   "metadata": {},
   "outputs": [
    {
     "data": {
      "text/plain": [
       "0        704\n",
       "150       12\n",
       "2         12\n",
       "21600      8\n",
       "100        7\n",
       "        ... \n",
       "232        1\n",
       "2448       1\n",
       "0.2        1\n",
       "91.8       1\n",
       "2160       1\n",
       "Name: Issue_quantity, Length: 293, dtype: int64"
      ]
     },
     "execution_count": 45,
     "metadata": {},
     "output_type": "execute_result"
    }
   ],
   "source": [
    "#check 'Issue_quantity' columns for blank values\n",
    "\n",
    "raw_data_subset['Issue_quantity'].value_counts()"
   ]
  },
  {
   "cell_type": "code",
   "execution_count": 46,
   "id": "c9640ea5",
   "metadata": {},
   "outputs": [
    {
     "data": {
      "text/plain": [
       "(1104, 11)"
      ]
     },
     "execution_count": 46,
     "metadata": {},
     "output_type": "execute_result"
    }
   ],
   "source": [
    "#data size in rows and columns after removing empty row cells based column 'Qty_in_stock', column 'Receipt_quantity', 'Stock_Value', 'Issue_quantity'\n",
    "\n",
    "raw_data_subset.shape"
   ]
  },
  {
   "cell_type": "markdown",
   "id": "7186ec79",
   "metadata": {},
   "source": [
    "<h4> Part 2.3 Remove Outliers </h4>"
   ]
  },
  {
   "cell_type": "code",
   "execution_count": 47,
   "id": "88ca0ee8",
   "metadata": {},
   "outputs": [
    {
     "data": {
      "text/plain": [
       "(1104, 11)"
      ]
     },
     "execution_count": 47,
     "metadata": {},
     "output_type": "execute_result"
    }
   ],
   "source": [
    "#data size after removing all empty row cells and unnamed columns\n",
    "\n",
    "raw_data_subset.shape"
   ]
  },
  {
   "cell_type": "code",
   "execution_count": 48,
   "id": "99b19a16",
   "metadata": {},
   "outputs": [
    {
     "data": {
      "text/plain": [
       "Finished Material    563\n",
       "Raw Materials        292\n",
       "Services             223\n",
       "Packing Materials     21\n",
       "xxx                    5\n",
       "Name: Items_group, dtype: int64"
      ]
     },
     "execution_count": 48,
     "metadata": {},
     "output_type": "execute_result"
    }
   ],
   "source": [
    "#'Items_group' has outlier named 'xxx'\n",
    "\n",
    "raw_data_subset['Items_group'].value_counts()"
   ]
  },
  {
   "cell_type": "code",
   "execution_count": 49,
   "id": "cf2f49c5",
   "metadata": {},
   "outputs": [],
   "source": [
    "#remove the rows where the value of column “Items_group” is “xxx” \n",
    "\n",
    "raw_data_subset.drop(raw_data_subset.index[raw_data_subset['Items_group'] == 'xxx'], inplace=True)"
   ]
  },
  {
   "cell_type": "code",
   "execution_count": 50,
   "id": "1a3c8fda",
   "metadata": {},
   "outputs": [
    {
     "data": {
      "text/plain": [
       "Finished Material    563\n",
       "Raw Materials        292\n",
       "Services             223\n",
       "Packing Materials     21\n",
       "Name: Items_group, dtype: int64"
      ]
     },
     "execution_count": 50,
     "metadata": {},
     "output_type": "execute_result"
    }
   ],
   "source": [
    "#Column 'Items_group' rows with 'xxx' are removed\n",
    "\n",
    "raw_data_subset['Items_group'].value_counts()"
   ]
  },
  {
   "cell_type": "code",
   "execution_count": 51,
   "id": "e94677d6",
   "metadata": {},
   "outputs": [
    {
     "data": {
      "text/plain": [
       "(1099, 11)"
      ]
     },
     "execution_count": 51,
     "metadata": {},
     "output_type": "execute_result"
    }
   ],
   "source": [
    "raw_data_subset.shape"
   ]
  },
  {
   "cell_type": "markdown",
   "id": "9bec6472",
   "metadata": {},
   "source": [
    "<h4> Part 2.3.1 Remove Non-Integer Value </h4>"
   ]
  },
  {
   "cell_type": "code",
   "execution_count": 52,
   "id": "fdb1ea2c",
   "metadata": {},
   "outputs": [
    {
     "data": {
      "text/html": [
       "<div>\n",
       "<style scoped>\n",
       "    .dataframe tbody tr th:only-of-type {\n",
       "        vertical-align: middle;\n",
       "    }\n",
       "\n",
       "    .dataframe tbody tr th {\n",
       "        vertical-align: top;\n",
       "    }\n",
       "\n",
       "    .dataframe thead th {\n",
       "        text-align: right;\n",
       "    }\n",
       "</style>\n",
       "<table border=\"1\" class=\"dataframe\">\n",
       "  <thead>\n",
       "    <tr style=\"text-align: right;\">\n",
       "      <th></th>\n",
       "      <th>Period</th>\n",
       "      <th>Document_type</th>\n",
       "      <th>TALA_Category</th>\n",
       "      <th>Direction</th>\n",
       "      <th>Items_group</th>\n",
       "      <th>Item</th>\n",
       "      <th>On-hand_quantity</th>\n",
       "      <th>Qty_in_stock</th>\n",
       "      <th>Receipt_quantity</th>\n",
       "      <th>Stock_Value</th>\n",
       "      <th>Issue_quantity</th>\n",
       "    </tr>\n",
       "  </thead>\n",
       "  <tbody>\n",
       "    <tr>\n",
       "      <th>435</th>\n",
       "      <td>Q4 2020/21</td>\n",
       "      <td>Miscellaneous receipt</td>\n",
       "      <td>PC</td>\n",
       "      <td>Incoming</td>\n",
       "      <td>Raw Materials</td>\n",
       "      <td>R-321-15/F/162</td>\n",
       "      <td>abc</td>\n",
       "      <td>1535.76</td>\n",
       "      <td>384</td>\n",
       "      <td>3072.054144</td>\n",
       "      <td>0</td>\n",
       "    </tr>\n",
       "  </tbody>\n",
       "</table>\n",
       "</div>"
      ],
      "text/plain": [
       "         Period          Document_type TALA_Category Direction    Items_group  \\\n",
       "435  Q4 2020/21  Miscellaneous receipt            PC  Incoming  Raw Materials   \n",
       "\n",
       "               Item On-hand_quantity Qty_in_stock Receipt_quantity  \\\n",
       "435  R-321-15/F/162              abc      1535.76              384   \n",
       "\n",
       "     Stock_Value Issue_quantity  \n",
       "435  3072.054144              0  "
      ]
     },
     "execution_count": 52,
     "metadata": {},
     "output_type": "execute_result"
    }
   ],
   "source": [
    "#abc\n",
    "\n",
    "alpha_values = raw_data_subset[(raw_data_subset['On-hand_quantity'].str.isalpha())]\n",
    "alpha_values"
   ]
  },
  {
   "cell_type": "code",
   "execution_count": 53,
   "id": "cc0a34da",
   "metadata": {},
   "outputs": [
    {
     "data": {
      "text/html": [
       "<div>\n",
       "<style scoped>\n",
       "    .dataframe tbody tr th:only-of-type {\n",
       "        vertical-align: middle;\n",
       "    }\n",
       "\n",
       "    .dataframe tbody tr th {\n",
       "        vertical-align: top;\n",
       "    }\n",
       "\n",
       "    .dataframe thead th {\n",
       "        text-align: right;\n",
       "    }\n",
       "</style>\n",
       "<table border=\"1\" class=\"dataframe\">\n",
       "  <thead>\n",
       "    <tr style=\"text-align: right;\">\n",
       "      <th></th>\n",
       "      <th>Period</th>\n",
       "      <th>Document_type</th>\n",
       "      <th>TALA_Category</th>\n",
       "      <th>Direction</th>\n",
       "      <th>Items_group</th>\n",
       "      <th>Item</th>\n",
       "      <th>On-hand_quantity</th>\n",
       "      <th>Qty_in_stock</th>\n",
       "      <th>Receipt_quantity</th>\n",
       "      <th>Stock_Value</th>\n",
       "      <th>Issue_quantity</th>\n",
       "    </tr>\n",
       "  </thead>\n",
       "  <tbody>\n",
       "    <tr>\n",
       "      <th>436</th>\n",
       "      <td>Q4 2020/21</td>\n",
       "      <td>Miscellaneous receipt</td>\n",
       "      <td>PC</td>\n",
       "      <td>Incoming</td>\n",
       "      <td>Raw Materials</td>\n",
       "      <td>R-3533-15H/F/184</td>\n",
       "      <td>113</td>\n",
       "      <td>def</td>\n",
       "      <td>113</td>\n",
       "      <td>1042.213238</td>\n",
       "      <td>0</td>\n",
       "    </tr>\n",
       "  </tbody>\n",
       "</table>\n",
       "</div>"
      ],
      "text/plain": [
       "         Period          Document_type TALA_Category Direction    Items_group  \\\n",
       "436  Q4 2020/21  Miscellaneous receipt            PC  Incoming  Raw Materials   \n",
       "\n",
       "                 Item On-hand_quantity Qty_in_stock Receipt_quantity  \\\n",
       "436  R-3533-15H/F/184              113          def              113   \n",
       "\n",
       "     Stock_Value Issue_quantity  \n",
       "436  1042.213238              0  "
      ]
     },
     "execution_count": 53,
     "metadata": {},
     "output_type": "execute_result"
    }
   ],
   "source": [
    "#def\n",
    "\n",
    "alpha_values = raw_data_subset[(raw_data_subset['Qty_in_stock'].str.isalpha())]\n",
    "alpha_values"
   ]
  },
  {
   "cell_type": "code",
   "execution_count": 54,
   "id": "7e81fff3",
   "metadata": {},
   "outputs": [
    {
     "data": {
      "text/html": [
       "<div>\n",
       "<style scoped>\n",
       "    .dataframe tbody tr th:only-of-type {\n",
       "        vertical-align: middle;\n",
       "    }\n",
       "\n",
       "    .dataframe tbody tr th {\n",
       "        vertical-align: top;\n",
       "    }\n",
       "\n",
       "    .dataframe thead th {\n",
       "        text-align: right;\n",
       "    }\n",
       "</style>\n",
       "<table border=\"1\" class=\"dataframe\">\n",
       "  <thead>\n",
       "    <tr style=\"text-align: right;\">\n",
       "      <th></th>\n",
       "      <th>Period</th>\n",
       "      <th>Document_type</th>\n",
       "      <th>TALA_Category</th>\n",
       "      <th>Direction</th>\n",
       "      <th>Items_group</th>\n",
       "      <th>Item</th>\n",
       "      <th>On-hand_quantity</th>\n",
       "      <th>Qty_in_stock</th>\n",
       "      <th>Receipt_quantity</th>\n",
       "      <th>Stock_Value</th>\n",
       "      <th>Issue_quantity</th>\n",
       "    </tr>\n",
       "  </thead>\n",
       "  <tbody>\n",
       "    <tr>\n",
       "      <th>437</th>\n",
       "      <td>Q4 2020/21</td>\n",
       "      <td>Miscellaneous receipt</td>\n",
       "      <td>PC</td>\n",
       "      <td>Incoming</td>\n",
       "      <td>Raw Materials</td>\n",
       "      <td>R-370-61/F/1050</td>\n",
       "      <td>217</td>\n",
       "      <td>30910</td>\n",
       "      <td>hij</td>\n",
       "      <td>1406.626116</td>\n",
       "      <td>0</td>\n",
       "    </tr>\n",
       "  </tbody>\n",
       "</table>\n",
       "</div>"
      ],
      "text/plain": [
       "         Period          Document_type TALA_Category Direction    Items_group  \\\n",
       "437  Q4 2020/21  Miscellaneous receipt            PC  Incoming  Raw Materials   \n",
       "\n",
       "                Item On-hand_quantity Qty_in_stock Receipt_quantity  \\\n",
       "437  R-370-61/F/1050              217        30910              hij   \n",
       "\n",
       "     Stock_Value Issue_quantity  \n",
       "437  1406.626116              0  "
      ]
     },
     "execution_count": 54,
     "metadata": {},
     "output_type": "execute_result"
    }
   ],
   "source": [
    "#hij\n",
    "\n",
    "alpha_values = raw_data_subset[(raw_data_subset['Receipt_quantity'].str.isalpha())]\n",
    "alpha_values"
   ]
  },
  {
   "cell_type": "code",
   "execution_count": 55,
   "id": "bbdb9a0e",
   "metadata": {},
   "outputs": [
    {
     "data": {
      "text/html": [
       "<div>\n",
       "<style scoped>\n",
       "    .dataframe tbody tr th:only-of-type {\n",
       "        vertical-align: middle;\n",
       "    }\n",
       "\n",
       "    .dataframe tbody tr th {\n",
       "        vertical-align: top;\n",
       "    }\n",
       "\n",
       "    .dataframe thead th {\n",
       "        text-align: right;\n",
       "    }\n",
       "</style>\n",
       "<table border=\"1\" class=\"dataframe\">\n",
       "  <thead>\n",
       "    <tr style=\"text-align: right;\">\n",
       "      <th></th>\n",
       "      <th>Period</th>\n",
       "      <th>Document_type</th>\n",
       "      <th>TALA_Category</th>\n",
       "      <th>Direction</th>\n",
       "      <th>Items_group</th>\n",
       "      <th>Item</th>\n",
       "      <th>On-hand_quantity</th>\n",
       "      <th>Qty_in_stock</th>\n",
       "      <th>Receipt_quantity</th>\n",
       "      <th>Stock_Value</th>\n",
       "      <th>Issue_quantity</th>\n",
       "    </tr>\n",
       "  </thead>\n",
       "  <tbody>\n",
       "    <tr>\n",
       "      <th>438</th>\n",
       "      <td>Q4 2020/21</td>\n",
       "      <td>Miscellaneous receipt</td>\n",
       "      <td>PC</td>\n",
       "      <td>Incoming</td>\n",
       "      <td>Raw Materials</td>\n",
       "      <td>R-50332-15/F/145</td>\n",
       "      <td>0.5</td>\n",
       "      <td>84</td>\n",
       "      <td>0.5</td>\n",
       "      <td>klm</td>\n",
       "      <td>0</td>\n",
       "    </tr>\n",
       "  </tbody>\n",
       "</table>\n",
       "</div>"
      ],
      "text/plain": [
       "         Period          Document_type TALA_Category Direction    Items_group  \\\n",
       "438  Q4 2020/21  Miscellaneous receipt            PC  Incoming  Raw Materials   \n",
       "\n",
       "                 Item On-hand_quantity Qty_in_stock Receipt_quantity  \\\n",
       "438  R-50332-15/F/145              0.5           84              0.5   \n",
       "\n",
       "    Stock_Value Issue_quantity  \n",
       "438         klm              0  "
      ]
     },
     "execution_count": 55,
     "metadata": {},
     "output_type": "execute_result"
    }
   ],
   "source": [
    "#klm\n",
    "\n",
    "alpha_values = raw_data_subset[(raw_data_subset['Stock_Value'].str.isalpha())]\n",
    "alpha_values"
   ]
  },
  {
   "cell_type": "code",
   "execution_count": 56,
   "id": "543b8ca9",
   "metadata": {
    "scrolled": true
   },
   "outputs": [
    {
     "data": {
      "text/html": [
       "<div>\n",
       "<style scoped>\n",
       "    .dataframe tbody tr th:only-of-type {\n",
       "        vertical-align: middle;\n",
       "    }\n",
       "\n",
       "    .dataframe tbody tr th {\n",
       "        vertical-align: top;\n",
       "    }\n",
       "\n",
       "    .dataframe thead th {\n",
       "        text-align: right;\n",
       "    }\n",
       "</style>\n",
       "<table border=\"1\" class=\"dataframe\">\n",
       "  <thead>\n",
       "    <tr style=\"text-align: right;\">\n",
       "      <th></th>\n",
       "      <th>Period</th>\n",
       "      <th>Document_type</th>\n",
       "      <th>TALA_Category</th>\n",
       "      <th>Direction</th>\n",
       "      <th>Items_group</th>\n",
       "      <th>Item</th>\n",
       "      <th>On-hand_quantity</th>\n",
       "      <th>Qty_in_stock</th>\n",
       "      <th>Receipt_quantity</th>\n",
       "      <th>Stock_Value</th>\n",
       "      <th>Issue_quantity</th>\n",
       "    </tr>\n",
       "  </thead>\n",
       "  <tbody>\n",
       "    <tr>\n",
       "      <th>439</th>\n",
       "      <td>Q4 2020/21</td>\n",
       "      <td>Miscellaneous receipt</td>\n",
       "      <td>PC</td>\n",
       "      <td>Incoming</td>\n",
       "      <td>Raw Materials</td>\n",
       "      <td>R-99-98/F/1</td>\n",
       "      <td>204</td>\n",
       "      <td>468223</td>\n",
       "      <td>204</td>\n",
       "      <td>0.815388</td>\n",
       "      <td>opq</td>\n",
       "    </tr>\n",
       "  </tbody>\n",
       "</table>\n",
       "</div>"
      ],
      "text/plain": [
       "         Period          Document_type TALA_Category Direction    Items_group  \\\n",
       "439  Q4 2020/21  Miscellaneous receipt            PC  Incoming  Raw Materials   \n",
       "\n",
       "            Item On-hand_quantity Qty_in_stock Receipt_quantity Stock_Value  \\\n",
       "439  R-99-98/F/1              204       468223              204    0.815388   \n",
       "\n",
       "    Issue_quantity  \n",
       "439            opq  "
      ]
     },
     "execution_count": 56,
     "metadata": {},
     "output_type": "execute_result"
    }
   ],
   "source": [
    "#opq\n",
    "\n",
    "alpha_values = raw_data_subset[(raw_data_subset['Issue_quantity'].str.isalpha())]\n",
    "alpha_values"
   ]
  },
  {
   "cell_type": "code",
   "execution_count": 57,
   "id": "32960e72",
   "metadata": {},
   "outputs": [
    {
     "data": {
      "text/html": [
       "<div>\n",
       "<style scoped>\n",
       "    .dataframe tbody tr th:only-of-type {\n",
       "        vertical-align: middle;\n",
       "    }\n",
       "\n",
       "    .dataframe tbody tr th {\n",
       "        vertical-align: top;\n",
       "    }\n",
       "\n",
       "    .dataframe thead th {\n",
       "        text-align: right;\n",
       "    }\n",
       "</style>\n",
       "<table border=\"1\" class=\"dataframe\">\n",
       "  <thead>\n",
       "    <tr style=\"text-align: right;\">\n",
       "      <th></th>\n",
       "      <th>Period</th>\n",
       "      <th>Document_type</th>\n",
       "      <th>TALA_Category</th>\n",
       "      <th>Direction</th>\n",
       "      <th>Items_group</th>\n",
       "      <th>Item</th>\n",
       "      <th>On-hand_quantity</th>\n",
       "      <th>Qty_in_stock</th>\n",
       "      <th>Receipt_quantity</th>\n",
       "      <th>Stock_Value</th>\n",
       "      <th>Issue_quantity</th>\n",
       "    </tr>\n",
       "  </thead>\n",
       "  <tbody>\n",
       "    <tr>\n",
       "      <th>0</th>\n",
       "      <td>Q1 2020/21</td>\n",
       "      <td>Miscellaneous receipt</td>\n",
       "      <td>PA</td>\n",
       "      <td>Incoming</td>\n",
       "      <td>Finished Material</td>\n",
       "      <td>8338-15/F/244</td>\n",
       "      <td>0</td>\n",
       "      <td>0</td>\n",
       "      <td>1</td>\n",
       "      <td>5.5537</td>\n",
       "      <td>0</td>\n",
       "    </tr>\n",
       "    <tr>\n",
       "      <th>1</th>\n",
       "      <td>Q1 2020/21</td>\n",
       "      <td>Miscellaneous receipt</td>\n",
       "      <td>PA</td>\n",
       "      <td>Incoming</td>\n",
       "      <td>Finished Material</td>\n",
       "      <td>CLAR16177A-61/F/1340</td>\n",
       "      <td>2010</td>\n",
       "      <td>14272.34</td>\n",
       "      <td>2010</td>\n",
       "      <td>13759.53138</td>\n",
       "      <td>0</td>\n",
       "    </tr>\n",
       "    <tr>\n",
       "      <th>2</th>\n",
       "      <td>Q1 2020/21</td>\n",
       "      <td>Miscellaneous receipt</td>\n",
       "      <td>PA</td>\n",
       "      <td>Incoming</td>\n",
       "      <td>Finished Material</td>\n",
       "      <td>CLAR16489B-15/F/218</td>\n",
       "      <td>414</td>\n",
       "      <td>0</td>\n",
       "      <td>414</td>\n",
       "      <td>2093.0184</td>\n",
       "      <td>0</td>\n",
       "    </tr>\n",
       "    <tr>\n",
       "      <th>3</th>\n",
       "      <td>Q1 2020/21</td>\n",
       "      <td>Miscellaneous receipt</td>\n",
       "      <td>PA</td>\n",
       "      <td>Incoming</td>\n",
       "      <td>Finished Material</td>\n",
       "      <td>CLAR16489B-15/F/218W</td>\n",
       "      <td>65</td>\n",
       "      <td>0</td>\n",
       "      <td>1144</td>\n",
       "      <td>8767.1584</td>\n",
       "      <td>0</td>\n",
       "    </tr>\n",
       "    <tr>\n",
       "      <th>4</th>\n",
       "      <td>Q1 2020/21</td>\n",
       "      <td>Miscellaneous receipt</td>\n",
       "      <td>PA</td>\n",
       "      <td>Incoming</td>\n",
       "      <td>Finished Material</td>\n",
       "      <td>CORR11477A-15/F209EP</td>\n",
       "      <td>1881</td>\n",
       "      <td>0</td>\n",
       "      <td>1881</td>\n",
       "      <td>16277.4216</td>\n",
       "      <td>0</td>\n",
       "    </tr>\n",
       "    <tr>\n",
       "      <th>...</th>\n",
       "      <td>...</td>\n",
       "      <td>...</td>\n",
       "      <td>...</td>\n",
       "      <td>...</td>\n",
       "      <td>...</td>\n",
       "      <td>...</td>\n",
       "      <td>...</td>\n",
       "      <td>...</td>\n",
       "      <td>...</td>\n",
       "      <td>...</td>\n",
       "      <td>...</td>\n",
       "    </tr>\n",
       "    <tr>\n",
       "      <th>1111</th>\n",
       "      <td>Q4 2021/22</td>\n",
       "      <td>Supplier receipt</td>\n",
       "      <td>PC</td>\n",
       "      <td>Outgoing</td>\n",
       "      <td>Finished Material</td>\n",
       "      <td>Y-MY004/F/275</td>\n",
       "      <td>-21600</td>\n",
       "      <td>24340</td>\n",
       "      <td>0</td>\n",
       "      <td>-48940.5672</td>\n",
       "      <td>21600</td>\n",
       "    </tr>\n",
       "    <tr>\n",
       "      <th>1112</th>\n",
       "      <td>Q4 2021/22</td>\n",
       "      <td>Supplier receipt</td>\n",
       "      <td>PC</td>\n",
       "      <td>Outgoing</td>\n",
       "      <td>Raw Materials</td>\n",
       "      <td>R-3533-15H/F/184</td>\n",
       "      <td>-3680</td>\n",
       "      <td>2472.64</td>\n",
       "      <td>0</td>\n",
       "      <td>-33941.10368</td>\n",
       "      <td>3680</td>\n",
       "    </tr>\n",
       "    <tr>\n",
       "      <th>1113</th>\n",
       "      <td>Q4 2021/22</td>\n",
       "      <td>Supplier receipt</td>\n",
       "      <td>PC</td>\n",
       "      <td>Outgoing</td>\n",
       "      <td>Raw Materials</td>\n",
       "      <td>R-5435-61/F/1000</td>\n",
       "      <td>-36000</td>\n",
       "      <td>114877</td>\n",
       "      <td>0</td>\n",
       "      <td>-373404.96</td>\n",
       "      <td>36000</td>\n",
       "    </tr>\n",
       "    <tr>\n",
       "      <th>1114</th>\n",
       "      <td>Q4 2021/22</td>\n",
       "      <td>Supplier receipt</td>\n",
       "      <td>PC</td>\n",
       "      <td>Outgoing</td>\n",
       "      <td>Raw Materials</td>\n",
       "      <td>R-6532-15/F/180</td>\n",
       "      <td>-2160</td>\n",
       "      <td>3420</td>\n",
       "      <td>0</td>\n",
       "      <td>-75288.21048</td>\n",
       "      <td>2160</td>\n",
       "    </tr>\n",
       "    <tr>\n",
       "      <th>1115</th>\n",
       "      <td>Q4 2021/22</td>\n",
       "      <td>Supplier receipt</td>\n",
       "      <td>PC</td>\n",
       "      <td>Outgoing</td>\n",
       "      <td>Services</td>\n",
       "      <td>Z-PF07</td>\n",
       "      <td>-1</td>\n",
       "      <td>3</td>\n",
       "      <td>0</td>\n",
       "      <td>-1200.41148</td>\n",
       "      <td>1</td>\n",
       "    </tr>\n",
       "  </tbody>\n",
       "</table>\n",
       "<p>1076 rows × 11 columns</p>\n",
       "</div>"
      ],
      "text/plain": [
       "          Period          Document_type TALA_Category Direction  \\\n",
       "0     Q1 2020/21  Miscellaneous receipt            PA  Incoming   \n",
       "1     Q1 2020/21  Miscellaneous receipt            PA  Incoming   \n",
       "2     Q1 2020/21  Miscellaneous receipt            PA  Incoming   \n",
       "3     Q1 2020/21  Miscellaneous receipt            PA  Incoming   \n",
       "4     Q1 2020/21  Miscellaneous receipt            PA  Incoming   \n",
       "...          ...                    ...           ...       ...   \n",
       "1111  Q4 2021/22       Supplier receipt            PC  Outgoing   \n",
       "1112  Q4 2021/22       Supplier receipt            PC  Outgoing   \n",
       "1113  Q4 2021/22       Supplier receipt            PC  Outgoing   \n",
       "1114  Q4 2021/22       Supplier receipt            PC  Outgoing   \n",
       "1115  Q4 2021/22       Supplier receipt            PC  Outgoing   \n",
       "\n",
       "            Items_group                  Item On-hand_quantity Qty_in_stock  \\\n",
       "0     Finished Material         8338-15/F/244                0            0   \n",
       "1     Finished Material  CLAR16177A-61/F/1340             2010     14272.34   \n",
       "2     Finished Material   CLAR16489B-15/F/218              414            0   \n",
       "3     Finished Material  CLAR16489B-15/F/218W               65            0   \n",
       "4     Finished Material  CORR11477A-15/F209EP             1881            0   \n",
       "...                 ...                   ...              ...          ...   \n",
       "1111  Finished Material         Y-MY004/F/275           -21600        24340   \n",
       "1112      Raw Materials      R-3533-15H/F/184            -3680      2472.64   \n",
       "1113      Raw Materials      R-5435-61/F/1000           -36000       114877   \n",
       "1114      Raw Materials       R-6532-15/F/180            -2160         3420   \n",
       "1115           Services                Z-PF07               -1            3   \n",
       "\n",
       "     Receipt_quantity   Stock_Value Issue_quantity  \n",
       "0                   1        5.5537              0  \n",
       "1                2010   13759.53138              0  \n",
       "2                 414     2093.0184              0  \n",
       "3                1144     8767.1584              0  \n",
       "4                1881    16277.4216              0  \n",
       "...               ...           ...            ...  \n",
       "1111                0   -48940.5672          21600  \n",
       "1112                0  -33941.10368           3680  \n",
       "1113                0    -373404.96          36000  \n",
       "1114                0  -75288.21048           2160  \n",
       "1115                0   -1200.41148              1  \n",
       "\n",
       "[1076 rows x 11 columns]"
      ]
     },
     "execution_count": 57,
     "metadata": {},
     "output_type": "execute_result"
    }
   ],
   "source": [
    "#-K23\n",
    "\n",
    "alphanum_values = raw_data_subset[(raw_data_subset['Issue_quantity'].str.isalnum())]\n",
    "alphanum_values"
   ]
  },
  {
   "cell_type": "code",
   "execution_count": 58,
   "id": "6703730d",
   "metadata": {},
   "outputs": [
    {
     "data": {
      "text/html": [
       "<div>\n",
       "<style scoped>\n",
       "    .dataframe tbody tr th:only-of-type {\n",
       "        vertical-align: middle;\n",
       "    }\n",
       "\n",
       "    .dataframe tbody tr th {\n",
       "        vertical-align: top;\n",
       "    }\n",
       "\n",
       "    .dataframe thead th {\n",
       "        text-align: right;\n",
       "    }\n",
       "</style>\n",
       "<table border=\"1\" class=\"dataframe\">\n",
       "  <thead>\n",
       "    <tr style=\"text-align: right;\">\n",
       "      <th></th>\n",
       "      <th>Period</th>\n",
       "      <th>Document_type</th>\n",
       "      <th>TALA_Category</th>\n",
       "      <th>Direction</th>\n",
       "      <th>Items_group</th>\n",
       "      <th>Item</th>\n",
       "      <th>On-hand_quantity</th>\n",
       "      <th>Qty_in_stock</th>\n",
       "      <th>Receipt_quantity</th>\n",
       "      <th>Stock_Value</th>\n",
       "      <th>Issue_quantity</th>\n",
       "    </tr>\n",
       "  </thead>\n",
       "  <tbody>\n",
       "    <tr>\n",
       "      <th>570</th>\n",
       "      <td>Q4 2020/21</td>\n",
       "      <td>Supplier receipt</td>\n",
       "      <td>PC</td>\n",
       "      <td>Incoming</td>\n",
       "      <td>Services</td>\n",
       "      <td>Z-PF46</td>\n",
       "      <td>14976</td>\n",
       "      <td>470850</td>\n",
       "      <td>14976</td>\n",
       "      <td>12879.36</td>\n",
       "      <td>0</td>\n",
       "    </tr>\n",
       "    <tr>\n",
       "      <th>571</th>\n",
       "      <td>Q4 2020/21</td>\n",
       "      <td>Supplier receipt</td>\n",
       "      <td>PC</td>\n",
       "      <td>Outgoing</td>\n",
       "      <td>Finished Material</td>\n",
       "      <td>MEC72001C-39/F/24000</td>\n",
       "      <td>-145150</td>\n",
       "      <td>133818</td>\n",
       "      <td>0</td>\n",
       "      <td>-580600</td>\n",
       "      <td>-1145150</td>\n",
       "    </tr>\n",
       "    <tr>\n",
       "      <th>572</th>\n",
       "      <td>Q4 2020/21</td>\n",
       "      <td>Supplier receipt</td>\n",
       "      <td>PC</td>\n",
       "      <td>Outgoing</td>\n",
       "      <td>Finished Material</td>\n",
       "      <td>Y-MY0015/F/270/SHELL</td>\n",
       "      <td>-21600</td>\n",
       "      <td>104207</td>\n",
       "      <td>0</td>\n",
       "      <td>-52416.3096</td>\n",
       "      <td>-21600</td>\n",
       "    </tr>\n",
       "    <tr>\n",
       "      <th>573</th>\n",
       "      <td>Q4 2020/21</td>\n",
       "      <td>Supplier receipt</td>\n",
       "      <td>PC</td>\n",
       "      <td>Outgoing</td>\n",
       "      <td>Finished Material</td>\n",
       "      <td>Y-MY0032/F/178</td>\n",
       "      <td>-178</td>\n",
       "      <td>100000</td>\n",
       "      <td>0</td>\n",
       "      <td>-5683.678662</td>\n",
       "      <td>-K23</td>\n",
       "    </tr>\n",
       "    <tr>\n",
       "      <th>574</th>\n",
       "      <td>Q4 2020/21</td>\n",
       "      <td>Supplier receipt</td>\n",
       "      <td>PC</td>\n",
       "      <td>Outgoing</td>\n",
       "      <td>Finished Material</td>\n",
       "      <td>Y-MY007/F/1400</td>\n",
       "      <td>-49000</td>\n",
       "      <td>96797</td>\n",
       "      <td>0</td>\n",
       "      <td>-297388.1288</td>\n",
       "      <td>-49000</td>\n",
       "    </tr>\n",
       "  </tbody>\n",
       "</table>\n",
       "</div>"
      ],
      "text/plain": [
       "         Period     Document_type TALA_Category Direction        Items_group  \\\n",
       "570  Q4 2020/21  Supplier receipt            PC  Incoming           Services   \n",
       "571  Q4 2020/21  Supplier receipt            PC  Outgoing  Finished Material   \n",
       "572  Q4 2020/21  Supplier receipt            PC  Outgoing  Finished Material   \n",
       "573  Q4 2020/21  Supplier receipt            PC  Outgoing  Finished Material   \n",
       "574  Q4 2020/21  Supplier receipt            PC  Outgoing  Finished Material   \n",
       "\n",
       "                     Item On-hand_quantity Qty_in_stock Receipt_quantity  \\\n",
       "570                Z-PF46            14976       470850            14976   \n",
       "571  MEC72001C-39/F/24000          -145150       133818                0   \n",
       "572  Y-MY0015/F/270/SHELL           -21600       104207                0   \n",
       "573        Y-MY0032/F/178             -178       100000                0   \n",
       "574        Y-MY007/F/1400           -49000        96797                0   \n",
       "\n",
       "      Stock_Value Issue_quantity  \n",
       "570      12879.36              0  \n",
       "571       -580600       -1145150  \n",
       "572   -52416.3096         -21600  \n",
       "573  -5683.678662           -K23  \n",
       "574  -297388.1288         -49000  "
      ]
     },
     "execution_count": 58,
     "metadata": {},
     "output_type": "execute_result"
    }
   ],
   "source": [
    "#-K23\n",
    "\n",
    "raw_data_subset.loc[570:574]"
   ]
  },
  {
   "cell_type": "code",
   "execution_count": 59,
   "id": "2d12bf01",
   "metadata": {},
   "outputs": [],
   "source": [
    "#Remove all rows that consist alphabetical & alphanumeric values in quantity, supposingly in integer\n",
    "\n",
    "raw_data_subset = raw_data_subset.drop(labels=[435,436,437,438,439,573], axis=0)"
   ]
  },
  {
   "cell_type": "code",
   "execution_count": 60,
   "id": "421cd5ff",
   "metadata": {},
   "outputs": [
    {
     "data": {
      "text/plain": [
       "(1093, 11)"
      ]
     },
     "execution_count": 60,
     "metadata": {},
     "output_type": "execute_result"
    }
   ],
   "source": [
    "#Update data shape\n",
    "\n",
    "raw_data_subset.shape"
   ]
  },
  {
   "cell_type": "markdown",
   "id": "7e686bb0",
   "metadata": {},
   "source": [
    "<h4> Part 2.4 Remove Incorrect Entries </h4>"
   ]
  },
  {
   "cell_type": "code",
   "execution_count": 61,
   "id": "788c6080",
   "metadata": {},
   "outputs": [
    {
     "data": {
      "text/plain": [
       "Q4 2021/22    171\n",
       "Q4 2020/21    151\n",
       "Q2 2020/21    146\n",
       "Q1 2020/21    138\n",
       "Q3 2020/21    134\n",
       "Q1 2021/22    134\n",
       "Q3 2021/22    109\n",
       "Q2 2021/22    101\n",
       "Q1 2023/24      4\n",
       "Q4 2022/23      2\n",
       "Q4 2020/25      1\n",
       "Q5 2020/21      1\n",
       "Q6 2020/21      1\n",
       "Name: Period, dtype: int64"
      ]
     },
     "execution_count": 61,
     "metadata": {},
     "output_type": "execute_result"
    }
   ],
   "source": [
    "#check 'Period' columns values that has incorrect entries\n",
    "\n",
    "raw_data_subset['Period'].value_counts()"
   ]
  },
  {
   "cell_type": "code",
   "execution_count": 62,
   "id": "df73b054",
   "metadata": {},
   "outputs": [],
   "source": [
    "#remove first incorrect entries\n",
    "\n",
    "raw_data_subset = raw_data_subset[raw_data_subset['Period'] != 'Q4 2020/25']"
   ]
  },
  {
   "cell_type": "code",
   "execution_count": 63,
   "id": "5d306161",
   "metadata": {},
   "outputs": [],
   "source": [
    "#remove second incorrect entries\n",
    "\n",
    "raw_data_subset = raw_data_subset[raw_data_subset['Period'] != 'Q5 2020/21']"
   ]
  },
  {
   "cell_type": "code",
   "execution_count": 64,
   "id": "643da64a",
   "metadata": {},
   "outputs": [],
   "source": [
    "#remove third incorrect entries\n",
    "\n",
    "raw_data_subset = raw_data_subset[raw_data_subset['Period'] != 'Q6 2020/21']"
   ]
  },
  {
   "cell_type": "code",
   "execution_count": 65,
   "id": "67a40f2b",
   "metadata": {},
   "outputs": [
    {
     "data": {
      "text/plain": [
       "Q4 2021/22    171\n",
       "Q4 2020/21    151\n",
       "Q2 2020/21    146\n",
       "Q1 2020/21    138\n",
       "Q3 2020/21    134\n",
       "Q1 2021/22    134\n",
       "Q3 2021/22    109\n",
       "Q2 2021/22    101\n",
       "Q1 2023/24      4\n",
       "Q4 2022/23      2\n",
       "Name: Period, dtype: int64"
      ]
     },
     "execution_count": 65,
     "metadata": {},
     "output_type": "execute_result"
    }
   ],
   "source": [
    "#Column 'Period' rows with incorrect entries are removed\n",
    "\n",
    "raw_data_subset['Period'].value_counts()"
   ]
  },
  {
   "cell_type": "code",
   "execution_count": 66,
   "id": "01197b86",
   "metadata": {},
   "outputs": [
    {
     "data": {
      "text/plain": [
       "(1090, 11)"
      ]
     },
     "execution_count": 66,
     "metadata": {},
     "output_type": "execute_result"
    }
   ],
   "source": [
    "#final data size after removing incorrect entries based on Period\n",
    "\n",
    "raw_data_subset.shape"
   ]
  },
  {
   "cell_type": "markdown",
   "id": "fb3e25c8",
   "metadata": {},
   "source": [
    "<h4> Part 2.5 Remove Duplicate Entries </h4>"
   ]
  },
  {
   "cell_type": "code",
   "execution_count": 67,
   "id": "69767512",
   "metadata": {},
   "outputs": [
    {
     "data": {
      "text/plain": [
       "(1090, 11)"
      ]
     },
     "execution_count": 67,
     "metadata": {},
     "output_type": "execute_result"
    }
   ],
   "source": [
    "raw_data_subset.shape"
   ]
  },
  {
   "cell_type": "code",
   "execution_count": 68,
   "id": "9006bc03",
   "metadata": {
    "scrolled": true
   },
   "outputs": [
    {
     "data": {
      "text/plain": [
       "0       False\n",
       "1       False\n",
       "2       False\n",
       "3       False\n",
       "4       False\n",
       "        ...  \n",
       "1111    False\n",
       "1112    False\n",
       "1113    False\n",
       "1114    False\n",
       "1115    False\n",
       "Length: 1090, dtype: bool"
      ]
     },
     "execution_count": 68,
     "metadata": {},
     "output_type": "execute_result"
    }
   ],
   "source": [
    "#check for duplication\n",
    "\n",
    "raw_data_subset.duplicated()"
   ]
  },
  {
   "cell_type": "code",
   "execution_count": 69,
   "id": "e5588446",
   "metadata": {},
   "outputs": [
    {
     "data": {
      "text/plain": [
       "0"
      ]
     },
     "execution_count": 69,
     "metadata": {},
     "output_type": "execute_result"
    }
   ],
   "source": [
    "raw_data_subset.duplicated().sum()"
   ]
  },
  {
   "cell_type": "code",
   "execution_count": 70,
   "id": "5669b9f1",
   "metadata": {},
   "outputs": [],
   "source": [
    "#check duplication rows based on 9 columns but keep the first row if there is duplication \n",
    "\n",
    "raw_data_subset.drop_duplicates(subset=['TALA_Category','Direction','Items_group','Item','On-hand_quantity','Qty_in_stock','Receipt_quantity',\n",
    "                                        'Stock_Value','Issue_quantity'], keep='first',inplace=True)"
   ]
  },
  {
   "cell_type": "code",
   "execution_count": 71,
   "id": "f556219c",
   "metadata": {},
   "outputs": [
    {
     "data": {
      "text/html": [
       "<div>\n",
       "<style scoped>\n",
       "    .dataframe tbody tr th:only-of-type {\n",
       "        vertical-align: middle;\n",
       "    }\n",
       "\n",
       "    .dataframe tbody tr th {\n",
       "        vertical-align: top;\n",
       "    }\n",
       "\n",
       "    .dataframe thead th {\n",
       "        text-align: right;\n",
       "    }\n",
       "</style>\n",
       "<table border=\"1\" class=\"dataframe\">\n",
       "  <thead>\n",
       "    <tr style=\"text-align: right;\">\n",
       "      <th></th>\n",
       "      <th>Period</th>\n",
       "      <th>Document_type</th>\n",
       "      <th>TALA_Category</th>\n",
       "      <th>Direction</th>\n",
       "      <th>Items_group</th>\n",
       "      <th>Item</th>\n",
       "      <th>On-hand_quantity</th>\n",
       "      <th>Qty_in_stock</th>\n",
       "      <th>Receipt_quantity</th>\n",
       "      <th>Stock_Value</th>\n",
       "      <th>Issue_quantity</th>\n",
       "    </tr>\n",
       "  </thead>\n",
       "  <tbody>\n",
       "    <tr>\n",
       "      <th>0</th>\n",
       "      <td>Q1 2020/21</td>\n",
       "      <td>Miscellaneous receipt</td>\n",
       "      <td>PA</td>\n",
       "      <td>Incoming</td>\n",
       "      <td>Finished Material</td>\n",
       "      <td>8338-15/F/244</td>\n",
       "      <td>0</td>\n",
       "      <td>0</td>\n",
       "      <td>1</td>\n",
       "      <td>5.5537</td>\n",
       "      <td>0</td>\n",
       "    </tr>\n",
       "    <tr>\n",
       "      <th>1</th>\n",
       "      <td>Q1 2020/21</td>\n",
       "      <td>Miscellaneous receipt</td>\n",
       "      <td>PA</td>\n",
       "      <td>Incoming</td>\n",
       "      <td>Finished Material</td>\n",
       "      <td>CLAR16177A-61/F/1340</td>\n",
       "      <td>2010</td>\n",
       "      <td>14272.34</td>\n",
       "      <td>2010</td>\n",
       "      <td>13759.53138</td>\n",
       "      <td>0</td>\n",
       "    </tr>\n",
       "    <tr>\n",
       "      <th>2</th>\n",
       "      <td>Q1 2020/21</td>\n",
       "      <td>Miscellaneous receipt</td>\n",
       "      <td>PA</td>\n",
       "      <td>Incoming</td>\n",
       "      <td>Finished Material</td>\n",
       "      <td>CLAR16489B-15/F/218</td>\n",
       "      <td>414</td>\n",
       "      <td>0</td>\n",
       "      <td>414</td>\n",
       "      <td>2093.0184</td>\n",
       "      <td>0</td>\n",
       "    </tr>\n",
       "    <tr>\n",
       "      <th>3</th>\n",
       "      <td>Q1 2020/21</td>\n",
       "      <td>Miscellaneous receipt</td>\n",
       "      <td>PA</td>\n",
       "      <td>Incoming</td>\n",
       "      <td>Finished Material</td>\n",
       "      <td>CLAR16489B-15/F/218W</td>\n",
       "      <td>65</td>\n",
       "      <td>0</td>\n",
       "      <td>1144</td>\n",
       "      <td>8767.1584</td>\n",
       "      <td>0</td>\n",
       "    </tr>\n",
       "    <tr>\n",
       "      <th>4</th>\n",
       "      <td>Q1 2020/21</td>\n",
       "      <td>Miscellaneous receipt</td>\n",
       "      <td>PA</td>\n",
       "      <td>Incoming</td>\n",
       "      <td>Finished Material</td>\n",
       "      <td>CORR11477A-15/F209EP</td>\n",
       "      <td>1881</td>\n",
       "      <td>0</td>\n",
       "      <td>1881</td>\n",
       "      <td>16277.4216</td>\n",
       "      <td>0</td>\n",
       "    </tr>\n",
       "    <tr>\n",
       "      <th>...</th>\n",
       "      <td>...</td>\n",
       "      <td>...</td>\n",
       "      <td>...</td>\n",
       "      <td>...</td>\n",
       "      <td>...</td>\n",
       "      <td>...</td>\n",
       "      <td>...</td>\n",
       "      <td>...</td>\n",
       "      <td>...</td>\n",
       "      <td>...</td>\n",
       "      <td>...</td>\n",
       "    </tr>\n",
       "    <tr>\n",
       "      <th>1111</th>\n",
       "      <td>Q4 2021/22</td>\n",
       "      <td>Supplier receipt</td>\n",
       "      <td>PC</td>\n",
       "      <td>Outgoing</td>\n",
       "      <td>Finished Material</td>\n",
       "      <td>Y-MY004/F/275</td>\n",
       "      <td>-21600</td>\n",
       "      <td>24340</td>\n",
       "      <td>0</td>\n",
       "      <td>-48940.5672</td>\n",
       "      <td>21600</td>\n",
       "    </tr>\n",
       "    <tr>\n",
       "      <th>1112</th>\n",
       "      <td>Q4 2021/22</td>\n",
       "      <td>Supplier receipt</td>\n",
       "      <td>PC</td>\n",
       "      <td>Outgoing</td>\n",
       "      <td>Raw Materials</td>\n",
       "      <td>R-3533-15H/F/184</td>\n",
       "      <td>-3680</td>\n",
       "      <td>2472.64</td>\n",
       "      <td>0</td>\n",
       "      <td>-33941.10368</td>\n",
       "      <td>3680</td>\n",
       "    </tr>\n",
       "    <tr>\n",
       "      <th>1113</th>\n",
       "      <td>Q4 2021/22</td>\n",
       "      <td>Supplier receipt</td>\n",
       "      <td>PC</td>\n",
       "      <td>Outgoing</td>\n",
       "      <td>Raw Materials</td>\n",
       "      <td>R-5435-61/F/1000</td>\n",
       "      <td>-36000</td>\n",
       "      <td>114877</td>\n",
       "      <td>0</td>\n",
       "      <td>-373404.96</td>\n",
       "      <td>36000</td>\n",
       "    </tr>\n",
       "    <tr>\n",
       "      <th>1114</th>\n",
       "      <td>Q4 2021/22</td>\n",
       "      <td>Supplier receipt</td>\n",
       "      <td>PC</td>\n",
       "      <td>Outgoing</td>\n",
       "      <td>Raw Materials</td>\n",
       "      <td>R-6532-15/F/180</td>\n",
       "      <td>-2160</td>\n",
       "      <td>3420</td>\n",
       "      <td>0</td>\n",
       "      <td>-75288.21048</td>\n",
       "      <td>2160</td>\n",
       "    </tr>\n",
       "    <tr>\n",
       "      <th>1115</th>\n",
       "      <td>Q4 2021/22</td>\n",
       "      <td>Supplier receipt</td>\n",
       "      <td>PC</td>\n",
       "      <td>Outgoing</td>\n",
       "      <td>Services</td>\n",
       "      <td>Z-PF07</td>\n",
       "      <td>-1</td>\n",
       "      <td>3</td>\n",
       "      <td>0</td>\n",
       "      <td>-1200.41148</td>\n",
       "      <td>1</td>\n",
       "    </tr>\n",
       "  </tbody>\n",
       "</table>\n",
       "<p>1041 rows × 11 columns</p>\n",
       "</div>"
      ],
      "text/plain": [
       "          Period          Document_type TALA_Category Direction  \\\n",
       "0     Q1 2020/21  Miscellaneous receipt            PA  Incoming   \n",
       "1     Q1 2020/21  Miscellaneous receipt            PA  Incoming   \n",
       "2     Q1 2020/21  Miscellaneous receipt            PA  Incoming   \n",
       "3     Q1 2020/21  Miscellaneous receipt            PA  Incoming   \n",
       "4     Q1 2020/21  Miscellaneous receipt            PA  Incoming   \n",
       "...          ...                    ...           ...       ...   \n",
       "1111  Q4 2021/22       Supplier receipt            PC  Outgoing   \n",
       "1112  Q4 2021/22       Supplier receipt            PC  Outgoing   \n",
       "1113  Q4 2021/22       Supplier receipt            PC  Outgoing   \n",
       "1114  Q4 2021/22       Supplier receipt            PC  Outgoing   \n",
       "1115  Q4 2021/22       Supplier receipt            PC  Outgoing   \n",
       "\n",
       "            Items_group                  Item On-hand_quantity Qty_in_stock  \\\n",
       "0     Finished Material         8338-15/F/244                0            0   \n",
       "1     Finished Material  CLAR16177A-61/F/1340             2010     14272.34   \n",
       "2     Finished Material   CLAR16489B-15/F/218              414            0   \n",
       "3     Finished Material  CLAR16489B-15/F/218W               65            0   \n",
       "4     Finished Material  CORR11477A-15/F209EP             1881            0   \n",
       "...                 ...                   ...              ...          ...   \n",
       "1111  Finished Material         Y-MY004/F/275           -21600        24340   \n",
       "1112      Raw Materials      R-3533-15H/F/184            -3680      2472.64   \n",
       "1113      Raw Materials      R-5435-61/F/1000           -36000       114877   \n",
       "1114      Raw Materials       R-6532-15/F/180            -2160         3420   \n",
       "1115           Services                Z-PF07               -1            3   \n",
       "\n",
       "     Receipt_quantity   Stock_Value Issue_quantity  \n",
       "0                   1        5.5537              0  \n",
       "1                2010   13759.53138              0  \n",
       "2                 414     2093.0184              0  \n",
       "3                1144     8767.1584              0  \n",
       "4                1881    16277.4216              0  \n",
       "...               ...           ...            ...  \n",
       "1111                0   -48940.5672          21600  \n",
       "1112                0  -33941.10368           3680  \n",
       "1113                0    -373404.96          36000  \n",
       "1114                0  -75288.21048           2160  \n",
       "1115                0   -1200.41148              1  \n",
       "\n",
       "[1041 rows x 11 columns]"
      ]
     },
     "execution_count": 71,
     "metadata": {},
     "output_type": "execute_result"
    }
   ],
   "source": [
    "raw_data_subset"
   ]
  },
  {
   "cell_type": "markdown",
   "id": "684fdacd",
   "metadata": {},
   "source": [
    "<h4> Part 2.6 Change Quantity dtypes to Float </h4>"
   ]
  },
  {
   "cell_type": "code",
   "execution_count": 72,
   "id": "6b7b7d6a",
   "metadata": {},
   "outputs": [
    {
     "data": {
      "text/plain": [
       "(1041, 11)"
      ]
     },
     "execution_count": 72,
     "metadata": {},
     "output_type": "execute_result"
    }
   ],
   "source": [
    "raw_data_subset.shape"
   ]
  },
  {
   "cell_type": "code",
   "execution_count": 73,
   "id": "a50bc75a",
   "metadata": {},
   "outputs": [
    {
     "data": {
      "text/plain": [
       "Period              object\n",
       "Document_type       object\n",
       "TALA_Category       object\n",
       "Direction           object\n",
       "Items_group         object\n",
       "Item                object\n",
       "On-hand_quantity    object\n",
       "Qty_in_stock        object\n",
       "Receipt_quantity    object\n",
       "Stock_Value         object\n",
       "Issue_quantity      object\n",
       "dtype: object"
      ]
     },
     "execution_count": 73,
     "metadata": {},
     "output_type": "execute_result"
    }
   ],
   "source": [
    "#data dtypes that are in numeric belongs to object before change\n",
    "\n",
    "raw_data_subset.dtypes"
   ]
  },
  {
   "cell_type": "code",
   "execution_count": 74,
   "id": "0369a01f",
   "metadata": {},
   "outputs": [],
   "source": [
    "#change dtypes for those in numeric to float \n",
    "\n",
    "for c in [\"Qty_in_stock\", \"On-hand_quantity\", \"Receipt_quantity\", \"Stock_Value\", \"Issue_quantity\"]:\n",
    "    raw_data_subset[c] = pd.to_numeric(raw_data_subset[c])"
   ]
  },
  {
   "cell_type": "code",
   "execution_count": 75,
   "id": "e1cd4408",
   "metadata": {
    "scrolled": true
   },
   "outputs": [
    {
     "data": {
      "text/plain": [
       "Period               object\n",
       "Document_type        object\n",
       "TALA_Category        object\n",
       "Direction            object\n",
       "Items_group          object\n",
       "Item                 object\n",
       "On-hand_quantity    float64\n",
       "Qty_in_stock        float64\n",
       "Receipt_quantity    float64\n",
       "Stock_Value         float64\n",
       "Issue_quantity      float64\n",
       "dtype: object"
      ]
     },
     "execution_count": 75,
     "metadata": {},
     "output_type": "execute_result"
    }
   ],
   "source": [
    "#data dtypes that are in numeric now belongs to float\n",
    "\n",
    "raw_data_subset.dtypes"
   ]
  },
  {
   "cell_type": "markdown",
   "id": "014fabbc",
   "metadata": {},
   "source": [
    "<h4> Part 2.7 Round up Decimal Values </h4>"
   ]
  },
  {
   "cell_type": "code",
   "execution_count": 76,
   "id": "4e86820e",
   "metadata": {
    "scrolled": false
   },
   "outputs": [
    {
     "data": {
      "text/html": [
       "<div>\n",
       "<style scoped>\n",
       "    .dataframe tbody tr th:only-of-type {\n",
       "        vertical-align: middle;\n",
       "    }\n",
       "\n",
       "    .dataframe tbody tr th {\n",
       "        vertical-align: top;\n",
       "    }\n",
       "\n",
       "    .dataframe thead th {\n",
       "        text-align: right;\n",
       "    }\n",
       "</style>\n",
       "<table border=\"1\" class=\"dataframe\">\n",
       "  <thead>\n",
       "    <tr style=\"text-align: right;\">\n",
       "      <th></th>\n",
       "      <th>Period</th>\n",
       "      <th>Document_type</th>\n",
       "      <th>TALA_Category</th>\n",
       "      <th>Direction</th>\n",
       "      <th>Items_group</th>\n",
       "      <th>Item</th>\n",
       "      <th>On-hand_quantity</th>\n",
       "      <th>Qty_in_stock</th>\n",
       "      <th>Receipt_quantity</th>\n",
       "      <th>Stock_Value</th>\n",
       "      <th>Issue_quantity</th>\n",
       "    </tr>\n",
       "  </thead>\n",
       "  <tbody>\n",
       "    <tr>\n",
       "      <th>0</th>\n",
       "      <td>Q1 2020/21</td>\n",
       "      <td>Miscellaneous receipt</td>\n",
       "      <td>PA</td>\n",
       "      <td>Incoming</td>\n",
       "      <td>Finished Material</td>\n",
       "      <td>8338-15/F/244</td>\n",
       "      <td>0.0</td>\n",
       "      <td>0.00</td>\n",
       "      <td>1.0</td>\n",
       "      <td>5.55370</td>\n",
       "      <td>0.0</td>\n",
       "    </tr>\n",
       "    <tr>\n",
       "      <th>1</th>\n",
       "      <td>Q1 2020/21</td>\n",
       "      <td>Miscellaneous receipt</td>\n",
       "      <td>PA</td>\n",
       "      <td>Incoming</td>\n",
       "      <td>Finished Material</td>\n",
       "      <td>CLAR16177A-61/F/1340</td>\n",
       "      <td>2010.0</td>\n",
       "      <td>14272.34</td>\n",
       "      <td>2010.0</td>\n",
       "      <td>13759.53138</td>\n",
       "      <td>0.0</td>\n",
       "    </tr>\n",
       "    <tr>\n",
       "      <th>2</th>\n",
       "      <td>Q1 2020/21</td>\n",
       "      <td>Miscellaneous receipt</td>\n",
       "      <td>PA</td>\n",
       "      <td>Incoming</td>\n",
       "      <td>Finished Material</td>\n",
       "      <td>CLAR16489B-15/F/218</td>\n",
       "      <td>414.0</td>\n",
       "      <td>0.00</td>\n",
       "      <td>414.0</td>\n",
       "      <td>2093.01840</td>\n",
       "      <td>0.0</td>\n",
       "    </tr>\n",
       "    <tr>\n",
       "      <th>3</th>\n",
       "      <td>Q1 2020/21</td>\n",
       "      <td>Miscellaneous receipt</td>\n",
       "      <td>PA</td>\n",
       "      <td>Incoming</td>\n",
       "      <td>Finished Material</td>\n",
       "      <td>CLAR16489B-15/F/218W</td>\n",
       "      <td>65.0</td>\n",
       "      <td>0.00</td>\n",
       "      <td>1144.0</td>\n",
       "      <td>8767.15840</td>\n",
       "      <td>0.0</td>\n",
       "    </tr>\n",
       "    <tr>\n",
       "      <th>4</th>\n",
       "      <td>Q1 2020/21</td>\n",
       "      <td>Miscellaneous receipt</td>\n",
       "      <td>PA</td>\n",
       "      <td>Incoming</td>\n",
       "      <td>Finished Material</td>\n",
       "      <td>CORR11477A-15/F209EP</td>\n",
       "      <td>1881.0</td>\n",
       "      <td>0.00</td>\n",
       "      <td>1881.0</td>\n",
       "      <td>16277.42160</td>\n",
       "      <td>0.0</td>\n",
       "    </tr>\n",
       "    <tr>\n",
       "      <th>...</th>\n",
       "      <td>...</td>\n",
       "      <td>...</td>\n",
       "      <td>...</td>\n",
       "      <td>...</td>\n",
       "      <td>...</td>\n",
       "      <td>...</td>\n",
       "      <td>...</td>\n",
       "      <td>...</td>\n",
       "      <td>...</td>\n",
       "      <td>...</td>\n",
       "      <td>...</td>\n",
       "    </tr>\n",
       "    <tr>\n",
       "      <th>1111</th>\n",
       "      <td>Q4 2021/22</td>\n",
       "      <td>Supplier receipt</td>\n",
       "      <td>PC</td>\n",
       "      <td>Outgoing</td>\n",
       "      <td>Finished Material</td>\n",
       "      <td>Y-MY004/F/275</td>\n",
       "      <td>-21600.0</td>\n",
       "      <td>24340.00</td>\n",
       "      <td>0.0</td>\n",
       "      <td>-48940.56720</td>\n",
       "      <td>21600.0</td>\n",
       "    </tr>\n",
       "    <tr>\n",
       "      <th>1112</th>\n",
       "      <td>Q4 2021/22</td>\n",
       "      <td>Supplier receipt</td>\n",
       "      <td>PC</td>\n",
       "      <td>Outgoing</td>\n",
       "      <td>Raw Materials</td>\n",
       "      <td>R-3533-15H/F/184</td>\n",
       "      <td>-3680.0</td>\n",
       "      <td>2472.64</td>\n",
       "      <td>0.0</td>\n",
       "      <td>-33941.10368</td>\n",
       "      <td>3680.0</td>\n",
       "    </tr>\n",
       "    <tr>\n",
       "      <th>1113</th>\n",
       "      <td>Q4 2021/22</td>\n",
       "      <td>Supplier receipt</td>\n",
       "      <td>PC</td>\n",
       "      <td>Outgoing</td>\n",
       "      <td>Raw Materials</td>\n",
       "      <td>R-5435-61/F/1000</td>\n",
       "      <td>-36000.0</td>\n",
       "      <td>114877.00</td>\n",
       "      <td>0.0</td>\n",
       "      <td>-373404.96000</td>\n",
       "      <td>36000.0</td>\n",
       "    </tr>\n",
       "    <tr>\n",
       "      <th>1114</th>\n",
       "      <td>Q4 2021/22</td>\n",
       "      <td>Supplier receipt</td>\n",
       "      <td>PC</td>\n",
       "      <td>Outgoing</td>\n",
       "      <td>Raw Materials</td>\n",
       "      <td>R-6532-15/F/180</td>\n",
       "      <td>-2160.0</td>\n",
       "      <td>3420.00</td>\n",
       "      <td>0.0</td>\n",
       "      <td>-75288.21048</td>\n",
       "      <td>2160.0</td>\n",
       "    </tr>\n",
       "    <tr>\n",
       "      <th>1115</th>\n",
       "      <td>Q4 2021/22</td>\n",
       "      <td>Supplier receipt</td>\n",
       "      <td>PC</td>\n",
       "      <td>Outgoing</td>\n",
       "      <td>Services</td>\n",
       "      <td>Z-PF07</td>\n",
       "      <td>-1.0</td>\n",
       "      <td>3.00</td>\n",
       "      <td>0.0</td>\n",
       "      <td>-1200.41148</td>\n",
       "      <td>1.0</td>\n",
       "    </tr>\n",
       "  </tbody>\n",
       "</table>\n",
       "<p>1041 rows × 11 columns</p>\n",
       "</div>"
      ],
      "text/plain": [
       "          Period          Document_type TALA_Category Direction  \\\n",
       "0     Q1 2020/21  Miscellaneous receipt            PA  Incoming   \n",
       "1     Q1 2020/21  Miscellaneous receipt            PA  Incoming   \n",
       "2     Q1 2020/21  Miscellaneous receipt            PA  Incoming   \n",
       "3     Q1 2020/21  Miscellaneous receipt            PA  Incoming   \n",
       "4     Q1 2020/21  Miscellaneous receipt            PA  Incoming   \n",
       "...          ...                    ...           ...       ...   \n",
       "1111  Q4 2021/22       Supplier receipt            PC  Outgoing   \n",
       "1112  Q4 2021/22       Supplier receipt            PC  Outgoing   \n",
       "1113  Q4 2021/22       Supplier receipt            PC  Outgoing   \n",
       "1114  Q4 2021/22       Supplier receipt            PC  Outgoing   \n",
       "1115  Q4 2021/22       Supplier receipt            PC  Outgoing   \n",
       "\n",
       "            Items_group                  Item  On-hand_quantity  Qty_in_stock  \\\n",
       "0     Finished Material         8338-15/F/244               0.0          0.00   \n",
       "1     Finished Material  CLAR16177A-61/F/1340            2010.0      14272.34   \n",
       "2     Finished Material   CLAR16489B-15/F/218             414.0          0.00   \n",
       "3     Finished Material  CLAR16489B-15/F/218W              65.0          0.00   \n",
       "4     Finished Material  CORR11477A-15/F209EP            1881.0          0.00   \n",
       "...                 ...                   ...               ...           ...   \n",
       "1111  Finished Material         Y-MY004/F/275          -21600.0      24340.00   \n",
       "1112      Raw Materials      R-3533-15H/F/184           -3680.0       2472.64   \n",
       "1113      Raw Materials      R-5435-61/F/1000          -36000.0     114877.00   \n",
       "1114      Raw Materials       R-6532-15/F/180           -2160.0       3420.00   \n",
       "1115           Services                Z-PF07              -1.0          3.00   \n",
       "\n",
       "      Receipt_quantity   Stock_Value  Issue_quantity  \n",
       "0                  1.0       5.55370             0.0  \n",
       "1               2010.0   13759.53138             0.0  \n",
       "2                414.0    2093.01840             0.0  \n",
       "3               1144.0    8767.15840             0.0  \n",
       "4               1881.0   16277.42160             0.0  \n",
       "...                ...           ...             ...  \n",
       "1111               0.0  -48940.56720         21600.0  \n",
       "1112               0.0  -33941.10368          3680.0  \n",
       "1113               0.0 -373404.96000         36000.0  \n",
       "1114               0.0  -75288.21048          2160.0  \n",
       "1115               0.0   -1200.41148             1.0  \n",
       "\n",
       "[1041 rows x 11 columns]"
      ]
     },
     "execution_count": 76,
     "metadata": {},
     "output_type": "execute_result"
    }
   ],
   "source": [
    "#numeric datas are still in decimal value\n",
    "\n",
    "raw_data_subset"
   ]
  },
  {
   "cell_type": "code",
   "execution_count": 77,
   "id": "de7f90e8",
   "metadata": {},
   "outputs": [],
   "source": [
    "#round up decimal values\n",
    "\n",
    "raw_data_final = pd.DataFrame(raw_data_subset)\n",
    "\n",
    "raw_data_subset = raw_data_final.round(0)"
   ]
  },
  {
   "cell_type": "code",
   "execution_count": 78,
   "id": "b2a4563d",
   "metadata": {},
   "outputs": [],
   "source": [
    "#Change float values to integers in order to remove decimal values\n",
    "\n",
    "raw_data_subset[\"On-hand_quantity\"] = raw_data_subset[\"On-hand_quantity\"].apply(np.int64)\n",
    "raw_data_subset[\"Qty_in_stock\"] = raw_data_subset[\"Qty_in_stock\"].apply(np.int64)\n",
    "raw_data_subset[\"Receipt_quantity\"] = raw_data_subset[\"Receipt_quantity\"].apply(np.int64)\n",
    "raw_data_subset[\"Stock_Value\"] = raw_data_subset[\"Stock_Value\"].apply(np.int64)\n",
    "raw_data_subset[\"Issue_quantity\"] = raw_data_subset[\"Issue_quantity\"].apply(np.int64)"
   ]
  },
  {
   "cell_type": "code",
   "execution_count": 79,
   "id": "41fa73df",
   "metadata": {},
   "outputs": [
    {
     "data": {
      "text/plain": [
       "(1041, 11)"
      ]
     },
     "execution_count": 79,
     "metadata": {},
     "output_type": "execute_result"
    }
   ],
   "source": [
    "raw_data_subset.shape"
   ]
  },
  {
   "cell_type": "code",
   "execution_count": 80,
   "id": "13df5fb6",
   "metadata": {},
   "outputs": [
    {
     "data": {
      "text/plain": [
       "Period              object\n",
       "Document_type       object\n",
       "TALA_Category       object\n",
       "Direction           object\n",
       "Items_group         object\n",
       "Item                object\n",
       "On-hand_quantity     int64\n",
       "Qty_in_stock         int64\n",
       "Receipt_quantity     int64\n",
       "Stock_Value          int64\n",
       "Issue_quantity       int64\n",
       "dtype: object"
      ]
     },
     "execution_count": 80,
     "metadata": {},
     "output_type": "execute_result"
    }
   ],
   "source": [
    "raw_data_subset.dtypes"
   ]
  },
  {
   "cell_type": "code",
   "execution_count": 81,
   "id": "a36e3a43",
   "metadata": {},
   "outputs": [
    {
     "data": {
      "text/html": [
       "<div>\n",
       "<style scoped>\n",
       "    .dataframe tbody tr th:only-of-type {\n",
       "        vertical-align: middle;\n",
       "    }\n",
       "\n",
       "    .dataframe tbody tr th {\n",
       "        vertical-align: top;\n",
       "    }\n",
       "\n",
       "    .dataframe thead th {\n",
       "        text-align: right;\n",
       "    }\n",
       "</style>\n",
       "<table border=\"1\" class=\"dataframe\">\n",
       "  <thead>\n",
       "    <tr style=\"text-align: right;\">\n",
       "      <th></th>\n",
       "      <th>Period</th>\n",
       "      <th>Document_type</th>\n",
       "      <th>TALA_Category</th>\n",
       "      <th>Direction</th>\n",
       "      <th>Items_group</th>\n",
       "      <th>Item</th>\n",
       "      <th>On-hand_quantity</th>\n",
       "      <th>Qty_in_stock</th>\n",
       "      <th>Receipt_quantity</th>\n",
       "      <th>Stock_Value</th>\n",
       "      <th>Issue_quantity</th>\n",
       "    </tr>\n",
       "  </thead>\n",
       "  <tbody>\n",
       "    <tr>\n",
       "      <th>0</th>\n",
       "      <td>Q1 2020/21</td>\n",
       "      <td>Miscellaneous receipt</td>\n",
       "      <td>PA</td>\n",
       "      <td>Incoming</td>\n",
       "      <td>Finished Material</td>\n",
       "      <td>8338-15/F/244</td>\n",
       "      <td>0</td>\n",
       "      <td>0</td>\n",
       "      <td>1</td>\n",
       "      <td>6</td>\n",
       "      <td>0</td>\n",
       "    </tr>\n",
       "    <tr>\n",
       "      <th>1</th>\n",
       "      <td>Q1 2020/21</td>\n",
       "      <td>Miscellaneous receipt</td>\n",
       "      <td>PA</td>\n",
       "      <td>Incoming</td>\n",
       "      <td>Finished Material</td>\n",
       "      <td>CLAR16177A-61/F/1340</td>\n",
       "      <td>2010</td>\n",
       "      <td>14272</td>\n",
       "      <td>2010</td>\n",
       "      <td>13760</td>\n",
       "      <td>0</td>\n",
       "    </tr>\n",
       "    <tr>\n",
       "      <th>2</th>\n",
       "      <td>Q1 2020/21</td>\n",
       "      <td>Miscellaneous receipt</td>\n",
       "      <td>PA</td>\n",
       "      <td>Incoming</td>\n",
       "      <td>Finished Material</td>\n",
       "      <td>CLAR16489B-15/F/218</td>\n",
       "      <td>414</td>\n",
       "      <td>0</td>\n",
       "      <td>414</td>\n",
       "      <td>2093</td>\n",
       "      <td>0</td>\n",
       "    </tr>\n",
       "    <tr>\n",
       "      <th>3</th>\n",
       "      <td>Q1 2020/21</td>\n",
       "      <td>Miscellaneous receipt</td>\n",
       "      <td>PA</td>\n",
       "      <td>Incoming</td>\n",
       "      <td>Finished Material</td>\n",
       "      <td>CLAR16489B-15/F/218W</td>\n",
       "      <td>65</td>\n",
       "      <td>0</td>\n",
       "      <td>1144</td>\n",
       "      <td>8767</td>\n",
       "      <td>0</td>\n",
       "    </tr>\n",
       "    <tr>\n",
       "      <th>4</th>\n",
       "      <td>Q1 2020/21</td>\n",
       "      <td>Miscellaneous receipt</td>\n",
       "      <td>PA</td>\n",
       "      <td>Incoming</td>\n",
       "      <td>Finished Material</td>\n",
       "      <td>CORR11477A-15/F209EP</td>\n",
       "      <td>1881</td>\n",
       "      <td>0</td>\n",
       "      <td>1881</td>\n",
       "      <td>16277</td>\n",
       "      <td>0</td>\n",
       "    </tr>\n",
       "    <tr>\n",
       "      <th>...</th>\n",
       "      <td>...</td>\n",
       "      <td>...</td>\n",
       "      <td>...</td>\n",
       "      <td>...</td>\n",
       "      <td>...</td>\n",
       "      <td>...</td>\n",
       "      <td>...</td>\n",
       "      <td>...</td>\n",
       "      <td>...</td>\n",
       "      <td>...</td>\n",
       "      <td>...</td>\n",
       "    </tr>\n",
       "    <tr>\n",
       "      <th>1111</th>\n",
       "      <td>Q4 2021/22</td>\n",
       "      <td>Supplier receipt</td>\n",
       "      <td>PC</td>\n",
       "      <td>Outgoing</td>\n",
       "      <td>Finished Material</td>\n",
       "      <td>Y-MY004/F/275</td>\n",
       "      <td>-21600</td>\n",
       "      <td>24340</td>\n",
       "      <td>0</td>\n",
       "      <td>-48941</td>\n",
       "      <td>21600</td>\n",
       "    </tr>\n",
       "    <tr>\n",
       "      <th>1112</th>\n",
       "      <td>Q4 2021/22</td>\n",
       "      <td>Supplier receipt</td>\n",
       "      <td>PC</td>\n",
       "      <td>Outgoing</td>\n",
       "      <td>Raw Materials</td>\n",
       "      <td>R-3533-15H/F/184</td>\n",
       "      <td>-3680</td>\n",
       "      <td>2473</td>\n",
       "      <td>0</td>\n",
       "      <td>-33941</td>\n",
       "      <td>3680</td>\n",
       "    </tr>\n",
       "    <tr>\n",
       "      <th>1113</th>\n",
       "      <td>Q4 2021/22</td>\n",
       "      <td>Supplier receipt</td>\n",
       "      <td>PC</td>\n",
       "      <td>Outgoing</td>\n",
       "      <td>Raw Materials</td>\n",
       "      <td>R-5435-61/F/1000</td>\n",
       "      <td>-36000</td>\n",
       "      <td>114877</td>\n",
       "      <td>0</td>\n",
       "      <td>-373405</td>\n",
       "      <td>36000</td>\n",
       "    </tr>\n",
       "    <tr>\n",
       "      <th>1114</th>\n",
       "      <td>Q4 2021/22</td>\n",
       "      <td>Supplier receipt</td>\n",
       "      <td>PC</td>\n",
       "      <td>Outgoing</td>\n",
       "      <td>Raw Materials</td>\n",
       "      <td>R-6532-15/F/180</td>\n",
       "      <td>-2160</td>\n",
       "      <td>3420</td>\n",
       "      <td>0</td>\n",
       "      <td>-75288</td>\n",
       "      <td>2160</td>\n",
       "    </tr>\n",
       "    <tr>\n",
       "      <th>1115</th>\n",
       "      <td>Q4 2021/22</td>\n",
       "      <td>Supplier receipt</td>\n",
       "      <td>PC</td>\n",
       "      <td>Outgoing</td>\n",
       "      <td>Services</td>\n",
       "      <td>Z-PF07</td>\n",
       "      <td>-1</td>\n",
       "      <td>3</td>\n",
       "      <td>0</td>\n",
       "      <td>-1200</td>\n",
       "      <td>1</td>\n",
       "    </tr>\n",
       "  </tbody>\n",
       "</table>\n",
       "<p>1041 rows × 11 columns</p>\n",
       "</div>"
      ],
      "text/plain": [
       "          Period          Document_type TALA_Category Direction  \\\n",
       "0     Q1 2020/21  Miscellaneous receipt            PA  Incoming   \n",
       "1     Q1 2020/21  Miscellaneous receipt            PA  Incoming   \n",
       "2     Q1 2020/21  Miscellaneous receipt            PA  Incoming   \n",
       "3     Q1 2020/21  Miscellaneous receipt            PA  Incoming   \n",
       "4     Q1 2020/21  Miscellaneous receipt            PA  Incoming   \n",
       "...          ...                    ...           ...       ...   \n",
       "1111  Q4 2021/22       Supplier receipt            PC  Outgoing   \n",
       "1112  Q4 2021/22       Supplier receipt            PC  Outgoing   \n",
       "1113  Q4 2021/22       Supplier receipt            PC  Outgoing   \n",
       "1114  Q4 2021/22       Supplier receipt            PC  Outgoing   \n",
       "1115  Q4 2021/22       Supplier receipt            PC  Outgoing   \n",
       "\n",
       "            Items_group                  Item  On-hand_quantity  Qty_in_stock  \\\n",
       "0     Finished Material         8338-15/F/244                 0             0   \n",
       "1     Finished Material  CLAR16177A-61/F/1340              2010         14272   \n",
       "2     Finished Material   CLAR16489B-15/F/218               414             0   \n",
       "3     Finished Material  CLAR16489B-15/F/218W                65             0   \n",
       "4     Finished Material  CORR11477A-15/F209EP              1881             0   \n",
       "...                 ...                   ...               ...           ...   \n",
       "1111  Finished Material         Y-MY004/F/275            -21600         24340   \n",
       "1112      Raw Materials      R-3533-15H/F/184             -3680          2473   \n",
       "1113      Raw Materials      R-5435-61/F/1000            -36000        114877   \n",
       "1114      Raw Materials       R-6532-15/F/180             -2160          3420   \n",
       "1115           Services                Z-PF07                -1             3   \n",
       "\n",
       "      Receipt_quantity  Stock_Value  Issue_quantity  \n",
       "0                    1            6               0  \n",
       "1                 2010        13760               0  \n",
       "2                  414         2093               0  \n",
       "3                 1144         8767               0  \n",
       "4                 1881        16277               0  \n",
       "...                ...          ...             ...  \n",
       "1111                 0       -48941           21600  \n",
       "1112                 0       -33941            3680  \n",
       "1113                 0      -373405           36000  \n",
       "1114                 0       -75288            2160  \n",
       "1115                 0        -1200               1  \n",
       "\n",
       "[1041 rows x 11 columns]"
      ]
     },
     "execution_count": 81,
     "metadata": {},
     "output_type": "execute_result"
    }
   ],
   "source": [
    "#numeric datas are now without decimal, rounded up \n",
    "\n",
    "raw_data_subset"
   ]
  },
  {
   "cell_type": "markdown",
   "id": "0a9943a8",
   "metadata": {},
   "source": [
    "<h4> Part 2.8 Remove Negative Values </h4>"
   ]
  },
  {
   "cell_type": "code",
   "execution_count": 82,
   "id": "f453b893",
   "metadata": {},
   "outputs": [
    {
     "data": {
      "text/plain": [
       "Period                0\n",
       "Document_type         0\n",
       "TALA_Category         0\n",
       "Direction             0\n",
       "Items_group           0\n",
       "Item                  0\n",
       "On-hand_quantity    364\n",
       "Qty_in_stock          0\n",
       "Receipt_quantity      7\n",
       "Stock_Value         366\n",
       "Issue_quantity        3\n",
       "dtype: int64"
      ]
     },
     "execution_count": 82,
     "metadata": {},
     "output_type": "execute_result"
    }
   ],
   "source": [
    "#check negative values in columns \n",
    "\n",
    "numerical_columns = [c for c in raw_data_subset.columns if raw_data_subset[c].dtype.name != 'object']\n",
    "\n",
    "raw_data_subset[raw_data_subset[numerical_columns] < 0].count()"
   ]
  },
  {
   "cell_type": "code",
   "execution_count": 83,
   "id": "ce5aef69",
   "metadata": {},
   "outputs": [
    {
     "data": {
      "text/html": [
       "<div>\n",
       "<style scoped>\n",
       "    .dataframe tbody tr th:only-of-type {\n",
       "        vertical-align: middle;\n",
       "    }\n",
       "\n",
       "    .dataframe tbody tr th {\n",
       "        vertical-align: top;\n",
       "    }\n",
       "\n",
       "    .dataframe thead th {\n",
       "        text-align: right;\n",
       "    }\n",
       "</style>\n",
       "<table border=\"1\" class=\"dataframe\">\n",
       "  <thead>\n",
       "    <tr style=\"text-align: right;\">\n",
       "      <th></th>\n",
       "      <th>Period</th>\n",
       "      <th>Document_type</th>\n",
       "      <th>TALA_Category</th>\n",
       "      <th>Direction</th>\n",
       "      <th>Items_group</th>\n",
       "      <th>Item</th>\n",
       "      <th>On-hand_quantity</th>\n",
       "      <th>Qty_in_stock</th>\n",
       "      <th>Receipt_quantity</th>\n",
       "      <th>Stock_Value</th>\n",
       "      <th>Issue_quantity</th>\n",
       "    </tr>\n",
       "  </thead>\n",
       "  <tbody>\n",
       "    <tr>\n",
       "      <th>550</th>\n",
       "      <td>NaN</td>\n",
       "      <td>NaN</td>\n",
       "      <td>NaN</td>\n",
       "      <td>NaN</td>\n",
       "      <td>NaN</td>\n",
       "      <td>NaN</td>\n",
       "      <td>NaN</td>\n",
       "      <td>NaN</td>\n",
       "      <td>NaN</td>\n",
       "      <td>NaN</td>\n",
       "      <td>NaN</td>\n",
       "    </tr>\n",
       "    <tr>\n",
       "      <th>551</th>\n",
       "      <td>NaN</td>\n",
       "      <td>NaN</td>\n",
       "      <td>NaN</td>\n",
       "      <td>NaN</td>\n",
       "      <td>NaN</td>\n",
       "      <td>NaN</td>\n",
       "      <td>NaN</td>\n",
       "      <td>NaN</td>\n",
       "      <td>NaN</td>\n",
       "      <td>NaN</td>\n",
       "      <td>NaN</td>\n",
       "    </tr>\n",
       "    <tr>\n",
       "      <th>552</th>\n",
       "      <td>NaN</td>\n",
       "      <td>NaN</td>\n",
       "      <td>NaN</td>\n",
       "      <td>NaN</td>\n",
       "      <td>NaN</td>\n",
       "      <td>NaN</td>\n",
       "      <td>NaN</td>\n",
       "      <td>NaN</td>\n",
       "      <td>NaN</td>\n",
       "      <td>NaN</td>\n",
       "      <td>NaN</td>\n",
       "    </tr>\n",
       "    <tr>\n",
       "      <th>553</th>\n",
       "      <td>NaN</td>\n",
       "      <td>NaN</td>\n",
       "      <td>NaN</td>\n",
       "      <td>NaN</td>\n",
       "      <td>NaN</td>\n",
       "      <td>NaN</td>\n",
       "      <td>NaN</td>\n",
       "      <td>NaN</td>\n",
       "      <td>-20000.0</td>\n",
       "      <td>NaN</td>\n",
       "      <td>NaN</td>\n",
       "    </tr>\n",
       "    <tr>\n",
       "      <th>554</th>\n",
       "      <td>NaN</td>\n",
       "      <td>NaN</td>\n",
       "      <td>NaN</td>\n",
       "      <td>NaN</td>\n",
       "      <td>NaN</td>\n",
       "      <td>NaN</td>\n",
       "      <td>NaN</td>\n",
       "      <td>NaN</td>\n",
       "      <td>-1000.0</td>\n",
       "      <td>NaN</td>\n",
       "      <td>NaN</td>\n",
       "    </tr>\n",
       "    <tr>\n",
       "      <th>555</th>\n",
       "      <td>NaN</td>\n",
       "      <td>NaN</td>\n",
       "      <td>NaN</td>\n",
       "      <td>NaN</td>\n",
       "      <td>NaN</td>\n",
       "      <td>NaN</td>\n",
       "      <td>NaN</td>\n",
       "      <td>NaN</td>\n",
       "      <td>-3000.0</td>\n",
       "      <td>NaN</td>\n",
       "      <td>NaN</td>\n",
       "    </tr>\n",
       "    <tr>\n",
       "      <th>556</th>\n",
       "      <td>NaN</td>\n",
       "      <td>NaN</td>\n",
       "      <td>NaN</td>\n",
       "      <td>NaN</td>\n",
       "      <td>NaN</td>\n",
       "      <td>NaN</td>\n",
       "      <td>NaN</td>\n",
       "      <td>NaN</td>\n",
       "      <td>-4000.0</td>\n",
       "      <td>NaN</td>\n",
       "      <td>NaN</td>\n",
       "    </tr>\n",
       "    <tr>\n",
       "      <th>557</th>\n",
       "      <td>NaN</td>\n",
       "      <td>NaN</td>\n",
       "      <td>NaN</td>\n",
       "      <td>NaN</td>\n",
       "      <td>NaN</td>\n",
       "      <td>NaN</td>\n",
       "      <td>NaN</td>\n",
       "      <td>NaN</td>\n",
       "      <td>-90000.0</td>\n",
       "      <td>NaN</td>\n",
       "      <td>NaN</td>\n",
       "    </tr>\n",
       "    <tr>\n",
       "      <th>558</th>\n",
       "      <td>NaN</td>\n",
       "      <td>NaN</td>\n",
       "      <td>NaN</td>\n",
       "      <td>NaN</td>\n",
       "      <td>NaN</td>\n",
       "      <td>NaN</td>\n",
       "      <td>NaN</td>\n",
       "      <td>NaN</td>\n",
       "      <td>-10.0</td>\n",
       "      <td>NaN</td>\n",
       "      <td>NaN</td>\n",
       "    </tr>\n",
       "    <tr>\n",
       "      <th>559</th>\n",
       "      <td>NaN</td>\n",
       "      <td>NaN</td>\n",
       "      <td>NaN</td>\n",
       "      <td>NaN</td>\n",
       "      <td>NaN</td>\n",
       "      <td>NaN</td>\n",
       "      <td>NaN</td>\n",
       "      <td>NaN</td>\n",
       "      <td>-20.0</td>\n",
       "      <td>NaN</td>\n",
       "      <td>NaN</td>\n",
       "    </tr>\n",
       "    <tr>\n",
       "      <th>560</th>\n",
       "      <td>NaN</td>\n",
       "      <td>NaN</td>\n",
       "      <td>NaN</td>\n",
       "      <td>NaN</td>\n",
       "      <td>NaN</td>\n",
       "      <td>NaN</td>\n",
       "      <td>NaN</td>\n",
       "      <td>NaN</td>\n",
       "      <td>NaN</td>\n",
       "      <td>NaN</td>\n",
       "      <td>NaN</td>\n",
       "    </tr>\n",
       "  </tbody>\n",
       "</table>\n",
       "</div>"
      ],
      "text/plain": [
       "    Period Document_type TALA_Category Direction Items_group Item  \\\n",
       "550    NaN           NaN           NaN       NaN         NaN  NaN   \n",
       "551    NaN           NaN           NaN       NaN         NaN  NaN   \n",
       "552    NaN           NaN           NaN       NaN         NaN  NaN   \n",
       "553    NaN           NaN           NaN       NaN         NaN  NaN   \n",
       "554    NaN           NaN           NaN       NaN         NaN  NaN   \n",
       "555    NaN           NaN           NaN       NaN         NaN  NaN   \n",
       "556    NaN           NaN           NaN       NaN         NaN  NaN   \n",
       "557    NaN           NaN           NaN       NaN         NaN  NaN   \n",
       "558    NaN           NaN           NaN       NaN         NaN  NaN   \n",
       "559    NaN           NaN           NaN       NaN         NaN  NaN   \n",
       "560    NaN           NaN           NaN       NaN         NaN  NaN   \n",
       "\n",
       "     On-hand_quantity  Qty_in_stock  Receipt_quantity  Stock_Value  \\\n",
       "550               NaN           NaN               NaN          NaN   \n",
       "551               NaN           NaN               NaN          NaN   \n",
       "552               NaN           NaN               NaN          NaN   \n",
       "553               NaN           NaN          -20000.0          NaN   \n",
       "554               NaN           NaN           -1000.0          NaN   \n",
       "555               NaN           NaN           -3000.0          NaN   \n",
       "556               NaN           NaN           -4000.0          NaN   \n",
       "557               NaN           NaN          -90000.0          NaN   \n",
       "558               NaN           NaN             -10.0          NaN   \n",
       "559               NaN           NaN             -20.0          NaN   \n",
       "560               NaN           NaN               NaN          NaN   \n",
       "\n",
       "     Issue_quantity  \n",
       "550             NaN  \n",
       "551             NaN  \n",
       "552             NaN  \n",
       "553             NaN  \n",
       "554             NaN  \n",
       "555             NaN  \n",
       "556             NaN  \n",
       "557             NaN  \n",
       "558             NaN  \n",
       "559             NaN  \n",
       "560             NaN  "
      ]
     },
     "execution_count": 83,
     "metadata": {},
     "output_type": "execute_result"
    }
   ],
   "source": [
    "#Find Receipt_quantity negative values\n",
    "\n",
    "neg_values = raw_data_subset[raw_data_subset[numerical_columns] < 0].loc[550:560]\n",
    "    \n",
    "neg_values"
   ]
  },
  {
   "cell_type": "code",
   "execution_count": 84,
   "id": "a57e72c2",
   "metadata": {},
   "outputs": [],
   "source": [
    "#Remove Receipt_quantity negative values rows\n",
    "\n",
    "raw_data_subset = raw_data_subset.drop(labels=[553,554,555,556,557,558,559], axis=0)"
   ]
  },
  {
   "cell_type": "code",
   "execution_count": 85,
   "id": "89473581",
   "metadata": {},
   "outputs": [
    {
     "data": {
      "text/plain": [
       "(1034, 11)"
      ]
     },
     "execution_count": 85,
     "metadata": {},
     "output_type": "execute_result"
    }
   ],
   "source": [
    "raw_data_subset.shape"
   ]
  },
  {
   "cell_type": "code",
   "execution_count": 86,
   "id": "0a5b045b",
   "metadata": {},
   "outputs": [
    {
     "data": {
      "text/html": [
       "<div>\n",
       "<style scoped>\n",
       "    .dataframe tbody tr th:only-of-type {\n",
       "        vertical-align: middle;\n",
       "    }\n",
       "\n",
       "    .dataframe tbody tr th {\n",
       "        vertical-align: top;\n",
       "    }\n",
       "\n",
       "    .dataframe thead th {\n",
       "        text-align: right;\n",
       "    }\n",
       "</style>\n",
       "<table border=\"1\" class=\"dataframe\">\n",
       "  <thead>\n",
       "    <tr style=\"text-align: right;\">\n",
       "      <th></th>\n",
       "      <th>Period</th>\n",
       "      <th>Document_type</th>\n",
       "      <th>TALA_Category</th>\n",
       "      <th>Direction</th>\n",
       "      <th>Items_group</th>\n",
       "      <th>Item</th>\n",
       "      <th>On-hand_quantity</th>\n",
       "      <th>Qty_in_stock</th>\n",
       "      <th>Receipt_quantity</th>\n",
       "      <th>Stock_Value</th>\n",
       "      <th>Issue_quantity</th>\n",
       "    </tr>\n",
       "  </thead>\n",
       "  <tbody>\n",
       "    <tr>\n",
       "      <th>570</th>\n",
       "      <td>NaN</td>\n",
       "      <td>NaN</td>\n",
       "      <td>NaN</td>\n",
       "      <td>NaN</td>\n",
       "      <td>NaN</td>\n",
       "      <td>NaN</td>\n",
       "      <td>NaN</td>\n",
       "      <td>NaN</td>\n",
       "      <td>NaN</td>\n",
       "      <td>NaN</td>\n",
       "      <td>NaN</td>\n",
       "    </tr>\n",
       "    <tr>\n",
       "      <th>571</th>\n",
       "      <td>NaN</td>\n",
       "      <td>NaN</td>\n",
       "      <td>NaN</td>\n",
       "      <td>NaN</td>\n",
       "      <td>NaN</td>\n",
       "      <td>NaN</td>\n",
       "      <td>-145150.0</td>\n",
       "      <td>NaN</td>\n",
       "      <td>NaN</td>\n",
       "      <td>-580600.0</td>\n",
       "      <td>-1145150.0</td>\n",
       "    </tr>\n",
       "    <tr>\n",
       "      <th>572</th>\n",
       "      <td>NaN</td>\n",
       "      <td>NaN</td>\n",
       "      <td>NaN</td>\n",
       "      <td>NaN</td>\n",
       "      <td>NaN</td>\n",
       "      <td>NaN</td>\n",
       "      <td>-21600.0</td>\n",
       "      <td>NaN</td>\n",
       "      <td>NaN</td>\n",
       "      <td>-52416.0</td>\n",
       "      <td>-21600.0</td>\n",
       "    </tr>\n",
       "    <tr>\n",
       "      <th>574</th>\n",
       "      <td>NaN</td>\n",
       "      <td>NaN</td>\n",
       "      <td>NaN</td>\n",
       "      <td>NaN</td>\n",
       "      <td>NaN</td>\n",
       "      <td>NaN</td>\n",
       "      <td>-49000.0</td>\n",
       "      <td>NaN</td>\n",
       "      <td>NaN</td>\n",
       "      <td>-297388.0</td>\n",
       "      <td>-49000.0</td>\n",
       "    </tr>\n",
       "    <tr>\n",
       "      <th>575</th>\n",
       "      <td>NaN</td>\n",
       "      <td>NaN</td>\n",
       "      <td>NaN</td>\n",
       "      <td>NaN</td>\n",
       "      <td>NaN</td>\n",
       "      <td>NaN</td>\n",
       "      <td>-145150.0</td>\n",
       "      <td>NaN</td>\n",
       "      <td>NaN</td>\n",
       "      <td>-580600.0</td>\n",
       "      <td>NaN</td>\n",
       "    </tr>\n",
       "    <tr>\n",
       "      <th>577</th>\n",
       "      <td>NaN</td>\n",
       "      <td>NaN</td>\n",
       "      <td>NaN</td>\n",
       "      <td>NaN</td>\n",
       "      <td>NaN</td>\n",
       "      <td>NaN</td>\n",
       "      <td>-178.0</td>\n",
       "      <td>NaN</td>\n",
       "      <td>NaN</td>\n",
       "      <td>-5684.0</td>\n",
       "      <td>NaN</td>\n",
       "    </tr>\n",
       "    <tr>\n",
       "      <th>578</th>\n",
       "      <td>NaN</td>\n",
       "      <td>NaN</td>\n",
       "      <td>NaN</td>\n",
       "      <td>NaN</td>\n",
       "      <td>NaN</td>\n",
       "      <td>NaN</td>\n",
       "      <td>-49000.0</td>\n",
       "      <td>NaN</td>\n",
       "      <td>NaN</td>\n",
       "      <td>-297388.0</td>\n",
       "      <td>NaN</td>\n",
       "    </tr>\n",
       "    <tr>\n",
       "      <th>579</th>\n",
       "      <td>NaN</td>\n",
       "      <td>NaN</td>\n",
       "      <td>NaN</td>\n",
       "      <td>NaN</td>\n",
       "      <td>NaN</td>\n",
       "      <td>NaN</td>\n",
       "      <td>-2.0</td>\n",
       "      <td>NaN</td>\n",
       "      <td>NaN</td>\n",
       "      <td>-849.0</td>\n",
       "      <td>NaN</td>\n",
       "    </tr>\n",
       "    <tr>\n",
       "      <th>580</th>\n",
       "      <td>NaN</td>\n",
       "      <td>NaN</td>\n",
       "      <td>NaN</td>\n",
       "      <td>NaN</td>\n",
       "      <td>NaN</td>\n",
       "      <td>NaN</td>\n",
       "      <td>NaN</td>\n",
       "      <td>NaN</td>\n",
       "      <td>NaN</td>\n",
       "      <td>NaN</td>\n",
       "      <td>NaN</td>\n",
       "    </tr>\n",
       "  </tbody>\n",
       "</table>\n",
       "</div>"
      ],
      "text/plain": [
       "    Period Document_type TALA_Category Direction Items_group Item  \\\n",
       "570    NaN           NaN           NaN       NaN         NaN  NaN   \n",
       "571    NaN           NaN           NaN       NaN         NaN  NaN   \n",
       "572    NaN           NaN           NaN       NaN         NaN  NaN   \n",
       "574    NaN           NaN           NaN       NaN         NaN  NaN   \n",
       "575    NaN           NaN           NaN       NaN         NaN  NaN   \n",
       "577    NaN           NaN           NaN       NaN         NaN  NaN   \n",
       "578    NaN           NaN           NaN       NaN         NaN  NaN   \n",
       "579    NaN           NaN           NaN       NaN         NaN  NaN   \n",
       "580    NaN           NaN           NaN       NaN         NaN  NaN   \n",
       "\n",
       "     On-hand_quantity  Qty_in_stock  Receipt_quantity  Stock_Value  \\\n",
       "570               NaN           NaN               NaN          NaN   \n",
       "571         -145150.0           NaN               NaN    -580600.0   \n",
       "572          -21600.0           NaN               NaN     -52416.0   \n",
       "574          -49000.0           NaN               NaN    -297388.0   \n",
       "575         -145150.0           NaN               NaN    -580600.0   \n",
       "577            -178.0           NaN               NaN      -5684.0   \n",
       "578          -49000.0           NaN               NaN    -297388.0   \n",
       "579              -2.0           NaN               NaN       -849.0   \n",
       "580               NaN           NaN               NaN          NaN   \n",
       "\n",
       "     Issue_quantity  \n",
       "570             NaN  \n",
       "571      -1145150.0  \n",
       "572        -21600.0  \n",
       "574        -49000.0  \n",
       "575             NaN  \n",
       "577             NaN  \n",
       "578             NaN  \n",
       "579             NaN  \n",
       "580             NaN  "
      ]
     },
     "execution_count": 86,
     "metadata": {},
     "output_type": "execute_result"
    }
   ],
   "source": [
    "#Find Issue_quantity negative values\n",
    "\n",
    "neg_values1 = raw_data_subset[raw_data_subset[numerical_columns] < 0].loc[570:580]\n",
    "    \n",
    "neg_values1"
   ]
  },
  {
   "cell_type": "code",
   "execution_count": 87,
   "id": "fd8d8456",
   "metadata": {},
   "outputs": [],
   "source": [
    "#Remove Issue_quantity negative values rows\n",
    "\n",
    "raw_data_subset = raw_data_subset.drop(labels=[571,572, 574], axis=0)"
   ]
  },
  {
   "cell_type": "code",
   "execution_count": 88,
   "id": "ebed7516",
   "metadata": {},
   "outputs": [
    {
     "data": {
      "text/plain": [
       "(1031, 11)"
      ]
     },
     "execution_count": 88,
     "metadata": {},
     "output_type": "execute_result"
    }
   ],
   "source": [
    "raw_data_subset.shape"
   ]
  },
  {
   "cell_type": "markdown",
   "id": "fb277c70",
   "metadata": {},
   "source": [
    "<h2> Part 3 Print Totals of Total </h2>"
   ]
  },
  {
   "cell_type": "markdown",
   "id": "2818fa48",
   "metadata": {},
   "source": [
    "<h4> Part 3.1 Total of Receipt Quantity for Incoming in Year 2020 - 2021 </h4>"
   ]
  },
  {
   "cell_type": "code",
   "execution_count": 89,
   "id": "6acbbdd4",
   "metadata": {},
   "outputs": [
    {
     "data": {
      "text/plain": [
       "0        371\n",
       "1         15\n",
       "300       11\n",
       "4          9\n",
       "2          9\n",
       "        ... \n",
       "13560      1\n",
       "430        1\n",
       "29680      1\n",
       "17381      1\n",
       "16848      1\n",
       "Name: Receipt_quantity, Length: 463, dtype: int64"
      ]
     },
     "execution_count": 89,
     "metadata": {},
     "output_type": "execute_result"
    }
   ],
   "source": [
    "#check 'Receipt_quantity' columns values \n",
    "\n",
    "raw_data_subset['Receipt_quantity'].value_counts()"
   ]
  },
  {
   "cell_type": "code",
   "execution_count": 90,
   "id": "4f7ebd4f",
   "metadata": {},
   "outputs": [
    {
     "data": {
      "text/plain": [
       "Q4 2022/23      2\n",
       "Q1 2023/24      3\n",
       "Q2 2021/22     91\n",
       "Q3 2021/22    102\n",
       "Q1 2021/22    129\n",
       "Q3 2020/21    131\n",
       "Q4 2020/21    134\n",
       "Q1 2020/21    138\n",
       "Q2 2020/21    145\n",
       "Q4 2021/22    156\n",
       "Name: Period, dtype: int64"
      ]
     },
     "execution_count": 90,
     "metadata": {},
     "output_type": "execute_result"
    }
   ],
   "source": [
    "#check 'Period' columns values \n",
    "\n",
    "raw_data_subset['Period'].value_counts(ascending = True)"
   ]
  },
  {
   "cell_type": "code",
   "execution_count": 91,
   "id": "f69a1195",
   "metadata": {},
   "outputs": [
    {
     "data": {
      "text/plain": [
       "Incoming    665\n",
       "Outgoing    366\n",
       "Name: Direction, dtype: int64"
      ]
     },
     "execution_count": 91,
     "metadata": {},
     "output_type": "execute_result"
    }
   ],
   "source": [
    "#check 'Direction' columns values \n",
    "\n",
    "raw_data_subset['Direction'].value_counts()"
   ]
  },
  {
   "cell_type": "code",
   "execution_count": 92,
   "id": "2991a913",
   "metadata": {
    "scrolled": false
   },
   "outputs": [
    {
     "data": {
      "text/html": [
       "<div>\n",
       "<style scoped>\n",
       "    .dataframe tbody tr th:only-of-type {\n",
       "        vertical-align: middle;\n",
       "    }\n",
       "\n",
       "    .dataframe tbody tr th {\n",
       "        vertical-align: top;\n",
       "    }\n",
       "\n",
       "    .dataframe thead th {\n",
       "        text-align: right;\n",
       "    }\n",
       "</style>\n",
       "<table border=\"1\" class=\"dataframe\">\n",
       "  <thead>\n",
       "    <tr style=\"text-align: right;\">\n",
       "      <th></th>\n",
       "      <th>Period</th>\n",
       "      <th>Direction</th>\n",
       "      <th>Receipt_quantity</th>\n",
       "      <th>TotalCount</th>\n",
       "    </tr>\n",
       "  </thead>\n",
       "  <tbody>\n",
       "    <tr>\n",
       "      <th>0</th>\n",
       "      <td>Q1 2020/21</td>\n",
       "      <td>Incoming</td>\n",
       "      <td>1</td>\n",
       "      <td>3</td>\n",
       "    </tr>\n",
       "    <tr>\n",
       "      <th>1</th>\n",
       "      <td>Q1 2020/21</td>\n",
       "      <td>Incoming</td>\n",
       "      <td>2</td>\n",
       "      <td>2</td>\n",
       "    </tr>\n",
       "    <tr>\n",
       "      <th>2</th>\n",
       "      <td>Q1 2020/21</td>\n",
       "      <td>Incoming</td>\n",
       "      <td>3</td>\n",
       "      <td>3</td>\n",
       "    </tr>\n",
       "    <tr>\n",
       "      <th>3</th>\n",
       "      <td>Q1 2020/21</td>\n",
       "      <td>Incoming</td>\n",
       "      <td>5</td>\n",
       "      <td>2</td>\n",
       "    </tr>\n",
       "    <tr>\n",
       "      <th>4</th>\n",
       "      <td>Q1 2020/21</td>\n",
       "      <td>Incoming</td>\n",
       "      <td>8</td>\n",
       "      <td>2</td>\n",
       "    </tr>\n",
       "    <tr>\n",
       "      <th>...</th>\n",
       "      <td>...</td>\n",
       "      <td>...</td>\n",
       "      <td>...</td>\n",
       "      <td>...</td>\n",
       "    </tr>\n",
       "    <tr>\n",
       "      <th>598</th>\n",
       "      <td>Q4 2021/22</td>\n",
       "      <td>Incoming</td>\n",
       "      <td>104600</td>\n",
       "      <td>1</td>\n",
       "    </tr>\n",
       "    <tr>\n",
       "      <th>599</th>\n",
       "      <td>Q4 2021/22</td>\n",
       "      <td>Incoming</td>\n",
       "      <td>114456</td>\n",
       "      <td>1</td>\n",
       "    </tr>\n",
       "    <tr>\n",
       "      <th>600</th>\n",
       "      <td>Q4 2021/22</td>\n",
       "      <td>Incoming</td>\n",
       "      <td>194400</td>\n",
       "      <td>1</td>\n",
       "    </tr>\n",
       "    <tr>\n",
       "      <th>601</th>\n",
       "      <td>Q4 2021/22</td>\n",
       "      <td>Outgoing</td>\n",
       "      <td>0</td>\n",
       "      <td>55</td>\n",
       "    </tr>\n",
       "    <tr>\n",
       "      <th>602</th>\n",
       "      <td>Q4 2022/23</td>\n",
       "      <td>Outgoing</td>\n",
       "      <td>0</td>\n",
       "      <td>2</td>\n",
       "    </tr>\n",
       "  </tbody>\n",
       "</table>\n",
       "<p>603 rows × 4 columns</p>\n",
       "</div>"
      ],
      "text/plain": [
       "         Period Direction  Receipt_quantity  TotalCount\n",
       "0    Q1 2020/21  Incoming                 1           3\n",
       "1    Q1 2020/21  Incoming                 2           2\n",
       "2    Q1 2020/21  Incoming                 3           3\n",
       "3    Q1 2020/21  Incoming                 5           2\n",
       "4    Q1 2020/21  Incoming                 8           2\n",
       "..          ...       ...               ...         ...\n",
       "598  Q4 2021/22  Incoming            104600           1\n",
       "599  Q4 2021/22  Incoming            114456           1\n",
       "600  Q4 2021/22  Incoming            194400           1\n",
       "601  Q4 2021/22  Outgoing                 0          55\n",
       "602  Q4 2022/23  Outgoing                 0           2\n",
       "\n",
       "[603 rows x 4 columns]"
      ]
     },
     "execution_count": 92,
     "metadata": {},
     "output_type": "execute_result"
    }
   ],
   "source": [
    "#Print TotalCount of Receipt_quantity based on each Period, Direction & Receipt_quantity\n",
    "\n",
    "a = raw_data_subset.groupby([\"Period\",\"Direction\",\"Receipt_quantity\"]).size().reset_index(name=\"TotalCount\")\n",
    "a"
   ]
  },
  {
   "cell_type": "code",
   "execution_count": 93,
   "id": "28399c51",
   "metadata": {},
   "outputs": [],
   "source": [
    "#Total Incoming Receipts of Q1 2020/21\n",
    "Q1_total_2020_R = len(a[(a['Direction'] =='Incoming') & \n",
    "                          (a['Period'] == 'Q1 2020/21') & (a['TotalCount'])])\n",
    "\n",
    "#Total Incoming Receipts of Q2 2020/21\n",
    "Q2_total_2020_R = len(a[(a['Direction']=='Incoming') & \n",
    "                          (a['Period'] == 'Q2 2020/21') & (a['TotalCount'])])\n",
    "\n",
    "#Total Incoming Receipts of Q3 2020/21\n",
    "Q3_total_2020_R = len(a[(a['Direction']=='Incoming') & \n",
    "                          (a['Period'] == 'Q3 2020/21') & (a['TotalCount'])])\n",
    "\n",
    "#Total Incoming Receipts of Q4 2020/21\n",
    "Q4_total_2020_R = len(a[(a['Direction']=='Incoming') & \n",
    "                          (a['Period'] == 'Q4 2020/21') & (a['TotalCount'])])"
   ]
  },
  {
   "cell_type": "code",
   "execution_count": 94,
   "id": "4433ef9a",
   "metadata": {},
   "outputs": [
    {
     "name": "stdout",
     "output_type": "stream",
     "text": [
      "78\n",
      "62\n",
      "73\n",
      "75\n",
      "The total of Receipt Quantity for Incoming for the year 2020 is 288\n"
     ]
    }
   ],
   "source": [
    "#Total Incoming Receipts of Q1 - Q4 2020/21\n",
    "\n",
    "print(Q1_total_2020_R)\n",
    "print(Q2_total_2020_R)\n",
    "print(Q3_total_2020_R)\n",
    "print(Q4_total_2020_R)\n",
    "\n",
    "total_quantity_2020_R = Q1_total_2020_R + Q2_total_2020_R + Q3_total_2020_R + Q4_total_2020_R\n",
    "print ('The total of Receipt Quantity for Incoming for the year 2020 is', total_quantity_2020_R)"
   ]
  },
  {
   "cell_type": "code",
   "execution_count": 95,
   "id": "1451fb99",
   "metadata": {},
   "outputs": [],
   "source": [
    "#Total Incoming Receipts of Q1 2021/22\n",
    "Q1_total_2021_R = len(a[(a['Direction']=='Incoming') & \n",
    "                          (a['Period'] == 'Q1 2021/22') & (a['TotalCount'])])\n",
    "\n",
    "#Total Incoming Receipts of Q2 2021/22\n",
    "Q2_total_2021_R = len(a[(a['Direction']=='Incoming') & \n",
    "                          (a['Period'] == 'Q2 2021/22') & (a['TotalCount'])])\n",
    "\n",
    "#Total Incoming Receipts of Q3 2021/22\n",
    "Q3_total_2021_R = len(a[(a['Direction']=='Incoming') & \n",
    "                          (a['Period'] == 'Q3 2021/22') & (a['TotalCount'])])\n",
    "\n",
    "#Total Incoming Receipts of Q4 2021/22\n",
    "Q4_total_2021_R = len(a[(a['Direction']=='Incoming') & \n",
    "                          (a['Period'] == 'Q4 2021/22') & (a['TotalCount'])])"
   ]
  },
  {
   "cell_type": "code",
   "execution_count": 96,
   "id": "ab14981e",
   "metadata": {},
   "outputs": [
    {
     "name": "stdout",
     "output_type": "stream",
     "text": [
      "78\n",
      "57\n",
      "55\n",
      "81\n",
      "The total of Receipt Quantity for Incoming for the year 2021 is 271\n"
     ]
    }
   ],
   "source": [
    "#Total Incoming Receipts of Q1 - Q4 2021/22\n",
    "\n",
    "print(Q1_total_2021_R)\n",
    "print(Q2_total_2021_R)\n",
    "print(Q3_total_2021_R)\n",
    "print(Q4_total_2021_R)\n",
    "\n",
    "total_quantity_2021_R = Q1_total_2021_R + Q2_total_2021_R + Q3_total_2021_R + Q4_total_2021_R\n",
    "print ('The total of Receipt Quantity for Incoming for the year 2021 is', total_quantity_2021_R)"
   ]
  },
  {
   "cell_type": "code",
   "execution_count": 97,
   "id": "d67fbd8b",
   "metadata": {},
   "outputs": [
    {
     "name": "stdout",
     "output_type": "stream",
     "text": [
      "The total of Receipt Quantity for Incoming for the year 2020 and 2021 are 559\n"
     ]
    }
   ],
   "source": [
    "#Total Incoming Receipts Quantity of Q1 - Q4 Year 2020 and 2021\n",
    "\n",
    "\n",
    "total_quantity_2020_2021_R = total_quantity_2020_R + total_quantity_2021_R\n",
    "print ('The total of Receipt Quantity for Incoming for the year 2020 and 2021 are', total_quantity_2020_2021_R)"
   ]
  },
  {
   "cell_type": "markdown",
   "id": "4cfab47d",
   "metadata": {},
   "source": [
    "<h4> Part 3.2 Total of Issued Quantity for Outgoing in Year 2020 - 2021 </h4>"
   ]
  },
  {
   "cell_type": "code",
   "execution_count": 98,
   "id": "4800a22f",
   "metadata": {},
   "outputs": [
    {
     "data": {
      "text/plain": [
       "0        667\n",
       "2         12\n",
       "150       10\n",
       "1          7\n",
       "100        6\n",
       "        ... \n",
       "980        1\n",
       "51600      1\n",
       "690        1\n",
       "232        1\n",
       "2160       1\n",
       "Name: Issue_quantity, Length: 279, dtype: int64"
      ]
     },
     "execution_count": 98,
     "metadata": {},
     "output_type": "execute_result"
    }
   ],
   "source": [
    "#check 'Issue_quantity' columns values \n",
    "\n",
    "raw_data_subset['Issue_quantity'].value_counts()"
   ]
  },
  {
   "cell_type": "code",
   "execution_count": 99,
   "id": "0415d2f5",
   "metadata": {},
   "outputs": [
    {
     "data": {
      "text/plain": [
       "Q4 2022/23      2\n",
       "Q1 2023/24      3\n",
       "Q2 2021/22     91\n",
       "Q3 2021/22    102\n",
       "Q1 2021/22    129\n",
       "Q3 2020/21    131\n",
       "Q4 2020/21    134\n",
       "Q1 2020/21    138\n",
       "Q2 2020/21    145\n",
       "Q4 2021/22    156\n",
       "Name: Period, dtype: int64"
      ]
     },
     "execution_count": 99,
     "metadata": {},
     "output_type": "execute_result"
    }
   ],
   "source": [
    "#check 'Period' columns values \n",
    "\n",
    "raw_data_subset['Period'].value_counts(ascending = True)"
   ]
  },
  {
   "cell_type": "code",
   "execution_count": 100,
   "id": "969aff90",
   "metadata": {},
   "outputs": [
    {
     "data": {
      "text/plain": [
       "Incoming    665\n",
       "Outgoing    366\n",
       "Name: Direction, dtype: int64"
      ]
     },
     "execution_count": 100,
     "metadata": {},
     "output_type": "execute_result"
    }
   ],
   "source": [
    "#check 'Direction' columns values \n",
    "\n",
    "raw_data_subset['Direction'].value_counts()"
   ]
  },
  {
   "cell_type": "code",
   "execution_count": 101,
   "id": "dad830ce",
   "metadata": {},
   "outputs": [
    {
     "data": {
      "text/html": [
       "<div>\n",
       "<style scoped>\n",
       "    .dataframe tbody tr th:only-of-type {\n",
       "        vertical-align: middle;\n",
       "    }\n",
       "\n",
       "    .dataframe tbody tr th {\n",
       "        vertical-align: top;\n",
       "    }\n",
       "\n",
       "    .dataframe thead th {\n",
       "        text-align: right;\n",
       "    }\n",
       "</style>\n",
       "<table border=\"1\" class=\"dataframe\">\n",
       "  <thead>\n",
       "    <tr style=\"text-align: right;\">\n",
       "      <th></th>\n",
       "      <th>Period</th>\n",
       "      <th>Direction</th>\n",
       "      <th>Issue_quantity</th>\n",
       "      <th>TotalCount</th>\n",
       "    </tr>\n",
       "  </thead>\n",
       "  <tbody>\n",
       "    <tr>\n",
       "      <th>0</th>\n",
       "      <td>Q1 2020/21</td>\n",
       "      <td>Incoming</td>\n",
       "      <td>0</td>\n",
       "      <td>90</td>\n",
       "    </tr>\n",
       "    <tr>\n",
       "      <th>1</th>\n",
       "      <td>Q1 2020/21</td>\n",
       "      <td>Outgoing</td>\n",
       "      <td>1</td>\n",
       "      <td>3</td>\n",
       "    </tr>\n",
       "    <tr>\n",
       "      <th>2</th>\n",
       "      <td>Q1 2020/21</td>\n",
       "      <td>Outgoing</td>\n",
       "      <td>2</td>\n",
       "      <td>1</td>\n",
       "    </tr>\n",
       "    <tr>\n",
       "      <th>3</th>\n",
       "      <td>Q1 2020/21</td>\n",
       "      <td>Outgoing</td>\n",
       "      <td>3</td>\n",
       "      <td>1</td>\n",
       "    </tr>\n",
       "    <tr>\n",
       "      <th>4</th>\n",
       "      <td>Q1 2020/21</td>\n",
       "      <td>Outgoing</td>\n",
       "      <td>8</td>\n",
       "      <td>1</td>\n",
       "    </tr>\n",
       "    <tr>\n",
       "      <th>...</th>\n",
       "      <td>...</td>\n",
       "      <td>...</td>\n",
       "      <td>...</td>\n",
       "      <td>...</td>\n",
       "    </tr>\n",
       "    <tr>\n",
       "      <th>332</th>\n",
       "      <td>Q4 2021/22</td>\n",
       "      <td>Outgoing</td>\n",
       "      <td>41840</td>\n",
       "      <td>1</td>\n",
       "    </tr>\n",
       "    <tr>\n",
       "      <th>333</th>\n",
       "      <td>Q4 2021/22</td>\n",
       "      <td>Outgoing</td>\n",
       "      <td>48192</td>\n",
       "      <td>1</td>\n",
       "    </tr>\n",
       "    <tr>\n",
       "      <th>334</th>\n",
       "      <td>Q4 2021/22</td>\n",
       "      <td>Outgoing</td>\n",
       "      <td>64800</td>\n",
       "      <td>1</td>\n",
       "    </tr>\n",
       "    <tr>\n",
       "      <th>335</th>\n",
       "      <td>Q4 2022/23</td>\n",
       "      <td>Outgoing</td>\n",
       "      <td>23</td>\n",
       "      <td>1</td>\n",
       "    </tr>\n",
       "    <tr>\n",
       "      <th>336</th>\n",
       "      <td>Q4 2022/23</td>\n",
       "      <td>Outgoing</td>\n",
       "      <td>1736</td>\n",
       "      <td>1</td>\n",
       "    </tr>\n",
       "  </tbody>\n",
       "</table>\n",
       "<p>337 rows × 4 columns</p>\n",
       "</div>"
      ],
      "text/plain": [
       "         Period Direction  Issue_quantity  TotalCount\n",
       "0    Q1 2020/21  Incoming               0          90\n",
       "1    Q1 2020/21  Outgoing               1           3\n",
       "2    Q1 2020/21  Outgoing               2           1\n",
       "3    Q1 2020/21  Outgoing               3           1\n",
       "4    Q1 2020/21  Outgoing               8           1\n",
       "..          ...       ...             ...         ...\n",
       "332  Q4 2021/22  Outgoing           41840           1\n",
       "333  Q4 2021/22  Outgoing           48192           1\n",
       "334  Q4 2021/22  Outgoing           64800           1\n",
       "335  Q4 2022/23  Outgoing              23           1\n",
       "336  Q4 2022/23  Outgoing            1736           1\n",
       "\n",
       "[337 rows x 4 columns]"
      ]
     },
     "execution_count": 101,
     "metadata": {},
     "output_type": "execute_result"
    }
   ],
   "source": [
    "#Print TotalCount of Issue_quantity based on each Period, Direction & Issue_quantity\n",
    "\n",
    "b = raw_data_subset.groupby([\"Period\",\"Direction\",\"Issue_quantity\"]).size().reset_index(name=\"TotalCount\")\n",
    "b"
   ]
  },
  {
   "cell_type": "code",
   "execution_count": 102,
   "id": "de813fc8",
   "metadata": {},
   "outputs": [],
   "source": [
    "#Total Outgoing Issued Receipts of Q1 2020/21\n",
    "Q1_total_2020_I = len(b[(b['Direction']=='Outgoing') & \n",
    "                          (b['Period'] == 'Q1 2020/21') & (b['TotalCount'])])\n",
    "\n",
    "#Total Outgoing Issued Receipts of Q2 2020/21\n",
    "Q2_total_2020_I = len(b[(b['Direction']=='Outgoing') & \n",
    "                          (b['Period'] == 'Q2 2020/21') & (b['TotalCount'])])\n",
    "\n",
    "#Total Outgoing Issued Receipts of Q3 2020/21\n",
    "Q3_total_2020_I = len(b[(b['Direction']=='Outgoing') & \n",
    "                          (b['Period'] == 'Q3 2020/21') & (b['TotalCount'])])\n",
    "\n",
    "#Total Outgoing Issued Receipts of Q4 2020/21\n",
    "Q4_total_2020_I = len(b[(b['Direction']=='Outgoing') & \n",
    "                          (b['Period'] == 'Q4 2020/21') & (b['TotalCount'])])"
   ]
  },
  {
   "cell_type": "code",
   "execution_count": 103,
   "id": "c449d6ea",
   "metadata": {},
   "outputs": [
    {
     "name": "stdout",
     "output_type": "stream",
     "text": [
      "46\n",
      "25\n",
      "40\n",
      "53\n",
      "The total of Receipt Quantity for Outgoing for the year 2020 is 164\n"
     ]
    }
   ],
   "source": [
    "#Total Outgoing Issued_Receipts of Q1 - Q4 2020/21\n",
    "\n",
    "print(Q1_total_2020_I)\n",
    "print(Q2_total_2020_I)\n",
    "print(Q3_total_2020_I)\n",
    "print(Q4_total_2020_I)\n",
    "\n",
    "total_quantity_2020_I = Q1_total_2020_I + Q2_total_2020_I + Q3_total_2020_I + Q4_total_2020_I\n",
    "print ('The total of Receipt Quantity for Outgoing for the year 2020 is', total_quantity_2020_I)"
   ]
  },
  {
   "cell_type": "code",
   "execution_count": 104,
   "id": "6c176f04",
   "metadata": {},
   "outputs": [],
   "source": [
    "#Total Outgoing Issued of Q1 2021/22\n",
    "Q1_total_2021_I = len(b[(b['Direction']=='Outgoing') & \n",
    "                          (b['Period'] == 'Q1 2021/22') & (b['TotalCount'])])\n",
    "\n",
    "#Total Outgoing Issued of Q2 2021/22\n",
    "Q2_total_2021_I = len(b[(b['Direction']=='Outgoing') & \n",
    "                          (b['Period'] == 'Q2 2021/22') & (b['TotalCount'])])\n",
    "\n",
    "#Total Outgoing Issued of Q3 2021/22\n",
    "Q3_total_2021_I = len(b[(b['Direction']=='Outgoing') & \n",
    "                          (b['Period'] == 'Q3 2021/22') & (b['TotalCount'])])\n",
    "\n",
    "#Total Outgoing Issued of Q4 2021/22\n",
    "Q4_total_2021_I = len(b[(b['Direction']=='Outgoing') & \n",
    "                          (b['Period'] == 'Q4 2021/22') & (b['TotalCount'])])"
   ]
  },
  {
   "cell_type": "code",
   "execution_count": 105,
   "id": "4b0c8ac5",
   "metadata": {},
   "outputs": [
    {
     "name": "stdout",
     "output_type": "stream",
     "text": [
      "37\n",
      "32\n",
      "35\n",
      "39\n",
      "The total of Receipt Quantity for Outgoing for the year 2021 is 143\n"
     ]
    }
   ],
   "source": [
    "#Total Outgoing Issued_Receipts of Q1 - Q4 2021/22\n",
    "\n",
    "print(Q1_total_2021_I)\n",
    "print(Q2_total_2021_I)\n",
    "print(Q3_total_2021_I)\n",
    "print(Q4_total_2021_I)\n",
    "\n",
    "total_quantity_2021_I = Q1_total_2021_I + Q2_total_2021_I + Q3_total_2021_I + Q4_total_2021_I\n",
    "print ('The total of Receipt Quantity for Outgoing for the year 2021 is', total_quantity_2021_I)"
   ]
  },
  {
   "cell_type": "code",
   "execution_count": 106,
   "id": "bedebc3c",
   "metadata": {},
   "outputs": [
    {
     "name": "stdout",
     "output_type": "stream",
     "text": [
      "The total of Issued Quantity for Outgoing for the year 2020 and 2021 are 307\n"
     ]
    }
   ],
   "source": [
    "#Total Outgoing Issued Quantity of Q1 - Q4 Year 2020 and 2021\n",
    "\n",
    "total_quantity_2020_2021_I = total_quantity_2020_I + total_quantity_2021_I\n",
    "print ('The total of Issued Quantity for Outgoing for the year 2020 and 2021 are', total_quantity_2020_2021_I)"
   ]
  },
  {
   "cell_type": "markdown",
   "id": "87af7adb",
   "metadata": {},
   "source": [
    "<h2> Part 4 Tabulated Data using Pivot Table function </h2>"
   ]
  },
  {
   "cell_type": "markdown",
   "id": "aa9daef9",
   "metadata": {},
   "source": [
    "<h4> Question 2a: Table Summary where direction = split between Incoming and Outgoing \n",
    "    and group by  Dimension Variables = Items_group </h4>\n"
   ]
  },
  {
   "cell_type": "code",
   "execution_count": 113,
   "id": "422636d3",
   "metadata": {
    "scrolled": true
   },
   "outputs": [
    {
     "data": {
      "text/html": [
       "<div>\n",
       "<style scoped>\n",
       "    .dataframe tbody tr th:only-of-type {\n",
       "        vertical-align: middle;\n",
       "    }\n",
       "\n",
       "    .dataframe tbody tr th {\n",
       "        vertical-align: top;\n",
       "    }\n",
       "\n",
       "    .dataframe thead tr th {\n",
       "        text-align: left;\n",
       "    }\n",
       "\n",
       "    .dataframe thead tr:last-of-type th {\n",
       "        text-align: right;\n",
       "    }\n",
       "</style>\n",
       "<table border=\"1\" class=\"dataframe\">\n",
       "  <thead>\n",
       "    <tr>\n",
       "      <th></th>\n",
       "      <th colspan=\"2\" halign=\"left\">count</th>\n",
       "      <th colspan=\"2\" halign=\"left\">max</th>\n",
       "      <th colspan=\"2\" halign=\"left\">median</th>\n",
       "      <th colspan=\"2\" halign=\"left\">min</th>\n",
       "      <th colspan=\"2\" halign=\"left\">std</th>\n",
       "    </tr>\n",
       "    <tr>\n",
       "      <th>Direction</th>\n",
       "      <th>Incoming</th>\n",
       "      <th>Outgoing</th>\n",
       "      <th>Incoming</th>\n",
       "      <th>Outgoing</th>\n",
       "      <th>Incoming</th>\n",
       "      <th>Outgoing</th>\n",
       "      <th>Incoming</th>\n",
       "      <th>Outgoing</th>\n",
       "      <th>Incoming</th>\n",
       "      <th>Outgoing</th>\n",
       "    </tr>\n",
       "    <tr>\n",
       "      <th>Items_group</th>\n",
       "      <th></th>\n",
       "      <th></th>\n",
       "      <th></th>\n",
       "      <th></th>\n",
       "      <th></th>\n",
       "      <th></th>\n",
       "      <th></th>\n",
       "      <th></th>\n",
       "      <th></th>\n",
       "      <th></th>\n",
       "    </tr>\n",
       "  </thead>\n",
       "  <tbody>\n",
       "    <tr>\n",
       "      <th>Finished Material</th>\n",
       "      <td>310</td>\n",
       "      <td>216</td>\n",
       "      <td>3182860</td>\n",
       "      <td>-6</td>\n",
       "      <td>43384.5</td>\n",
       "      <td>-20396.0</td>\n",
       "      <td>2</td>\n",
       "      <td>-1818777</td>\n",
       "      <td>479829.917694</td>\n",
       "      <td>248749.363652</td>\n",
       "    </tr>\n",
       "    <tr>\n",
       "      <th>Packing Materials</th>\n",
       "      <td>15</td>\n",
       "      <td>6</td>\n",
       "      <td>47927</td>\n",
       "      <td>0</td>\n",
       "      <td>479.0</td>\n",
       "      <td>-3190.0</td>\n",
       "      <td>0</td>\n",
       "      <td>-50035</td>\n",
       "      <td>14894.532146</td>\n",
       "      <td>19555.713402</td>\n",
       "    </tr>\n",
       "    <tr>\n",
       "      <th>Raw Materials</th>\n",
       "      <td>182</td>\n",
       "      <td>97</td>\n",
       "      <td>1299439</td>\n",
       "      <td>-1</td>\n",
       "      <td>63989.5</td>\n",
       "      <td>-34275.0</td>\n",
       "      <td>1</td>\n",
       "      <td>-667613</td>\n",
       "      <td>224840.950415</td>\n",
       "      <td>139409.575581</td>\n",
       "    </tr>\n",
       "    <tr>\n",
       "      <th>Services</th>\n",
       "      <td>158</td>\n",
       "      <td>47</td>\n",
       "      <td>1978993</td>\n",
       "      <td>-86</td>\n",
       "      <td>17660.5</td>\n",
       "      <td>-13691.0</td>\n",
       "      <td>1</td>\n",
       "      <td>-840312</td>\n",
       "      <td>191714.428490</td>\n",
       "      <td>156852.840768</td>\n",
       "    </tr>\n",
       "  </tbody>\n",
       "</table>\n",
       "</div>"
      ],
      "text/plain": [
       "                     count               max            median           \\\n",
       "Direction         Incoming Outgoing Incoming Outgoing Incoming Outgoing   \n",
       "Items_group                                                               \n",
       "Finished Material      310      216  3182860       -6  43384.5 -20396.0   \n",
       "Packing Materials       15        6    47927        0    479.0  -3190.0   \n",
       "Raw Materials          182       97  1299439       -1  63989.5 -34275.0   \n",
       "Services               158       47  1978993      -86  17660.5 -13691.0   \n",
       "\n",
       "                       min                     std                 \n",
       "Direction         Incoming Outgoing       Incoming       Outgoing  \n",
       "Items_group                                                        \n",
       "Finished Material        2 -1818777  479829.917694  248749.363652  \n",
       "Packing Materials        0   -50035   14894.532146   19555.713402  \n",
       "Raw Materials            1  -667613  224840.950415  139409.575581  \n",
       "Services                 1  -840312  191714.428490  156852.840768  "
      ]
     },
     "execution_count": 113,
     "metadata": {},
     "output_type": "execute_result"
    }
   ],
   "source": [
    "raw_data_subset.pivot_table('Stock_Value',['Items_group'],['Direction'], aggfunc = ('count', 'min', 'max', 'median', 'std'))"
   ]
  },
  {
   "cell_type": "markdown",
   "id": "2b4ce4b1",
   "metadata": {},
   "source": [
    "<h4> Question 2b: Table Summary where direction = split between Incoming and Outgoing\n",
    "  and group by  Dimension Variables = TALA Category </h4>"
   ]
  },
  {
   "cell_type": "code",
   "execution_count": 114,
   "id": "44f589cc",
   "metadata": {},
   "outputs": [
    {
     "data": {
      "text/html": [
       "<div>\n",
       "<style scoped>\n",
       "    .dataframe tbody tr th:only-of-type {\n",
       "        vertical-align: middle;\n",
       "    }\n",
       "\n",
       "    .dataframe tbody tr th {\n",
       "        vertical-align: top;\n",
       "    }\n",
       "\n",
       "    .dataframe thead tr th {\n",
       "        text-align: left;\n",
       "    }\n",
       "\n",
       "    .dataframe thead tr:last-of-type th {\n",
       "        text-align: right;\n",
       "    }\n",
       "</style>\n",
       "<table border=\"1\" class=\"dataframe\">\n",
       "  <thead>\n",
       "    <tr>\n",
       "      <th></th>\n",
       "      <th colspan=\"2\" halign=\"left\">count</th>\n",
       "      <th colspan=\"2\" halign=\"left\">max</th>\n",
       "      <th colspan=\"2\" halign=\"left\">median</th>\n",
       "      <th colspan=\"2\" halign=\"left\">min</th>\n",
       "      <th colspan=\"2\" halign=\"left\">std</th>\n",
       "    </tr>\n",
       "    <tr>\n",
       "      <th>Direction</th>\n",
       "      <th>Incoming</th>\n",
       "      <th>Outgoing</th>\n",
       "      <th>Incoming</th>\n",
       "      <th>Outgoing</th>\n",
       "      <th>Incoming</th>\n",
       "      <th>Outgoing</th>\n",
       "      <th>Incoming</th>\n",
       "      <th>Outgoing</th>\n",
       "      <th>Incoming</th>\n",
       "      <th>Outgoing</th>\n",
       "    </tr>\n",
       "    <tr>\n",
       "      <th>TALA_Category</th>\n",
       "      <th></th>\n",
       "      <th></th>\n",
       "      <th></th>\n",
       "      <th></th>\n",
       "      <th></th>\n",
       "      <th></th>\n",
       "      <th></th>\n",
       "      <th></th>\n",
       "      <th></th>\n",
       "      <th></th>\n",
       "    </tr>\n",
       "  </thead>\n",
       "  <tbody>\n",
       "    <tr>\n",
       "      <th>PA</th>\n",
       "      <td>265</td>\n",
       "      <td>191</td>\n",
       "      <td>2751710</td>\n",
       "      <td>-6</td>\n",
       "      <td>65640.0</td>\n",
       "      <td>-37815.0</td>\n",
       "      <td>2</td>\n",
       "      <td>-1375855</td>\n",
       "      <td>427416.260689</td>\n",
       "      <td>206697.058159</td>\n",
       "    </tr>\n",
       "    <tr>\n",
       "      <th>PB</th>\n",
       "      <td>3</td>\n",
       "      <td>9</td>\n",
       "      <td>26060</td>\n",
       "      <td>-135</td>\n",
       "      <td>24941.0</td>\n",
       "      <td>-4942.0</td>\n",
       "      <td>19617</td>\n",
       "      <td>-11362</td>\n",
       "      <td>3442.610105</td>\n",
       "      <td>3864.363642</td>\n",
       "    </tr>\n",
       "    <tr>\n",
       "      <th>PC</th>\n",
       "      <td>397</td>\n",
       "      <td>166</td>\n",
       "      <td>3182860</td>\n",
       "      <td>0</td>\n",
       "      <td>16545.0</td>\n",
       "      <td>-6405.5</td>\n",
       "      <td>0</td>\n",
       "      <td>-1818777</td>\n",
       "      <td>317439.201367</td>\n",
       "      <td>223205.161403</td>\n",
       "    </tr>\n",
       "  </tbody>\n",
       "</table>\n",
       "</div>"
      ],
      "text/plain": [
       "                 count               max            median               min  \\\n",
       "Direction     Incoming Outgoing Incoming Outgoing Incoming Outgoing Incoming   \n",
       "TALA_Category                                                                  \n",
       "PA                 265      191  2751710       -6  65640.0 -37815.0        2   \n",
       "PB                   3        9    26060     -135  24941.0  -4942.0    19617   \n",
       "PC                 397      166  3182860        0  16545.0  -6405.5        0   \n",
       "\n",
       "                                  std                 \n",
       "Direction     Outgoing       Incoming       Outgoing  \n",
       "TALA_Category                                         \n",
       "PA            -1375855  427416.260689  206697.058159  \n",
       "PB              -11362    3442.610105    3864.363642  \n",
       "PC            -1818777  317439.201367  223205.161403  "
      ]
     },
     "execution_count": 114,
     "metadata": {},
     "output_type": "execute_result"
    }
   ],
   "source": [
    "raw_data_subset.pivot_table('Stock_Value',['TALA_Category'],['Direction'], aggfunc = ('count', 'min', 'max', 'median', 'std'))"
   ]
  },
  {
   "cell_type": "markdown",
   "id": "4b51b699",
   "metadata": {},
   "source": [
    "<h4> Question 2c: Table Summary where direction = split between Incoming and Outgoing\n",
    "  and group by  Dimension Variables where TALA_category  in (PA, PB, PC) and list by Document type </h4>"
   ]
  },
  {
   "cell_type": "code",
   "execution_count": 115,
   "id": "5280a39c",
   "metadata": {},
   "outputs": [
    {
     "data": {
      "text/html": [
       "<div>\n",
       "<style scoped>\n",
       "    .dataframe tbody tr th:only-of-type {\n",
       "        vertical-align: middle;\n",
       "    }\n",
       "\n",
       "    .dataframe tbody tr th {\n",
       "        vertical-align: top;\n",
       "    }\n",
       "\n",
       "    .dataframe thead tr th {\n",
       "        text-align: left;\n",
       "    }\n",
       "\n",
       "    .dataframe thead tr:last-of-type th {\n",
       "        text-align: right;\n",
       "    }\n",
       "</style>\n",
       "<table border=\"1\" class=\"dataframe\">\n",
       "  <thead>\n",
       "    <tr>\n",
       "      <th></th>\n",
       "      <th></th>\n",
       "      <th colspan=\"2\" halign=\"left\">count</th>\n",
       "      <th colspan=\"2\" halign=\"left\">max</th>\n",
       "      <th colspan=\"2\" halign=\"left\">median</th>\n",
       "      <th colspan=\"2\" halign=\"left\">min</th>\n",
       "      <th colspan=\"2\" halign=\"left\">std</th>\n",
       "    </tr>\n",
       "    <tr>\n",
       "      <th></th>\n",
       "      <th>Direction</th>\n",
       "      <th>Incoming</th>\n",
       "      <th>Outgoing</th>\n",
       "      <th>Incoming</th>\n",
       "      <th>Outgoing</th>\n",
       "      <th>Incoming</th>\n",
       "      <th>Outgoing</th>\n",
       "      <th>Incoming</th>\n",
       "      <th>Outgoing</th>\n",
       "      <th>Incoming</th>\n",
       "      <th>Outgoing</th>\n",
       "    </tr>\n",
       "    <tr>\n",
       "      <th>TALA_Category</th>\n",
       "      <th>Document_type</th>\n",
       "      <th></th>\n",
       "      <th></th>\n",
       "      <th></th>\n",
       "      <th></th>\n",
       "      <th></th>\n",
       "      <th></th>\n",
       "      <th></th>\n",
       "      <th></th>\n",
       "      <th></th>\n",
       "      <th></th>\n",
       "    </tr>\n",
       "  </thead>\n",
       "  <tbody>\n",
       "    <tr>\n",
       "      <th rowspan=\"3\" valign=\"top\">PA</th>\n",
       "      <th>Miscellaneous issue</th>\n",
       "      <td>1.0</td>\n",
       "      <td>76.0</td>\n",
       "      <td>5583.0</td>\n",
       "      <td>-6.0</td>\n",
       "      <td>5583.0</td>\n",
       "      <td>-7529.5</td>\n",
       "      <td>5583.0</td>\n",
       "      <td>-667613.0</td>\n",
       "      <td>NaN</td>\n",
       "      <td>84145.261591</td>\n",
       "    </tr>\n",
       "    <tr>\n",
       "      <th>Miscellaneous receipt</th>\n",
       "      <td>84.0</td>\n",
       "      <td>2.0</td>\n",
       "      <td>1817021.0</td>\n",
       "      <td>-6.0</td>\n",
       "      <td>5410.5</td>\n",
       "      <td>-6592.5</td>\n",
       "      <td>2.0</td>\n",
       "      <td>-13179.0</td>\n",
       "      <td>201713.561639</td>\n",
       "      <td>9314.717629</td>\n",
       "    </tr>\n",
       "    <tr>\n",
       "      <th>Supplier receipt</th>\n",
       "      <td>180.0</td>\n",
       "      <td>113.0</td>\n",
       "      <td>2751710.0</td>\n",
       "      <td>-2505.0</td>\n",
       "      <td>126956.0</td>\n",
       "      <td>-69832.0</td>\n",
       "      <td>3911.0</td>\n",
       "      <td>-1375855.0</td>\n",
       "      <td>479370.644977</td>\n",
       "      <td>243149.028207</td>\n",
       "    </tr>\n",
       "    <tr>\n",
       "      <th rowspan=\"2\" valign=\"top\">PB</th>\n",
       "      <th>Miscellaneous issue</th>\n",
       "      <td>NaN</td>\n",
       "      <td>9.0</td>\n",
       "      <td>NaN</td>\n",
       "      <td>-135.0</td>\n",
       "      <td>NaN</td>\n",
       "      <td>-4942.0</td>\n",
       "      <td>NaN</td>\n",
       "      <td>-11362.0</td>\n",
       "      <td>NaN</td>\n",
       "      <td>3864.363642</td>\n",
       "    </tr>\n",
       "    <tr>\n",
       "      <th>Miscellaneous receipt</th>\n",
       "      <td>3.0</td>\n",
       "      <td>NaN</td>\n",
       "      <td>26060.0</td>\n",
       "      <td>NaN</td>\n",
       "      <td>24941.0</td>\n",
       "      <td>NaN</td>\n",
       "      <td>19617.0</td>\n",
       "      <td>NaN</td>\n",
       "      <td>3442.610105</td>\n",
       "      <td>NaN</td>\n",
       "    </tr>\n",
       "    <tr>\n",
       "      <th rowspan=\"3\" valign=\"top\">PC</th>\n",
       "      <th>Miscellaneous issue</th>\n",
       "      <td>NaN</td>\n",
       "      <td>84.0</td>\n",
       "      <td>NaN</td>\n",
       "      <td>0.0</td>\n",
       "      <td>NaN</td>\n",
       "      <td>-6237.0</td>\n",
       "      <td>NaN</td>\n",
       "      <td>-840312.0</td>\n",
       "      <td>NaN</td>\n",
       "      <td>115653.664539</td>\n",
       "    </tr>\n",
       "    <tr>\n",
       "      <th>Miscellaneous receipt</th>\n",
       "      <td>163.0</td>\n",
       "      <td>4.0</td>\n",
       "      <td>1978993.0</td>\n",
       "      <td>0.0</td>\n",
       "      <td>10520.0</td>\n",
       "      <td>-1900.0</td>\n",
       "      <td>0.0</td>\n",
       "      <td>-5402.0</td>\n",
       "      <td>162486.011144</td>\n",
       "      <td>2256.221251</td>\n",
       "    </tr>\n",
       "    <tr>\n",
       "      <th>Supplier receipt</th>\n",
       "      <td>234.0</td>\n",
       "      <td>78.0</td>\n",
       "      <td>3182860.0</td>\n",
       "      <td>-710.0</td>\n",
       "      <td>29216.0</td>\n",
       "      <td>-20382.0</td>\n",
       "      <td>12.0</td>\n",
       "      <td>-1818777.0</td>\n",
       "      <td>379041.811039</td>\n",
       "      <td>290438.270371</td>\n",
       "    </tr>\n",
       "  </tbody>\n",
       "</table>\n",
       "</div>"
      ],
      "text/plain": [
       "                                       count                 max           \\\n",
       "Direction                           Incoming Outgoing   Incoming Outgoing   \n",
       "TALA_Category Document_type                                                 \n",
       "PA            Miscellaneous issue        1.0     76.0     5583.0     -6.0   \n",
       "              Miscellaneous receipt     84.0      2.0  1817021.0     -6.0   \n",
       "              Supplier receipt         180.0    113.0  2751710.0  -2505.0   \n",
       "PB            Miscellaneous issue        NaN      9.0        NaN   -135.0   \n",
       "              Miscellaneous receipt      3.0      NaN    26060.0      NaN   \n",
       "PC            Miscellaneous issue        NaN     84.0        NaN      0.0   \n",
       "              Miscellaneous receipt    163.0      4.0  1978993.0      0.0   \n",
       "              Supplier receipt         234.0     78.0  3182860.0   -710.0   \n",
       "\n",
       "                                       median               min             \\\n",
       "Direction                            Incoming Outgoing Incoming   Outgoing   \n",
       "TALA_Category Document_type                                                  \n",
       "PA            Miscellaneous issue      5583.0  -7529.5   5583.0  -667613.0   \n",
       "              Miscellaneous receipt    5410.5  -6592.5      2.0   -13179.0   \n",
       "              Supplier receipt       126956.0 -69832.0   3911.0 -1375855.0   \n",
       "PB            Miscellaneous issue         NaN  -4942.0      NaN   -11362.0   \n",
       "              Miscellaneous receipt   24941.0      NaN  19617.0        NaN   \n",
       "PC            Miscellaneous issue         NaN  -6237.0      NaN  -840312.0   \n",
       "              Miscellaneous receipt   10520.0  -1900.0      0.0    -5402.0   \n",
       "              Supplier receipt        29216.0 -20382.0     12.0 -1818777.0   \n",
       "\n",
       "                                               std                 \n",
       "Direction                                 Incoming       Outgoing  \n",
       "TALA_Category Document_type                                        \n",
       "PA            Miscellaneous issue              NaN   84145.261591  \n",
       "              Miscellaneous receipt  201713.561639    9314.717629  \n",
       "              Supplier receipt       479370.644977  243149.028207  \n",
       "PB            Miscellaneous issue              NaN    3864.363642  \n",
       "              Miscellaneous receipt    3442.610105            NaN  \n",
       "PC            Miscellaneous issue              NaN  115653.664539  \n",
       "              Miscellaneous receipt  162486.011144    2256.221251  \n",
       "              Supplier receipt       379041.811039  290438.270371  "
      ]
     },
     "execution_count": 115,
     "metadata": {},
     "output_type": "execute_result"
    }
   ],
   "source": [
    "pd.pivot_table(raw_data_subset, values='Stock_Value', index=['TALA_Category','Document_type'],\n",
    "               columns=['Direction'], aggfunc = ('count', 'min', 'max', 'median', 'std'))"
   ]
  },
  {
   "cell_type": "markdown",
   "id": "ff3f7357",
   "metadata": {},
   "source": [
    "<h2> Part 5 Plot Graph </h2>"
   ]
  },
  {
   "cell_type": "markdown",
   "id": "3eccd193",
   "metadata": {},
   "source": [
    "<h3> Part 5.1 Question 3: All three graphs where direction = all </h3>"
   ]
  },
  {
   "cell_type": "markdown",
   "id": "89676276",
   "metadata": {},
   "source": [
    "<h4> Box Plot </h4>"
   ]
  },
  {
   "cell_type": "markdown",
   "id": "057860ee",
   "metadata": {},
   "source": [
    "<h4> Pie Chart </h4>"
   ]
  },
  {
   "cell_type": "markdown",
   "id": "6ecc8278",
   "metadata": {},
   "source": [
    "<h4> Stack Bar Chart </h4>"
   ]
  },
  {
   "cell_type": "markdown",
   "id": "019718c9",
   "metadata": {},
   "source": [
    "<h3> Part 5.2 Question 4: All three graphs where direction = Incoming </h3>"
   ]
  },
  {
   "cell_type": "markdown",
   "id": "e6eda97e",
   "metadata": {},
   "source": [
    "<h4> Box Plot </h4>"
   ]
  },
  {
   "cell_type": "markdown",
   "id": "829991aa",
   "metadata": {},
   "source": [
    "<h4> Pie Chart </h4>"
   ]
  },
  {
   "cell_type": "markdown",
   "id": "105e70f4",
   "metadata": {},
   "source": [
    "<h4> Stack Bar Chart </h4>"
   ]
  },
  {
   "cell_type": "markdown",
   "id": "83085f34",
   "metadata": {},
   "source": [
    "<h3> Part 5.3 Question 5: All three graphs where direction = Outgoing </h3>"
   ]
  },
  {
   "cell_type": "markdown",
   "id": "8672f048",
   "metadata": {},
   "source": [
    "<h4> Box Plot </h4>"
   ]
  },
  {
   "cell_type": "markdown",
   "id": "b0ccaf3b",
   "metadata": {},
   "source": [
    "<h4> Pie Chart </h4>"
   ]
  },
  {
   "cell_type": "markdown",
   "id": "2e181730",
   "metadata": {},
   "source": [
    "<h4> Stack Bar Chart </h4>"
   ]
  },
  {
   "cell_type": "markdown",
   "id": "9e423d17",
   "metadata": {},
   "source": [
    "<h3> Part 5.3 Question 6: All three(should be TWO) graphs where direction = Outgoing and TALA category equals to PA, PB and PC </h3>"
   ]
  },
  {
   "cell_type": "markdown",
   "id": "13cee55f",
   "metadata": {},
   "source": [
    "<h4> Box Plot </h4>"
   ]
  },
  {
   "cell_type": "markdown",
   "id": "b93d9bae",
   "metadata": {},
   "source": [
    "<h4> Pie Chart </h4>"
   ]
  },
  {
   "cell_type": "code",
   "execution_count": null,
   "id": "36a3cfea",
   "metadata": {},
   "outputs": [],
   "source": []
  }
 ],
 "metadata": {
  "kernelspec": {
   "display_name": "Python 3 (ipykernel)",
   "language": "python",
   "name": "python3"
  },
  "language_info": {
   "codemirror_mode": {
    "name": "ipython",
    "version": 3
   },
   "file_extension": ".py",
   "mimetype": "text/x-python",
   "name": "python",
   "nbconvert_exporter": "python",
   "pygments_lexer": "ipython3",
   "version": "3.9.13"
  }
 },
 "nbformat": 4,
 "nbformat_minor": 5
}
